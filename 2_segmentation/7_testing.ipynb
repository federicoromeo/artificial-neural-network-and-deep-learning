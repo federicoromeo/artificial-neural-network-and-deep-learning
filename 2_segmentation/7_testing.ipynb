{
 "cells": [
  {
   "cell_type": "markdown",
   "metadata": {},
   "source": [
    "# TESTING and SUBMITTING\n",
    "By appending and executing this notebook at the end of training, we are able to test our model and evaluate its accuracy."
   ]
  },
  {
   "cell_type": "code",
   "execution_count": null,
   "metadata": {},
   "outputs": [],
   "source": [
    "from IPython.core.interactiveshell import InteractiveShell\n",
    "InteractiveShell.ast_node_interactivity = \"all\""
   ]
  },
  {
   "cell_type": "code",
   "execution_count": null,
   "metadata": {},
   "outputs": [],
   "source": [
    "from PIL import Image\n",
    "from os.path import join\n",
    "from os import listdir, getcwd"
   ]
  },
  {
   "cell_type": "markdown",
   "metadata": {},
   "source": [
    "#### Perform RLE encoding given the image"
   ]
  },
  {
   "cell_type": "code",
   "execution_count": null,
   "metadata": {},
   "outputs": [],
   "source": [
    "# img: numpy array, 1 - foreground, 0 - background\n",
    "# Returns run length as string formatted \n",
    "\n",
    "def rle_encode(img):\n",
    "   \n",
    "    pixels = img.flatten()\n",
    "    pixels = np.concatenate([[0], pixels, [0]])\n",
    "    runs = np.where(pixels[1:] != pixels[:-1])[0] + 1\n",
    "    runs[1::2] -= runs[::2]\n",
    "   \n",
    "    return ' '.join(str(x) for x in runs)"
   ]
  },
  {
   "cell_type": "markdown",
   "metadata": {},
   "source": [
    "#### Get image crop from the name"
   ]
  },
  {
   "cell_type": "code",
   "execution_count": 1,
   "metadata": {},
   "outputs": [],
   "source": [
    "def get_crop(img_name):\n",
    "    crop = \"Haricot\" if \"haricot\" in img_name else \"Mais\"\n",
    "    return crop"
   ]
  },
  {
   "cell_type": "markdown",
   "metadata": {},
   "source": [
    "#### Get image infos from the name, such as team, crop, and shape"
   ]
  },
  {
   "cell_type": "code",
   "execution_count": 2,
   "metadata": {},
   "outputs": [],
   "source": [
    "def get_data(img_name):\n",
    "    \n",
    "    if \"Bipbip\" in img_name:\n",
    "        return \"Bipbip\", get_crop(img_name), [1536,2048]\n",
    "    \n",
    "    elif \"Pead\" in img_name:   \n",
    "        return \"Pead\", get_crop(img_name), [2464,3280]\n",
    "        \n",
    "    elif \"Roseau\" in img_name:   \n",
    "        return \"Roseau\", get_crop(img_name), [819,1228]\n",
    "        \n",
    "    else:  \n",
    "        return \"Weedelec\", get_crop(img_name), [3456,5184]"
   ]
  },
  {
   "cell_type": "markdown",
   "metadata": {},
   "source": [
    "#### example:"
   ]
  },
  {
   "cell_type": "code",
   "execution_count": 3,
   "metadata": {},
   "outputs": [
    {
     "data": {
      "text/plain": [
       "('Roseau', 'Haricot', [819, 1228])"
      ]
     },
     "execution_count": 3,
     "metadata": {},
     "output_type": "execute_result"
    }
   ],
   "source": [
    "get_data('Roseau_haricot_0010_false.png')"
   ]
  },
  {
   "cell_type": "markdown",
   "metadata": {},
   "source": [
    "#### Compute prediction on test images, and create dictionary out of it"
   ]
  },
  {
   "cell_type": "code",
   "execution_count": null,
   "metadata": {},
   "outputs": [],
   "source": [
    "import json\n",
    "\n",
    "submission_dict = {}\n",
    "test_dir = os.path.join('/content/drive/My Drive','test_Set')\n",
    "\n",
    "for image in os.listdir(test_dir):\n",
    "\n",
    "    # Take image name by removing the extension\n",
    "    img_name = image[:-4]\n",
    "    image = os.path.join(test_dir,image)\n",
    "    img = Image.open(image) \n",
    "    img = img.resize([1024,1024], Image.ANTIALIAS)\n",
    "  \n",
    "    team, crop, shape = get_data(img_name)\n",
    "\n",
    "    expanded_im = tf.expand_dims(np.array(img), axis=0)\n",
    "\n",
    "    # PREDICT\n",
    "    prediction = model.predict(expanded_im)\n",
    "    \n",
    "    mask_arr = tf.image.resize(prediction, shape, method='nearest')\n",
    "    mask_arr = tf.argmax(mask_arr, -1)[0, ...]\n",
    "    mask_arr = np.array(mask_arr)\n",
    "\n",
    "    submission_dict[img_name] = {}\n",
    "    submission_dict[img_name]['shape'] = mask_arr.shape\n",
    "    submission_dict[img_name]['team'] = team\n",
    "    submission_dict[img_name]['crop'] = crop\n",
    "    submission_dict[img_name]['segmentation'] = {}\n",
    "\n",
    "    rle_encoded_crop = rle_encode(mask_arr == 1)\n",
    "    rle_encoded_weed = rle_encode(mask_arr == 2)\n",
    "    submission_dict[img_name]['segmentation']['crop'] = rle_encoded_crop\n",
    "    submission_dict[img_name]['segmentation']['weed'] = rle_encoded_weed\n"
   ]
  },
  {
   "cell_type": "markdown",
   "metadata": {},
   "source": [
    "#### Finally, save the results into the json file for the submission"
   ]
  },
  {
   "cell_type": "code",
   "execution_count": null,
   "metadata": {},
   "outputs": [],
   "source": [
    "with open(join('/content/drive/My Drive','submission.json'), 'w') as f:\n",
    "    json.dump(submission_dict, f)"
   ]
  }
 ],
 "metadata": {
  "kernelspec": {
   "display_name": "Python 3",
   "language": "python",
   "name": "python3"
  },
  "language_info": {
   "codemirror_mode": {
    "name": "ipython",
    "version": 3
   },
   "file_extension": ".py",
   "mimetype": "text/x-python",
   "name": "python",
   "nbconvert_exporter": "python",
   "pygments_lexer": "ipython3",
   "version": "3.7.9"
  }
 },
 "nbformat": 4,
 "nbformat_minor": 4
}
