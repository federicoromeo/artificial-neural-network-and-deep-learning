{
 "cells": [
  {
   "cell_type": "markdown",
   "metadata": {},
   "source": [
    "# TEST SET UNIFICATION\n",
    "In this notebook we take all the images from the test set and put them in a single directory, in order to make the testing process easier, and creating a json file with all the needed informations about the images. The same result will be obtained in the model notebooks by simply looking at the names of the files."
   ]
  },
  {
   "cell_type": "code",
   "execution_count": null,
   "metadata": {},
   "outputs": [],
   "source": [
    "import shutil, cv2\n",
    "from os.path import join, exists\n",
    "from os import mkdir, getcwd, listdir"
   ]
  },
  {
   "cell_type": "markdown",
   "metadata": {},
   "source": [
    "#### Function to create directory if it doesn't exist"
   ]
  },
  {
   "cell_type": "code",
   "execution_count": null,
   "metadata": {},
   "outputs": [],
   "source": [
    "def create_dir(path,name):\n",
    "    if not exists(join(path,name)):\n",
    "        mkdir(join(path, name), mode = 0o666)\n",
    "    return join(path, name)"
   ]
  },
  {
   "cell_type": "markdown",
   "metadata": {},
   "source": [
    "#### Iterate over all the test images"
   ]
  },
  {
   "cell_type": "code",
   "execution_count": null,
   "metadata": {},
   "outputs": [],
   "source": [
    "cwd = getcwd()\n",
    "\n",
    "test_dict = dict()\n",
    "\n",
    "test_dir = join(cwd,'Development_Dataset','Test_Dev')\n",
    "new_test_dir = create_dir(cwd,'TEST')\n",
    "\n",
    "team_dir = listdir(test_dir)\n",
    "#print(team_dir)\n",
    "\n",
    "i = 0\n",
    "\n",
    "for team in team_dir:\n",
    "    #print(team)\n",
    "    crops = listdir(join(test_dir,team))\n",
    "\n",
    "    for crop in crops:\n",
    "        #print(crop)\n",
    "        images = listdir(join(test_dir,join(team,join(crop,'Images'))))\n",
    "\n",
    "        for image in images:\n",
    "            img_name = image[:-4]\n",
    "            #print(img_name)\n",
    "            \n",
    "            image_full_path = join(join(test_dir, join(team, join(crop, 'Images'))), image)\n",
    "            im = cv2.imread(image_full_path)\n",
    "            h, w, s = im.shape\n",
    "           \n",
    "            # Copy the test image in the new directory\n",
    "            shutil.copy(image_full_path,new_test_dir)\n",
    "            \n",
    "            # Filling the dictionary\n",
    "            test_dict[i] = {'Name': img_name,'Shape': [h,w], 'team': team, 'crop' : crop}\n",
    "            i += 1"
   ]
  },
  {
   "cell_type": "markdown",
   "metadata": {},
   "source": [
    "#### Creating the json from the dictionary"
   ]
  },
  {
   "cell_type": "code",
   "execution_count": null,
   "metadata": {},
   "outputs": [],
   "source": [
    "import json\n",
    "\n",
    "with open(join(new_test_dir,\"test_set.json\"), \"w\") as outfile:\n",
    "    json.dump(test_dict, outfile)"
   ]
  }
 ],
 "metadata": {
  "kernelspec": {
   "display_name": "Python 3",
   "language": "python",
   "name": "python3"
  },
  "language_info": {
   "codemirror_mode": {
    "name": "ipython",
    "version": 3
   },
   "file_extension": ".py",
   "mimetype": "text/x-python",
   "name": "python",
   "nbconvert_exporter": "python",
   "pygments_lexer": "ipython3",
   "version": "3.7.9"
  }
 },
 "nbformat": 4,
 "nbformat_minor": 4
}
