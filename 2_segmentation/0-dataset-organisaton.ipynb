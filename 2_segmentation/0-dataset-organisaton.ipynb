{
 "cells": [
  {
   "cell_type": "markdown",
   "metadata": {},
   "source": [
    "# DATASET ORGANISATION\n",
    "\n",
    "In this notebook we divide the images in the necessary folders, by creating the same structure of Training subdirectories also for Validation. "
   ]
  },
  {
   "cell_type": "markdown",
   "metadata": {},
   "source": [
    "#### Function to create directory if it doesn't exist"
   ]
  },
  {
   "cell_type": "code",
   "execution_count": 1,
   "metadata": {},
   "outputs": [],
   "source": [
    "from os import getcwd, mkdir, walk, listdir, replace\n",
    "from os.path import exists, join, isfile\n",
    "\n",
    "def create_dir(path,name):\n",
    "    if not exists(join(path,name)):\n",
    "        mkdir(join(path, name), mode = 0o666)\n",
    "    return join(path, name)"
   ]
  },
  {
   "cell_type": "markdown",
   "metadata": {},
   "source": [
    "#### Get all the subfolders of the Training directory, and group them in lists"
   ]
  },
  {
   "cell_type": "code",
   "execution_count": null,
   "metadata": {},
   "outputs": [],
   "source": [
    "cwd = getcwd()\n",
    "\n",
    "# General Dataset directory\n",
    "dataset_dir = join(cwd, 'Development_Dataset')\n",
    "\n",
    "# TRAINING\n",
    "\n",
    "training_dir = join(dataset_dir, 'Training')\n",
    "\n",
    "bip_bip_train_dir  = join(training_dir, 'BipBip')\n",
    "pead_train_dir     = join(training_dir, 'Pead')\n",
    "roseau_train_dir   = join(training_dir, 'Roseau')\n",
    "weedelec_train_dir = join(training_dir, 'Weedelec')\n",
    "\n",
    "train_plant_subdirs = []\n",
    "train_haricot_subdirs = []\n",
    "train_mais_subdirs = []\n",
    "name_subdirs = ['BipBip', 'Pead', 'Roseau', 'Weedelec']\n",
    "training_subdirs = [bip_bip_train_dir, pead_train_dir, roseau_train_dir, weedelec_train_dir]\n",
    "\n",
    "training_dict = {key:value for key,value in zip(name_subdirs,training_subdirs)}\n",
    "\n",
    "for key, value in training_dict.items():\n",
    "\n",
    "    train_plant_dir = create_dir(key,value)\n",
    "    train_plant_subdirs.append(train_plant_dir)\n",
    "    #print(plant_dir)\n",
    "    \n",
    "    train_haricot_dir = create_dir(train_plant_dir,'Haricot')\n",
    "    train_haricot_subdirs.append(train_haricot_dir)\n",
    "    train_images_dir = create_dir(train_haricot_dir,'Images')\n",
    "    train_masks_dir  = create_dir(train_haricot_dir,'Masks')\n",
    "    #print(train_haricot_dir)\n",
    " \n",
    "    train_mais_dir = create_dir(train_plant_dir,'Mais')      \n",
    "    train_mais_subdirs.append(train_mais_dir)\n",
    "    train_images_dir = create_dir(train_mais_dir,'Images')\n",
    "    train_masks_dir  = create_dir(train_mais_dir,'Masks')\n",
    "    #print(train_mais_dir)"
   ]
  },
  {
   "cell_type": "markdown",
   "metadata": {},
   "source": [
    "#### Create all the subfolders of the Validation directory, with the same structure of Training"
   ]
  },
  {
   "cell_type": "code",
   "execution_count": null,
   "metadata": {},
   "outputs": [],
   "source": [
    "# VALIDATION\n",
    "\n",
    "validation_dir = create_dir(dataset_dir, 'Validation')\n",
    "        \n",
    "bip_bip_valid_dir  = join(validation_dir, 'BipBip')\n",
    "pead_valid_dir     = join(validation_dir, 'Pead')\n",
    "roseau_valid_dir   = join(validation_dir, 'Roseau')\n",
    "weedelec_valid_dir = join(validation_dir, 'Weedelec')\n",
    "\n",
    "name_subdirs = ['BipBip', 'Pead', 'Roseau', 'Weedelec']\n",
    "validation_subdirs = [bip_bip_valid_dir, pead_valid_dir, roseau_valid_dir, weedelec_valid_dir]\n",
    "valid_plant_subdirs = []\n",
    "valid_haricot_subdirs = []\n",
    "valid_mais_subdirs = []\n",
    "\n",
    "validation_dict = {key:value for key,value in zip(name_subdirs,validation_subdirs)}\n",
    "\n",
    "for key, value in validation_dict.items():\n",
    "\n",
    "    valid_plant_dir = create_dir(key,value)\n",
    "    valid_plant_subdirs.append(valid_plant_dir)\n",
    "    \n",
    "    valid_haricot_dir = create_dir(valid_plant_dir,'Haricot')\n",
    "    valid_haricot_subdirs.append(valid_haricot_dir)\n",
    "    valid_images_dir = create_dir(valid_haricot_dir,'Images')\n",
    "    valid_masks_dir  = create_dir(valid_haricot_dir,'Masks')\n",
    "    print(valid_haricot_dir + \"\\n\" + valid_images_dir + \"\\n\" + valid_masks_dir)\n",
    " \n",
    "    valid_mais_dir = create_dir(valid_plant_dir,'Mais')      \n",
    "    valid_mais_subdirs.append(valid_mais_dir)\n",
    "    valid_images_dir = create_dir(valid_mais_dir,'Images')\n",
    "    valid_masks_dir  = create_dir(valid_mais_dir,'Masks')\n",
    "    print(valid_mais_dir + \"\\n\" + valid_images_dir + \"\\n\" + valid_masks_dir)\n",
    "    "
   ]
  },
  {
   "cell_type": "markdown",
   "metadata": {},
   "source": [
    "#### Group all subdirs merging Haricot and Mais ones, and print them out for visualization purpose"
   ]
  },
  {
   "cell_type": "code",
   "execution_count": null,
   "metadata": {},
   "outputs": [],
   "source": [
    "all_train_subdirs = []\n",
    "all_train_subdirs = train_haricot_subdirs + train_mais_subdirs\n",
    "for dir in all_train_subdirs:\n",
    "    print(dir)\n",
    "\n",
    "all_valid_subdirs = []\n",
    "all_valid_subdirs = valid_haricot_subdirs  + valid_mais_subdirs\n",
    "for dir in all_valid_subdirs:\n",
    "    print(dir)"
   ]
  },
  {
   "cell_type": "markdown",
   "metadata": {},
   "source": [
    "#### Move 10% of each Training subfolder to the correspondent Validation subfolder "
   ]
  },
  {
   "cell_type": "code",
   "execution_count": null,
   "metadata": {
    "scrolled": true
   },
   "outputs": [],
   "source": [
    "import shutil\n",
    "\n",
    "for i in range(8):\n",
    "    \n",
    "    train_images_dir = join(all_train_subdirs[i], 'Images')\n",
    "    train_masks_dir  = join(all_train_subdirs[i], 'Masks')\n",
    "    valid_images_dir = join(all_valid_subdirs[i], 'Images')\n",
    "    valid_masks_dir  = join(all_valid_subdirs[i], 'Masks')\n",
    "   \n",
    "    print()\n",
    "    print(train_images_dir)\n",
    "    print(train_masks_dir)\n",
    "    print(valid_images_dir)\n",
    "    print(valid_masks_dir)\n",
    "    print()\n",
    "\n",
    "    # List of every file in subfolder\n",
    "    onlyfiles1 = [f1 for f1 in listdir(train_images_dir) if isfile(join(train_images_dir,f1))]\n",
    "    onlyfiles2 = [f2 for f2 in listdir(train_masks_dir)  if isfile(join(train_masks_dir, f2))]\n",
    "    \n",
    "    # number of images/masks in this directory\n",
    "    lenghtt = len(onlyfiles1)\n",
    "    \n",
    "    j = 0\n",
    "    while j < lenghtt:\n",
    "\n",
    "        try:\n",
    "\n",
    "            #move\n",
    "            if j % 10 == 0: \n",
    "                image_filename = onlyfiles1[j]\n",
    "                mask_filename  = onlyfiles2[j]\n",
    "                shutil.move( join(train_images_dir,image_filename), join(valid_images_dir,image_filename))\n",
    "                shutil.move( join(train_masks_dir, mask_filename),  join(valid_masks_dir,mask_filename))\n",
    "\n",
    "            #no move    \n",
    "            else:\n",
    "                pass\n",
    "\n",
    "        except FileNotFoundError:\n",
    "            pass\n",
    "        \n",
    "        j += 1 \n",
    "        \n",
    "    \n",
    "    print(\"Finished with: \" + str(train_images_dir))\n",
    "    print(\"Finished with: \" + str(train_masks_dir))\n",
    "    \n",
    "    i += 1\n",
    "    print(\"\\n\")\n",
    "    "
   ]
  },
  {
   "cell_type": "markdown",
   "metadata": {},
   "source": [
    "### Now the directories of the dataset should look like:\n",
    "\n",
    "* Training\n",
    "    * BipBip\n",
    "        * \\Haricot\n",
    "        * \\Mais\n",
    "    * Pead\n",
    "        * \\Haricot\n",
    "        * \\Mais\n",
    "    * Roseau\n",
    "        * \\Haricot\n",
    "        * \\Mais\n",
    "    * Weedelec\n",
    "        * \\Haricot\n",
    "        * \\Mais\n",
    "    \n",
    "* Validation\n",
    "    * BipBip\n",
    "        * \\Haricot\n",
    "        * \\Mais\n",
    "    * Pead\n",
    "        * \\Haricot\n",
    "        * \\Mais\n",
    "    * Roseau\n",
    "        * \\Haricot\n",
    "        * \\Mais\n",
    "    * Weedelec\n",
    "        * \\Haricot\n",
    "        * \\Mais\n",
    "        \n",
    "        \n",
    "##### We didn't touch Test directory."
   ]
  }
 ],
 "metadata": {
  "kernelspec": {
   "display_name": "Python 3",
   "language": "python",
   "name": "python3"
  },
  "language_info": {
   "codemirror_mode": {
    "name": "ipython",
    "version": 3
   },
   "file_extension": ".py",
   "mimetype": "text/x-python",
   "name": "python",
   "nbconvert_exporter": "python",
   "pygments_lexer": "ipython3",
   "version": "3.7.9"
  }
 },
 "nbformat": 4,
 "nbformat_minor": 4
}
