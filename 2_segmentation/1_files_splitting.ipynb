{
 "cells": [
  {
   "cell_type": "markdown",
   "metadata": {},
   "source": [
    "# FILES SPLITTING\n",
    "In this notebook we manage our files and create the needed txt files, in order to prepare them for the model seen in multi-class segmentation."
   ]
  },
  {
   "cell_type": "markdown",
   "metadata": {},
   "source": [
    "#### Function to create directory if it doesn't exist"
   ]
  },
  {
   "cell_type": "code",
   "execution_count": null,
   "metadata": {},
   "outputs": [],
   "source": [
    "def create_dir(path,name):\n",
    "    if not exists(join(path,name)):\n",
    "        mkdir(join(path, name), mode = 0o666)\n",
    "    return join(path, name)"
   ]
  },
  {
   "cell_type": "markdown",
   "metadata": {},
   "source": [
    "#### Create Images, Annotation and Split folders; valid.txt and train.txt files to handle the splitting"
   ]
  },
  {
   "cell_type": "code",
   "execution_count": null,
   "metadata": {},
   "outputs": [],
   "source": [
    "from os import getcwd, mkdir, listdir\n",
    "from os.path import join, isfile, exists\n",
    "\n",
    "# entry condition: dir in cwd with all images and mask mixed together\n",
    "\n",
    "input = input(\"Name of the directory where you have all the images?\")\n",
    "cwd = join(getcwd(), input)\n",
    "\n",
    "images_dir = create_dir(cwd,'Images')\n",
    "masks_dir  = create_dir(cwd,'Annotations')\n",
    "splits_dir = create_dir(cwd,'Splits')\n",
    "\n",
    "files = [f for f in listdir(cwd) if '.png' in f or '.jpg' in f]\n",
    "\n",
    "f_train = open(join(splits_dir,'train.txt'), \"w+\")\n",
    "f_valid = open(join(splits_dir,  'val.txt'), \"w+\")"
   ]
  },
  {
   "cell_type": "markdown",
   "metadata": {},
   "source": [
    "#### Since we decided to start with training the multi-class segmentation notebook seen in the lab, we created this cell to emulate the organisation of data needed in the class CustomDataset. In fact here, after moving all the masks in Annotation folder and images in Images folder, we write 10% of images/masks name in valid.txt, and the rest in train.txt"
   ]
  },
  {
   "cell_type": "code",
   "execution_count": null,
   "metadata": {},
   "outputs": [],
   "source": [
    "import shutil\n",
    "\n",
    "length = len(files)\n",
    "j = 0\n",
    "\n",
    "while j < length:\n",
    "    \n",
    "    try:\n",
    "\n",
    "        name = files[j][:-4]\n",
    "\n",
    "        # Validation \n",
    "        if j % 10 == 0: \n",
    "            f_valid.write(name + '\\n')\n",
    "        \n",
    "        # Training   \n",
    "        else:\n",
    "            f_train.write(name + '\\n')\n",
    "        \n",
    "        image_name = name + '.jpg'\n",
    "        mask_name  = name + '.png'\n",
    "        print(image_name)\n",
    "        print(mask_name)\n",
    "        shutil.move(join(cwd,image_name), join(images_dir,image_name))\n",
    "        shutil.move(join(cwd, mask_name), join(masks_dir, mask_name ))\n",
    "    \n",
    "    except FileNotFoundError:\n",
    "        pass\n",
    "    \n",
    "    j += 1\n",
    "    "
   ]
  },
  {
   "cell_type": "code",
   "execution_count": null,
   "metadata": {},
   "outputs": [],
   "source": [
    "f_train.close()\n",
    "f_valid.close()"
   ]
  },
  {
   "cell_type": "markdown",
   "metadata": {},
   "source": [
    "### At the end, the directory should look like:\n",
    "\n",
    "* Images\n",
    "    * img1.jpg\n",
    "    * ...\n",
    "    * imgX.jpg\n",
    "    \n",
    "    \n",
    "* Annotations\n",
    "    * mask1.png\n",
    "    * ...\n",
    "    * maskX.png\n",
    "\n",
    "\n",
    "* Split\n",
    "    * valid.txt\n",
    "    * train.txt\n"
   ]
  }
 ],
 "metadata": {
  "kernelspec": {
   "display_name": "Python 3",
   "language": "python",
   "name": "python3"
  },
  "language_info": {
   "codemirror_mode": {
    "name": "ipython",
    "version": 3
   },
   "file_extension": ".py",
   "mimetype": "text/x-python",
   "name": "python",
   "nbconvert_exporter": "python",
   "pygments_lexer": "ipython3",
   "version": "3.7.9"
  }
 },
 "nbformat": 4,
 "nbformat_minor": 4
}
