{
 "cells": [
  {
   "cell_type": "markdown",
   "metadata": {},
   "source": [
    "# DATASET ORGANISATION\n",
    "\n",
    "### In this notebook we divided the images in folders. "
   ]
  },
  {
   "cell_type": "markdown",
   "metadata": {},
   "source": [
    "#### First of all we created the validation folder, and we created the three subdirectories for training and validation, which correspond to the three classes to classify, which are:\n",
    "* 0: All the people in the image are wearing a mask\n",
    "* 1: No person in the image is wearing a mask\n",
    "* 2: Someone in the image is not wearing a mask"
   ]
  },
  {
   "cell_type": "code",
   "execution_count": null,
   "metadata": {},
   "outputs": [],
   "source": [
    "import os\n",
    "\n",
    "# General Dataset directory\n",
    "cwd = os.getcwd()\n",
    "dataset_dir = os.path.join(cwd, 'MaskDataset')\n",
    "\n",
    "\n",
    "# TRAINING DIRECTORY\n",
    "\n",
    "training_dir = os.path.join(dataset_dir, 'training')\n",
    "\n",
    "# SubDirectories for every class\n",
    "if not os.path.exists(os.path.join(training_dir, \"0\")):\n",
    "    os.mkdir(os.path.join(training_dir, \"0\"), mode = 0o666)\n",
    "if not os.path.exists(os.path.join(training_dir, \"1\")):\n",
    "    os.mkdir(os.path.join(training_dir, \"1\"), mode = 0o666)\n",
    "if not os.path.exists(os.path.join(training_dir, \"2\")):\n",
    "    os.mkdir(os.path.join(training_dir, \"2\"), mode = 0o666)\n",
    "\n",
    "# Naming them for simplicity   \n",
    "zero_train_dir = os.path.join(training_dir, \"0\")\n",
    "one_train_dir  = os.path.join(training_dir, \"1\")\n",
    "two_train_dir  = os.path.join(training_dir, \"2\")\n",
    "\n",
    "\n",
    "# VALIDATION DIRECTORY\n",
    "\n",
    "if not os.path.exists(os.path.join(dataset_dir, 'validation')):\n",
    "    os.mkdir(os.path.join(dataset_dir, 'validation'))\n",
    "valid_dir = os.path.join(dataset_dir, 'validation')\n",
    "\n",
    "# SubDirectories for every class\n",
    "if not os.path.exists(os.path.join(valid_dir, \"0\")):\n",
    "    os.mkdir(os.path.join(valid_dir, \"0\"), mode = 0o666)\n",
    "if not os.path.exists(os.path.join(valid_dir, \"1\")):\n",
    "    os.mkdir(os.path.join(valid_dir, \"1\"), mode = 0o666)\n",
    "if not os.path.exists(os.path.join(valid_dir, \"2\")):\n",
    "    os.mkdir(os.path.join(valid_dir, \"2\"), mode = 0o666)\n",
    "    \n",
    "# Naming them for simplicity   \n",
    "zero_valid_dir = os.path.join(valid_dir, \"0\")\n",
    "one_valid_dir  = os.path.join(valid_dir, \"1\")\n",
    "two_valid_dir  = os.path.join(valid_dir, \"2\")"
   ]
  },
  {
   "cell_type": "markdown",
   "metadata": {},
   "source": [
    "#### Here we got every label from the json file and moved the correspondant image to right class folder, dispatching 15% of them to the folder to compute validation when training our models (We could have used parameter validation_split). Obviously we didn't touch test folder."
   ]
  },
  {
   "cell_type": "code",
   "execution_count": null,
   "metadata": {},
   "outputs": [],
   "source": [
    "import itertools\n",
    "import json\n",
    "\n",
    "# 15% of images should go to validation directory, that is 15 over 100, same as 3 over 20\n",
    "# We used itertools library, that was helpful to select only a percentage of the images and shift them through directories\n",
    "range20 = itertools.cycle(range(1,21,1))\n",
    "\n",
    "# Read the json file with all the image-label mapping \n",
    "with open(os.path.join(dataset_dir, 'train_gt.json'), \"r\") as json_file:\n",
    "    data = json.load(json_file)\n",
    "    \n",
    "# Cycle over json \"dictionary\" to partition the correct images to the right subdirectories   \n",
    "for key, value in data.items():\n",
    "    \n",
    "    count = next(range20)\n",
    "    \n",
    "    try:\n",
    "   \n",
    "        if value == 0:\n",
    "            if count <= 17:\n",
    "                os.replace(os.path.join(training_dir, key), os.path.join(zero_train_dir, key))\n",
    "            else:\n",
    "                os.replace(os.path.join(training_dir, key), os.path.join(zero_valid_dir, key)) \n",
    "\n",
    "        elif value == 1:\n",
    "            if count <= 17:\n",
    "                os.replace(os.path.join(training_dir, key), os.path.join(one_train_dir, key))\n",
    "            else:\n",
    "                os.replace(os.path.join(training_dir, key), os.path.join(one_valid_dir, key)) \n",
    "\n",
    "        else:\n",
    "            if count <= 17:\n",
    "                os.replace(os.path.join(training_dir, key), os.path.join(two_train_dir, key)) \n",
    "            else:\n",
    "                os.replace(os.path.join(training_dir, key), os.path.join(two_valid_dir, key))\n",
    "    \n",
    "    except FileNotFoundError:\n",
    "        pass"
   ]
  },
  {
   "cell_type": "markdown",
   "metadata": {},
   "source": [
    "### Now the directories of the dataset should look like:\n",
    "\n",
    "\n",
    "* training \\ 0  : 1615 images\n",
    "* training \\ 1  : 1615 images\n",
    "* training \\ 2  : 1544 images\n",
    "\n",
    "\n",
    "* validation \\ 0  : 285 images\n",
    "* validation \\ 1  : 282 images\n",
    "* validation \\ 2  : 273 images\n",
    "\n",
    "\n",
    "* test : 450 images"
   ]
  },
  {
   "cell_type": "code",
   "execution_count": null,
   "metadata": {},
   "outputs": [],
   "source": []
  }
 ],
 "metadata": {
  "kernelspec": {
   "display_name": "Python 3",
   "language": "python",
   "name": "python3"
  },
  "language_info": {
   "codemirror_mode": {
    "name": "ipython",
    "version": 3
   },
   "file_extension": ".py",
   "mimetype": "text/x-python",
   "name": "python",
   "nbconvert_exporter": "python",
   "pygments_lexer": "ipython3",
   "version": "3.7.9"
  }
 },
 "nbformat": 4,
 "nbformat_minor": 4
}
