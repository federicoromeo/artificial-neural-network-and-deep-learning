{
 "cells": [
  {
   "cell_type": "markdown",
   "metadata": {},
   "source": [
    "# INCEPTION V3\n",
    "### This is our Transfer Learning final model which allowed us to reach 0,937 of accuracy on the test set"
   ]
  },
  {
   "cell_type": "code",
   "execution_count": null,
   "metadata": {},
   "outputs": [],
   "source": [
    "from IPython.core.interactiveshell import InteractiveShell\n",
    "InteractiveShell.ast_node_interactivity = \"all\""
   ]
  },
  {
   "cell_type": "code",
   "execution_count": null,
   "metadata": {
    "_cell_guid": "79c7e3d0-c299-4dcb-8224-4455121ee9b0",
    "_uuid": "d629ff2d2480ee46fbb7e2d37f6b5fab8052498a"
   },
   "outputs": [],
   "source": [
    "import os\n",
    "\n",
    "cwd = os.getcwd()\n",
    "dataset_dir = '../input/maskdataset/MaskDataset'\n",
    "\n",
    "# Training Directory\n",
    "train_data_dir = os.path.join(dataset_dir, 'training')\n",
    "\n",
    "# Validation Directory\n",
    "valid_data_dir = os.path.join(dataset_dir, 'validation')"
   ]
  },
  {
   "cell_type": "markdown",
   "metadata": {},
   "source": [
    "### Data augmentation"
   ]
  },
  {
   "cell_type": "code",
   "execution_count": null,
   "metadata": {},
   "outputs": [],
   "source": [
    "from tensorflow.keras.preprocessing.image import ImageDataGenerator\n",
    "\n",
    "transformation_ratio = .05  # how aggressive will be the data augmentation/transformation\n",
    "\n",
    "# Create training ImageDataGenerator object\n",
    "train_data_gen = ImageDataGenerator( rotation_range=transformation_ratio,\n",
    "                                     shear_range=transformation_ratio,\n",
    "                                     zoom_range=transformation_ratio,\n",
    "                                     cval=transformation_ratio,\n",
    "                                     horizontal_flip=True,\n",
    "                                     vertical_flip=True,\n",
    "                                     rescale=1./255 )\n",
    "\n",
    "# Create validation and test ImageDataGenerator objects\n",
    "valid_data_gen = ImageDataGenerator(rescale=1./255)\n",
    "test_data_gen = ImageDataGenerator(rescale=1./255)"
   ]
  },
  {
   "cell_type": "markdown",
   "metadata": {},
   "source": [
    "### Dataset Generators"
   ]
  },
  {
   "cell_type": "code",
   "execution_count": null,
   "metadata": {},
   "outputs": [],
   "source": [
    "import tensorflow as tf\n",
    "import numpy as np\n",
    "\n",
    "# Fix seed for reproducible results\n",
    "seed = 9\n",
    "np.random.seed(seed=seed)\n",
    "tf.random.set_seed(seed)\n",
    "\n",
    "# Number of classes\n",
    "num_classes = 3  \n",
    "\n",
    "# Img shape\n",
    "img_h, img_w = 408, 612  \n",
    "\n",
    "# Batch size\n",
    "batch_size = 8 \n",
    "\n",
    "# Training\n",
    "train_gen = train_data_gen.flow_from_directory( train_data_dir,\n",
    "                                                target_size=(img_h, img_w),\n",
    "                                                batch_size=batch_size,\n",
    "                                                class_mode='categorical')\n",
    "\n",
    "# Validation\n",
    "valid_gen = valid_data_gen.flow_from_directory(valid_data_dir,\n",
    "                                               target_size=(img_h, img_w),\n",
    "                                               batch_size=batch_size,\n",
    "                                               class_mode='categorical')\n",
    "# Test\n",
    "test_data_dir = os.path.join(dataset_dir, 'test')\n",
    "test_gen = test_data_gen.flow_from_directory(test_data_dir,\n",
    "                                             target_size=(img_h, img_w),\n",
    "                                             batch_size=batch_size, \n",
    "                                             class_mode='categorical',\n",
    "                                             shuffle=False,\n",
    "                                             seed=seed)\n",
    "\n",
    "\n",
    "# Training\n",
    "train_dataset = tf.data.Dataset.from_generator(lambda: train_gen,\n",
    "                                               output_types=(tf.float32, tf.float32),\n",
    "                                               output_shapes=([None, img_h, img_w, 3], [None, num_classes]))\n",
    "# Repeat\n",
    "train_dataset = train_dataset.repeat()\n",
    "\n",
    "\n",
    "\n",
    "# Validation\n",
    "valid_dataset = tf.data.Dataset.from_generator(lambda: valid_gen, \n",
    "                                               output_types=(tf.float32, tf.float32),\n",
    "                                               output_shapes=([None, img_h, img_w, 3], [None, num_classes]))\n",
    "# Repeat\n",
    "valid_dataset = valid_dataset.repeat()\n",
    "\n",
    "\n",
    "\n",
    "# Test\n",
    "test_dataset = tf.data.Dataset.from_generator(lambda: test_gen,\n",
    "                                              output_types=(tf.float32, tf.float32),\n",
    "                                              output_shapes=([None, img_h, img_w, 3], [None, num_classes]))\n",
    "# Repeat\n",
    "test_dataset = valid_dataset.repeat()"
   ]
  },
  {
   "cell_type": "markdown",
   "metadata": {},
   "source": [
    "### Model Creation"
   ]
  },
  {
   "cell_type": "code",
   "execution_count": null,
   "metadata": {},
   "outputs": [],
   "source": [
    "import keras\n",
    "from keras import backend as K\n",
    "from keras.layers import *\n",
    "\n",
    "#Image data is represented in a three-dimensional array\n",
    "input_shape = (img_h, img_w, 3) #rows, columns, channels\n",
    "\n",
    "#Load InceptionV3 model    \n",
    "base_model = tf.keras.applications.InceptionV3(input_shape=input_shape, weights='imagenet', include_top=False)\n",
    "\n",
    "# blocking top model   \n",
    "x = base_model.output\n",
    "x = GlobalAveragePooling2D()(x)                   # GAP gives us the vector with averages\n",
    "x = Dense(512, activation='relu', name='fc1')(x)  # only one fully connected layer\n",
    "x = Dropout(0.5)(x)                               # to prevent overfitting\n",
    "\n",
    "# last layer\n",
    "predictions = Dense(num_classes, activation='softmax', name='predictions')(x)\n",
    "\n",
    "# add your top layer block to your base model\n",
    "model = keras.models.Model(base_model.input, predictions)\n",
    "\n",
    "# bottleneck featuring \n",
    "# first: train only the top layers (which were randomly initialized)\n",
    "# i.e. freeze all layers of the based model that is already pre-trained.\n",
    "\n",
    "for layer in base_model.layers:\n",
    "    layer.trainable = False"
   ]
  },
  {
   "cell_type": "markdown",
   "metadata": {},
   "source": [
    "### Visualise our model layers"
   ]
  },
  {
   "cell_type": "code",
   "execution_count": null,
   "metadata": {},
   "outputs": [],
   "source": [
    "# Visualize created model as a table\n",
    "model.summary()\n",
    "\n",
    "# Visualize initialized weights\n",
    "model.weights"
   ]
  },
  {
   "cell_type": "markdown",
   "metadata": {},
   "source": [
    "### Model Compiling\n"
   ]
  },
  {
   "cell_type": "code",
   "execution_count": null,
   "metadata": {},
   "outputs": [],
   "source": [
    "from keras.optimizers import *\n",
    "from keras.applications import *\n",
    "\n",
    "lr = 1e-3  # sgd learning rate\n",
    "\n",
    "model.compile(optimizer='nadam',\n",
    "              loss='categorical_crossentropy',  # categorical_crossentropy if multi-class classifier\n",
    "              metrics=['accuracy'])"
   ]
  },
  {
   "cell_type": "markdown",
   "metadata": {},
   "source": [
    "### Fine Tuning\n",
    "#### freeze_until points to the layer in our model we want to train will be re-trained based on the new data."
   ]
  },
  {
   "cell_type": "code",
   "execution_count": null,
   "metadata": {},
   "outputs": [],
   "source": [
    "freeze_until = 126  # value is based on based model selected.\n",
    "\n",
    "for layer in model.layers[:freeze_until]:\n",
    "    layer.trainable = False\n",
    "for layer in model.layers[freeze_until:]:\n",
    "    layer.trainable = True\n",
    "\n",
    "model.compile(optimizer='nadam',\n",
    "              loss='categorical_crossentropy',\n",
    "              metrics=['accuracy'])   "
   ]
  },
  {
   "cell_type": "markdown",
   "metadata": {},
   "source": [
    "### Load the extension and start TensorBoard"
   ]
  },
  {
   "cell_type": "code",
   "execution_count": null,
   "metadata": {},
   "outputs": [],
   "source": [
    "%load_ext tensorboard\n",
    "%tensorboard --logdir logs"
   ]
  },
  {
   "cell_type": "markdown",
   "metadata": {},
   "source": [
    "### Callback and Early Stopping\n"
   ]
  },
  {
   "cell_type": "code",
   "execution_count": null,
   "metadata": {},
   "outputs": [],
   "source": [
    "from keras.callbacks import ModelCheckpoint, EarlyStopping\n",
    "\n",
    "# Configure the TensorBoard callback and fit your model\n",
    "\n",
    "tb_callback = tf.keras.callbacks.TensorBoard(\"logs\")\n",
    "\n",
    "callbacks = []\n",
    "\n",
    "callbacks.append(tb_callback)\n",
    "\n",
    "early_stop = True\n",
    "if early_stop:\n",
    "    es_callback = tf.keras.callbacks.EarlyStopping(monitor='val_loss', patience=8)\n",
    "    callbacks.append(es_callback)"
   ]
  },
  {
   "cell_type": "markdown",
   "metadata": {},
   "source": [
    "### Fit the Model"
   ]
  },
  {
   "cell_type": "code",
   "execution_count": null,
   "metadata": {},
   "outputs": [],
   "source": [
    "model.fit(x=train_dataset,\n",
    "          epochs=100,\n",
    "          steps_per_epoch=len(train_gen),\n",
    "          validation_data=valid_dataset,\n",
    "          validation_steps=len(valid_gen),\n",
    "          callbacks=callbacks)"
   ]
  }
 ],
 "metadata": {
  "kernelspec": {
   "display_name": "Python 3",
   "language": "python",
   "name": "python3"
  },
  "language_info": {
   "codemirror_mode": {
    "name": "ipython",
    "version": 3
   },
   "file_extension": ".py",
   "mimetype": "text/x-python",
   "name": "python",
   "nbconvert_exporter": "python",
   "pygments_lexer": "ipython3",
   "version": "3.7.9"
  }
 },
 "nbformat": 4,
 "nbformat_minor": 4
}
