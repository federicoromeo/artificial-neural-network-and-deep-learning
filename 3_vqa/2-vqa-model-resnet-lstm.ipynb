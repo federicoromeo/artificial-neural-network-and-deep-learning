{
 "cells": [
  {
   "cell_type": "markdown",
   "metadata": {
    "id": "AicZNG52-rVX"
   },
   "source": [
    "# RESNET CNN and LSTM RNN\n",
    "In this first model for Visual Question Answering problem, we exploited ResNet as transfer learning part for the Convolutional Neural Network, and Long Short Term Memory for Recurrent Neural Network part"
   ]
  },
  {
   "cell_type": "code",
   "execution_count": 1,
   "metadata": {
    "executionInfo": {
     "elapsed": 842,
     "status": "ok",
     "timestamp": 1609882956180,
     "user": {
      "displayName": "Federico Romeo",
      "photoUrl": "https://lh6.googleusercontent.com/-t7-ZYUoSe3w/AAAAAAAAAAI/AAAAAAAAA8c/9aa1pe6GlnY/s64/photo.jpg",
      "userId": "18144303458962689975"
     },
     "user_tz": -60
    },
    "id": "FiLwi7HcT6Zm"
   },
   "outputs": [],
   "source": [
    "from IPython.core.interactiveshell import InteractiveShell\n",
    "InteractiveShell.ast_node_interactivity = \"all\""
   ]
  },
  {
   "cell_type": "code",
   "execution_count": 2,
   "metadata": {
    "executionInfo": {
     "elapsed": 2423,
     "status": "ok",
     "timestamp": 1609882957784,
     "user": {
      "displayName": "Federico Romeo",
      "photoUrl": "https://lh6.googleusercontent.com/-t7-ZYUoSe3w/AAAAAAAAAAI/AAAAAAAAA8c/9aa1pe6GlnY/s64/photo.jpg",
      "userId": "18144303458962689975"
     },
     "user_tz": -60
    },
    "id": "KJqHEF3eT6Zn"
   },
   "outputs": [],
   "source": [
    "import tensorflow as tf\n",
    "import numpy as np\n",
    "\n",
    "# Set the seed for random operations, this let our experiments to be reproducible. \n",
    "SEED = 1234\n",
    "tf.random.set_seed(SEED)\n",
    "np.random.seed(SEED)\n",
    "\n",
    "# Batch size\n",
    "bs = 32\n",
    "\n",
    "# img shape\n",
    "img_h = 400\n",
    "img_w = 700\n",
    "\n",
    "num_classes = 58"
   ]
  },
  {
   "cell_type": "markdown",
   "metadata": {},
   "source": [
    "#### Here we try to get the best partitioning of category by further attempts (explained in notebook \"1_data_analysis\")"
   ]
  },
  {
   "cell_type": "code",
   "execution_count": 3,
   "metadata": {
    "executionInfo": {
     "elapsed": 212152,
     "status": "ok",
     "timestamp": 1609883167551,
     "user": {
      "displayName": "Federico Romeo",
      "photoUrl": "https://lh6.googleusercontent.com/-t7-ZYUoSe3w/AAAAAAAAAAI/AAAAAAAAA8c/9aa1pe6GlnY/s64/photo.jpg",
      "userId": "18144303458962689975"
     },
     "user_tz": -60
    },
    "id": "eJRYsmsm-rV5"
   },
   "outputs": [],
   "source": [
    "yes_no_prefixes   = [\"do\",\"does\",\"is\",\"are\",\"was\",\"were\",\"have\",\"might\",\"could\",\"can\",\"has\",\"will\",\"did\",\"would\",\"should\",\"if\"]\n",
    "counting_prefixes = [\"how\"]\n",
    "\n",
    "# Predict the category from a question\n",
    "\n",
    "def predict_category(question):\n",
    "    \n",
    "    if list(filter(question.lower().startswith, yes_no_prefixes)) != []:\n",
    "         return \"yes_no\" \n",
    "    elif list(filter(question.lower().startswith, counting_prefixes)) != [] or \"number\" in question.lower() or \"how many\" in question.lower():\n",
    "        return \"counting\"\n",
    "    \n",
    "    else:\n",
    "        return \"other\"\n",
    "    \n",
    "# Get the real category from the associated answer label\n",
    "\n",
    "def real_category(label):\n",
    "    \n",
    "    if label in [57,33]:\n",
    "        return \"yes_no\" \n",
    "    \n",
    "    elif label in [0,1,2,3,4,5]:\n",
    "        return \"counting\"\n",
    "    \n",
    "    else:\n",
    "        return \"other\""
   ]
  },
  {
   "cell_type": "markdown",
   "metadata": {
    "id": "FAIMIdbNT6Zo"
   },
   "source": [
    "### Question-Answer Training Dataset\n",
    "Gather questions and answers from json, and then compute predictions on category (explained in notebook \"1_data_analysis\")"
   ]
  },
  {
   "cell_type": "code",
   "execution_count": 4,
   "metadata": {
    "executionInfo": {
     "elapsed": 212957,
     "status": "ok",
     "timestamp": 1609883168365,
     "user": {
      "displayName": "Federico Romeo",
      "photoUrl": "https://lh6.googleusercontent.com/-t7-ZYUoSe3w/AAAAAAAAAAI/AAAAAAAAA8c/9aa1pe6GlnY/s64/photo.jpg",
      "userId": "18144303458962689975"
     },
     "user_tz": -60
    },
    "id": "klmuQFqq-rV6",
    "outputId": "e784957b-f86b-4507-a63b-2b47bc57bf45"
   },
   "outputs": [
    {
     "name": "stdout",
     "output_type": "stream",
     "text": [
      "Number of questions badly labelled: 622 over 58832\n",
      "In percentage: 1.057 %\n"
     ]
    }
   ],
   "source": [
    "from tensorflow.keras.utils import to_categorical\n",
    "from os import getcwd, listdir\n",
    "from os.path import join\n",
    "import json\n",
    "\n",
    "dataset_dir  = join('../input/vqa-dataset','VQA_Dataset')\n",
    "training_dir = join(dataset_dir, 'Training')\n",
    "\n",
    "labels_dict = { \n",
    "                '0': 0, '1': 1, '2': 2, '3': 3, '4': 4, '5': 5, 'apple': 6,\n",
    "                'baseball': 7, 'bench': 8, 'bike': 9, 'bird': 10, 'black': 11, 'blanket': 12, 'blue': 13,\n",
    "                'bone': 14, 'book': 15, 'boy': 16, 'brown': 17, 'cat': 18, 'chair': 19, 'couch': 20,\n",
    "                'dog': 21, 'floor': 22, 'food': 23, 'football': 24, 'girl': 25, 'grass': 26, 'gray': 27,\n",
    "                'green': 28, 'left': 29, 'log': 30, 'man': 31, 'monkey bars': 32, 'no': 33, 'nothing': 34,\n",
    "                'orange': 35, 'pie': 36, 'plant': 37, 'playing': 38, 'red': 39, 'right': 40, 'rug': 41,\n",
    "                'sandbox': 42, 'sitting': 43, 'sleeping': 44, 'soccer': 45, 'squirrel': 46, 'standing': 47, \n",
    "                'stool': 48, 'sunny': 49, 'table': 50, 'tree': 51, 'watermelon': 52, 'white': 53, 'wine': 54, \n",
    "                'woman': 55, 'yellow': 56, 'yes': 57 \n",
    "              }\n",
    "\n",
    "train_dict  = {}\n",
    "with open(join(dataset_dir,'train_questions_annotations.json')) as json_file:\n",
    "    train_dict = json.load(json_file)\n",
    "\n",
    "# order json by 'image_id'    \n",
    "train_dict = dict(sorted(train_dict.items(), key=lambda x: int(x[1]['image_id'])))\n",
    "\n",
    "questions, labels_answers, answers, answers_id = [], [], [], []\n",
    "bad_label = 0\n",
    "\n",
    "for line in train_dict.items():\n",
    "\n",
    "    questions.append(line[1][\"question\"])\n",
    "    answers.append(line[1][\"answer\"])\n",
    "    labels_answers.append(labels_dict[line[1][\"answer\"]])\n",
    "    \n",
    "    if predict_category(line[1][\"question\"]) != real_category(labels_dict[line[1][\"answer\"]]):\n",
    "        bad_label += 1\n",
    "\n",
    "print(\"Number of questions badly labelled: \" + str(bad_label) + \" over \" + str(58832))\n",
    "print(\"In percentage: \" + str(bad_label/58832*100)[:5] + \" %\")\n",
    "\n",
    "# one-hot encoding for answers\n",
    "for a in answers:\n",
    "    answers_id.append(to_categorical(labels_dict.get(a), num_classes=58))"
   ]
  },
  {
   "cell_type": "markdown",
   "metadata": {
    "id": "75sNY9KBT6Zo"
   },
   "source": [
    "## Tokenization\n",
    "Converts question's words to integers, and retrieve maximum question length. It will be used as a parameter for question input"
   ]
  },
  {
   "cell_type": "code",
   "execution_count": 5,
   "metadata": {
    "id": "5ADaD89lT6Zo",
    "scrolled": true
   },
   "outputs": [
    {
     "name": "stdout",
     "output_type": "stream",
     "text": [
      "Questions: 4640\n",
      "Max question length: 21\n"
     ]
    },
    {
     "data": {
      "text/plain": [
       "'\\n# Create Tokenizer to convert words to integers\\nanswers_tokenizer = Tokenizer(num_words = MAX_NUM_WORDS, filters=\\'?!,.\"\\')\\n\\n### pass the sentences retrieved from txt\\nanswers_tokenizer.fit_on_texts(answers)\\n\\n### returns a list of lists of indexes referring to words inside that sentence (max of words)\\nanswers_tokenized = answers_tokenizer.texts_to_sequences(answers)\\n#answers_tokenized_train = answers_tokenizer.texts_to_sequences(train_answers)\\n\\n### returns a dict with words lowercased in alphabetical order and indexed wrt cardinality\\nanswers_wtoi = answers_tokenizer.word_index\\nprint(\\'Answers:\\', len(answers_wtoi))\\n\\nmax_answer_length = max(len(sentence) for sentence in answers_tokenized)\\nprint(\\'Max answer length:\\', max_answer_length)\\n\\nnum_answer_words = len(answers_wtoi) + 1'"
      ]
     },
     "execution_count": 5,
     "metadata": {},
     "output_type": "execute_result"
    }
   ],
   "source": [
    "from tensorflow.keras.preprocessing.text import Tokenizer\n",
    "\n",
    "MAX_NUM_SENTENCES = 40000\n",
    "MAX_NUM_WORDS = 20000\n",
    "\n",
    "# QUESTIONS \n",
    "\n",
    "# Create Tokenizer to convert words to integers\n",
    "questions_tokenizer = Tokenizer(num_words = MAX_NUM_WORDS)\n",
    "\n",
    "# pass the sentences retrieved from json\n",
    "questions_tokenizer.fit_on_texts(questions)\n",
    "\n",
    "# returns a list of lists of indexes referring to words inside that sentence (max of words)\n",
    "questions_tokenized = questions_tokenizer.texts_to_sequences(questions)\n",
    "\n",
    "# returns a dict with words lowercased in alphabetical order and indexed wrt cardinality\n",
    "questions_wtoi = questions_tokenizer.word_index\n",
    "print('Questions:', len(questions_wtoi))\n",
    "\n",
    "max_question_length = max(len(sentence) for sentence in questions_tokenized)\n",
    "print('Max question length:', max_question_length)"
   ]
  },
  {
   "cell_type": "markdown",
   "metadata": {
    "id": "oMHmTPzdT6Zo"
   },
   "source": [
    "### Padding sequences\n",
    "LSTM wants batches of same length"
   ]
  },
  {
   "cell_type": "code",
   "execution_count": 6,
   "metadata": {
    "id": "SsAMc718T6Zp"
   },
   "outputs": [
    {
     "name": "stdout",
     "output_type": "stream",
     "text": [
      "Questions encoder inputs shape: (58832, 21)\n"
     ]
    }
   ],
   "source": [
    "from tensorflow.keras.preprocessing.sequence import pad_sequences\n",
    "\n",
    "# Pad (with 0) to max question length\n",
    "questions_encoded = pad_sequences(questions_tokenized, maxlen=max_question_length)\n",
    "\n",
    "print(\"Questions encoder inputs shape:\", questions_encoded.shape)"
   ]
  },
  {
   "cell_type": "markdown",
   "metadata": {},
   "source": [
    "#### Perform a 90% training/validation split"
   ]
  },
  {
   "cell_type": "code",
   "execution_count": null,
   "metadata": {},
   "outputs": [],
   "source": [
    "filenames = [int(el[1]['image_id']) for el in train_dict.items()]   \n",
    "split = int(len(filenames)*0.90)  \n",
    "\n",
    "filenames_train = filenames[:split]\n",
    "filenames_valid = filenames[split:]\n",
    "len(filenames_train)\n",
    "len(filenames_valid)\n",
    "\n",
    "questions_encoded_train = questions_encoded[:split]\n",
    "questions_encoded_valid = questions_encoded[split:]\n",
    "len(questions_encoded_train)\n",
    "len(questions_encoded_valid)\n",
    "\n",
    "answers_train = answers_id[:split]\n",
    "answers_valid = answers_id[split:]\n",
    "len(answers_train)\n",
    "len(answers_valid)"
   ]
  },
  {
   "cell_type": "markdown",
   "metadata": {},
   "source": [
    "### Custom Dataset that returns every time a tuple like:  ( [image, question], answer ) "
   ]
  },
  {
   "cell_type": "code",
   "execution_count": 9,
   "metadata": {
    "id": "-BEj9f5G1PHQ"
   },
   "outputs": [],
   "source": [
    "from tensorflow.keras.applications.resnet50  import preprocess_input \n",
    "from tensorflow.keras.preprocessing.image import ImageDataGenerator\n",
    "from PIL import Image\n",
    "\n",
    "class CustomDataset(tf.keras.utils.Sequence):\n",
    "\n",
    "    def __init__(self, filenames, questions, answers, preprocessing_function=preprocess_input, out_shape=[img_w,img_h],img_generator=ImageDataGenerator(rescale=1./255)):\n",
    "\n",
    "        self.questions = questions\n",
    "        self.answers = answers\n",
    "        self.filenames = filenames\n",
    "        self.preprocessing_function = preprocessing_function\n",
    "        self.out_shape = out_shape\n",
    "\n",
    "    def __len__(self): return len(self.filenames)\n",
    "\n",
    "    def __getitem__(self, index):\n",
    "\n",
    "        # Read Image\n",
    "        curr_filename = self.filenames[index]\n",
    "        img = Image.open(join(training_dir, str(curr_filename) + '.png')).convert('RGB')\n",
    "\n",
    "        # Resize image\n",
    "        resized_img = img.resize((img_h, img_w))\n",
    "        img_arr = np.array(resized_img)\n",
    "\n",
    "        return (img_arr, self.questions[index]), self.answers[index]"
   ]
  },
  {
   "cell_type": "code",
   "execution_count": 10,
   "metadata": {},
   "outputs": [],
   "source": [
    "valid_custom_dataset = CustomDataset( filenames=filenames_valid, questions=questions_encoded_valid, answers=answers_valid )\n",
    "train_custom_dataset = CustomDataset( filenames=filenames_train, questions=questions_encoded_train, answers=answers_train )"
   ]
  },
  {
   "cell_type": "markdown",
   "metadata": {},
   "source": [
    "#### Finally create the train and valid datasets"
   ]
  },
  {
   "cell_type": "code",
   "execution_count": 11,
   "metadata": {},
   "outputs": [
    {
     "data": {
      "text/plain": [
       "<RepeatDataset shapes: (((None, 700, 400, 3), (None, 21)), (None, 58)), types: ((tf.uint8, tf.int32), tf.int32)>"
      ]
     },
     "execution_count": 11,
     "metadata": {},
     "output_type": "execute_result"
    },
    {
     "data": {
      "text/plain": [
       "<RepeatDataset shapes: (((None, 700, 400, 3), (None, 21)), (None, 58)), types: ((tf.uint8, tf.int32), tf.int32)>"
      ]
     },
     "execution_count": 11,
     "metadata": {},
     "output_type": "execute_result"
    }
   ],
   "source": [
    "train_dataset = tf.data.Dataset.from_generator(lambda: train_custom_dataset,\n",
    "                                               output_types=((tf.uint8,tf.int32), tf.int32),\n",
    "                                               output_shapes=(([img_w, img_h, 3],(max_question_length,)), (58,)) )\n",
    "train_dataset = train_dataset.batch(32)\n",
    "train_dataset = train_dataset.repeat()\n",
    "train_dataset\n",
    "\n",
    "valid_dataset = tf.data.Dataset.from_generator(lambda: valid_custom_dataset,\n",
    "                                               output_types=((tf.uint8,tf.int32), tf.int32),\n",
    "                                               output_shapes=(([img_w, img_h, 3],(max_question_length,)), (58,)) )\n",
    "valid_dataset = valid_dataset.batch(32)\n",
    "valid_dataset = valid_dataset.repeat()\n",
    "valid_dataset"
   ]
  },
  {
   "cell_type": "markdown",
   "metadata": {
    "id": "Fyx28iuHT6Zp"
   },
   "source": [
    "## Model\n",
    "CNN: Resnet\n",
    "RNN: lsmt"
   ]
  },
  {
   "cell_type": "code",
   "execution_count": 12,
   "metadata": {
    "collapsed": true,
    "id": "8IC7MPwGT6Zp"
   },
   "outputs": [
    {
     "name": "stdout",
     "output_type": "stream",
     "text": [
      "Downloading data from https://storage.googleapis.com/tensorflow/keras-applications/resnet/resnet50_weights_tf_dim_ordering_tf_kernels_notop.h5\n",
      "94773248/94765736 [==============================] - 1s 0us/step\n"
     ]
    },
    {
     "data": {
      "text/plain": [
       "\"\\nvgg = tf.keras.applications.VGG16(weights='imagenet', include_top=False, input_shape=(img_w, img_h, 3))\\nfor layer in vgg.layers: layer.trainable = False\\nvgg_flatten = tf.keras.layers.Flatten()(vgg.output) #129024 \\nvgg_model = tf.keras.layers.Dense(units=128)(vgg_flatten)\\n\""
      ]
     },
     "execution_count": 12,
     "metadata": {},
     "output_type": "execute_result"
    }
   ],
   "source": [
    "EMBEDDING_SIZE = 16\n",
    "\n",
    "# ENCODER\n",
    "\n",
    "encoder_input = tf.keras.Input(shape=[max_question_length])\n",
    "encoder_embedding_layer = tf.keras.layers.Embedding(len(questions_wtoi)+1, EMBEDDING_SIZE, input_length=max_question_length, mask_zero=True)\n",
    "encoder_embedding_out = encoder_embedding_layer(encoder_input)\n",
    "encoder = tf.keras.layers.LSTM(units=128, return_state=False)(encoder_embedding_out)\n",
    "\n",
    "# RESNET\n",
    "\n",
    "resnet = tf.keras.applications.ResNet50(include_top=False, weights='imagenet', input_shape=(img_h, img_w, 3) )\n",
    "for layer in resnet.layers: \n",
    "    layer.trainable = False\n",
    "resnet_flatten = tf.keras.layers.Flatten()(resnet.output) #129024 \n",
    "resnet_model = tf.keras.layers.Dense(units=128)(resnet_flatten)\n",
    "\n",
    "# Combine CNN and RNN to create the final model\n",
    "\n",
    "merged = tf.keras.layers.Multiply()([encoder, resnet_model])\n",
    "classes = len(labels_dict)  #58\n",
    "output = tf.keras.layers.Dense(units=classes, activation='softmax')(merged)\n",
    "\n",
    "#MODEL\n",
    "\n",
    "vqa_model = tf.keras.Model(inputs=[resnet.input,encoder_input], outputs=output)"
   ]
  },
  {
   "cell_type": "code",
   "execution_count": 13,
   "metadata": {
    "id": "CBGKVJNYT6Zp"
   },
   "outputs": [
    {
     "name": "stdout",
     "output_type": "stream",
     "text": [
      "Model: \"functional_1\"\n",
      "__________________________________________________________________________________________________\n",
      "Layer (type)                    Output Shape         Param #     Connected to                     \n",
      "==================================================================================================\n",
      "input_2 (InputLayer)            [(None, 400, 700, 3) 0                                            \n",
      "__________________________________________________________________________________________________\n",
      "conv1_pad (ZeroPadding2D)       (None, 406, 706, 3)  0           input_2[0][0]                    \n",
      "__________________________________________________________________________________________________\n",
      "conv1_conv (Conv2D)             (None, 200, 350, 64) 9472        conv1_pad[0][0]                  \n",
      "__________________________________________________________________________________________________\n",
      "conv1_bn (BatchNormalization)   (None, 200, 350, 64) 256         conv1_conv[0][0]                 \n",
      "__________________________________________________________________________________________________\n",
      "conv1_relu (Activation)         (None, 200, 350, 64) 0           conv1_bn[0][0]                   \n",
      "__________________________________________________________________________________________________\n",
      "pool1_pad (ZeroPadding2D)       (None, 202, 352, 64) 0           conv1_relu[0][0]                 \n",
      "__________________________________________________________________________________________________\n",
      "pool1_pool (MaxPooling2D)       (None, 100, 175, 64) 0           pool1_pad[0][0]                  \n",
      "__________________________________________________________________________________________________\n",
      "conv2_block1_1_conv (Conv2D)    (None, 100, 175, 64) 4160        pool1_pool[0][0]                 \n",
      "__________________________________________________________________________________________________\n",
      "conv2_block1_1_bn (BatchNormali (None, 100, 175, 64) 256         conv2_block1_1_conv[0][0]        \n",
      "__________________________________________________________________________________________________\n",
      "conv2_block1_1_relu (Activation (None, 100, 175, 64) 0           conv2_block1_1_bn[0][0]          \n",
      "__________________________________________________________________________________________________\n",
      "conv2_block1_2_conv (Conv2D)    (None, 100, 175, 64) 36928       conv2_block1_1_relu[0][0]        \n",
      "__________________________________________________________________________________________________\n",
      "conv2_block1_2_bn (BatchNormali (None, 100, 175, 64) 256         conv2_block1_2_conv[0][0]        \n",
      "__________________________________________________________________________________________________\n",
      "conv2_block1_2_relu (Activation (None, 100, 175, 64) 0           conv2_block1_2_bn[0][0]          \n",
      "__________________________________________________________________________________________________\n",
      "conv2_block1_0_conv (Conv2D)    (None, 100, 175, 256 16640       pool1_pool[0][0]                 \n",
      "__________________________________________________________________________________________________\n",
      "conv2_block1_3_conv (Conv2D)    (None, 100, 175, 256 16640       conv2_block1_2_relu[0][0]        \n",
      "__________________________________________________________________________________________________\n",
      "conv2_block1_0_bn (BatchNormali (None, 100, 175, 256 1024        conv2_block1_0_conv[0][0]        \n",
      "__________________________________________________________________________________________________\n",
      "conv2_block1_3_bn (BatchNormali (None, 100, 175, 256 1024        conv2_block1_3_conv[0][0]        \n",
      "__________________________________________________________________________________________________\n",
      "conv2_block1_add (Add)          (None, 100, 175, 256 0           conv2_block1_0_bn[0][0]          \n",
      "                                                                 conv2_block1_3_bn[0][0]          \n",
      "__________________________________________________________________________________________________\n",
      "conv2_block1_out (Activation)   (None, 100, 175, 256 0           conv2_block1_add[0][0]           \n",
      "__________________________________________________________________________________________________\n",
      "conv2_block2_1_conv (Conv2D)    (None, 100, 175, 64) 16448       conv2_block1_out[0][0]           \n",
      "__________________________________________________________________________________________________\n",
      "conv2_block2_1_bn (BatchNormali (None, 100, 175, 64) 256         conv2_block2_1_conv[0][0]        \n",
      "__________________________________________________________________________________________________\n",
      "conv2_block2_1_relu (Activation (None, 100, 175, 64) 0           conv2_block2_1_bn[0][0]          \n",
      "__________________________________________________________________________________________________\n",
      "conv2_block2_2_conv (Conv2D)    (None, 100, 175, 64) 36928       conv2_block2_1_relu[0][0]        \n",
      "__________________________________________________________________________________________________\n",
      "conv2_block2_2_bn (BatchNormali (None, 100, 175, 64) 256         conv2_block2_2_conv[0][0]        \n",
      "__________________________________________________________________________________________________\n",
      "conv2_block2_2_relu (Activation (None, 100, 175, 64) 0           conv2_block2_2_bn[0][0]          \n",
      "__________________________________________________________________________________________________\n",
      "conv2_block2_3_conv (Conv2D)    (None, 100, 175, 256 16640       conv2_block2_2_relu[0][0]        \n",
      "__________________________________________________________________________________________________\n",
      "conv2_block2_3_bn (BatchNormali (None, 100, 175, 256 1024        conv2_block2_3_conv[0][0]        \n",
      "__________________________________________________________________________________________________\n",
      "conv2_block2_add (Add)          (None, 100, 175, 256 0           conv2_block1_out[0][0]           \n",
      "                                                                 conv2_block2_3_bn[0][0]          \n",
      "__________________________________________________________________________________________________\n",
      "conv2_block2_out (Activation)   (None, 100, 175, 256 0           conv2_block2_add[0][0]           \n",
      "__________________________________________________________________________________________________\n",
      "conv2_block3_1_conv (Conv2D)    (None, 100, 175, 64) 16448       conv2_block2_out[0][0]           \n",
      "__________________________________________________________________________________________________\n",
      "conv2_block3_1_bn (BatchNormali (None, 100, 175, 64) 256         conv2_block3_1_conv[0][0]        \n",
      "__________________________________________________________________________________________________\n",
      "conv2_block3_1_relu (Activation (None, 100, 175, 64) 0           conv2_block3_1_bn[0][0]          \n",
      "__________________________________________________________________________________________________\n",
      "conv2_block3_2_conv (Conv2D)    (None, 100, 175, 64) 36928       conv2_block3_1_relu[0][0]        \n",
      "__________________________________________________________________________________________________\n",
      "conv2_block3_2_bn (BatchNormali (None, 100, 175, 64) 256         conv2_block3_2_conv[0][0]        \n",
      "__________________________________________________________________________________________________\n",
      "conv2_block3_2_relu (Activation (None, 100, 175, 64) 0           conv2_block3_2_bn[0][0]          \n",
      "__________________________________________________________________________________________________\n",
      "conv2_block3_3_conv (Conv2D)    (None, 100, 175, 256 16640       conv2_block3_2_relu[0][0]        \n",
      "__________________________________________________________________________________________________\n",
      "conv2_block3_3_bn (BatchNormali (None, 100, 175, 256 1024        conv2_block3_3_conv[0][0]        \n",
      "__________________________________________________________________________________________________\n",
      "conv2_block3_add (Add)          (None, 100, 175, 256 0           conv2_block2_out[0][0]           \n",
      "                                                                 conv2_block3_3_bn[0][0]          \n",
      "__________________________________________________________________________________________________\n",
      "conv2_block3_out (Activation)   (None, 100, 175, 256 0           conv2_block3_add[0][0]           \n",
      "__________________________________________________________________________________________________\n",
      "conv3_block1_1_conv (Conv2D)    (None, 50, 88, 128)  32896       conv2_block3_out[0][0]           \n",
      "__________________________________________________________________________________________________\n",
      "conv3_block1_1_bn (BatchNormali (None, 50, 88, 128)  512         conv3_block1_1_conv[0][0]        \n",
      "__________________________________________________________________________________________________\n",
      "conv3_block1_1_relu (Activation (None, 50, 88, 128)  0           conv3_block1_1_bn[0][0]          \n",
      "__________________________________________________________________________________________________\n",
      "conv3_block1_2_conv (Conv2D)    (None, 50, 88, 128)  147584      conv3_block1_1_relu[0][0]        \n",
      "__________________________________________________________________________________________________\n",
      "conv3_block1_2_bn (BatchNormali (None, 50, 88, 128)  512         conv3_block1_2_conv[0][0]        \n",
      "__________________________________________________________________________________________________\n",
      "conv3_block1_2_relu (Activation (None, 50, 88, 128)  0           conv3_block1_2_bn[0][0]          \n",
      "__________________________________________________________________________________________________\n",
      "conv3_block1_0_conv (Conv2D)    (None, 50, 88, 512)  131584      conv2_block3_out[0][0]           \n",
      "__________________________________________________________________________________________________\n",
      "conv3_block1_3_conv (Conv2D)    (None, 50, 88, 512)  66048       conv3_block1_2_relu[0][0]        \n",
      "__________________________________________________________________________________________________\n",
      "conv3_block1_0_bn (BatchNormali (None, 50, 88, 512)  2048        conv3_block1_0_conv[0][0]        \n",
      "__________________________________________________________________________________________________\n",
      "conv3_block1_3_bn (BatchNormali (None, 50, 88, 512)  2048        conv3_block1_3_conv[0][0]        \n",
      "__________________________________________________________________________________________________\n",
      "conv3_block1_add (Add)          (None, 50, 88, 512)  0           conv3_block1_0_bn[0][0]          \n",
      "                                                                 conv3_block1_3_bn[0][0]          \n",
      "__________________________________________________________________________________________________\n",
      "conv3_block1_out (Activation)   (None, 50, 88, 512)  0           conv3_block1_add[0][0]           \n",
      "__________________________________________________________________________________________________\n",
      "conv3_block2_1_conv (Conv2D)    (None, 50, 88, 128)  65664       conv3_block1_out[0][0]           \n",
      "__________________________________________________________________________________________________\n",
      "conv3_block2_1_bn (BatchNormali (None, 50, 88, 128)  512         conv3_block2_1_conv[0][0]        \n",
      "__________________________________________________________________________________________________\n",
      "conv3_block2_1_relu (Activation (None, 50, 88, 128)  0           conv3_block2_1_bn[0][0]          \n",
      "__________________________________________________________________________________________________\n",
      "conv3_block2_2_conv (Conv2D)    (None, 50, 88, 128)  147584      conv3_block2_1_relu[0][0]        \n",
      "__________________________________________________________________________________________________\n",
      "conv3_block2_2_bn (BatchNormali (None, 50, 88, 128)  512         conv3_block2_2_conv[0][0]        \n",
      "__________________________________________________________________________________________________\n",
      "conv3_block2_2_relu (Activation (None, 50, 88, 128)  0           conv3_block2_2_bn[0][0]          \n",
      "__________________________________________________________________________________________________\n",
      "conv3_block2_3_conv (Conv2D)    (None, 50, 88, 512)  66048       conv3_block2_2_relu[0][0]        \n",
      "__________________________________________________________________________________________________\n",
      "conv3_block2_3_bn (BatchNormali (None, 50, 88, 512)  2048        conv3_block2_3_conv[0][0]        \n",
      "__________________________________________________________________________________________________\n",
      "conv3_block2_add (Add)          (None, 50, 88, 512)  0           conv3_block1_out[0][0]           \n",
      "                                                                 conv3_block2_3_bn[0][0]          \n",
      "__________________________________________________________________________________________________\n",
      "conv3_block2_out (Activation)   (None, 50, 88, 512)  0           conv3_block2_add[0][0]           \n",
      "__________________________________________________________________________________________________\n",
      "conv3_block3_1_conv (Conv2D)    (None, 50, 88, 128)  65664       conv3_block2_out[0][0]           \n",
      "__________________________________________________________________________________________________\n",
      "conv3_block3_1_bn (BatchNormali (None, 50, 88, 128)  512         conv3_block3_1_conv[0][0]        \n",
      "__________________________________________________________________________________________________\n",
      "conv3_block3_1_relu (Activation (None, 50, 88, 128)  0           conv3_block3_1_bn[0][0]          \n",
      "__________________________________________________________________________________________________\n",
      "conv3_block3_2_conv (Conv2D)    (None, 50, 88, 128)  147584      conv3_block3_1_relu[0][0]        \n",
      "__________________________________________________________________________________________________\n",
      "conv3_block3_2_bn (BatchNormali (None, 50, 88, 128)  512         conv3_block3_2_conv[0][0]        \n",
      "__________________________________________________________________________________________________\n",
      "conv3_block3_2_relu (Activation (None, 50, 88, 128)  0           conv3_block3_2_bn[0][0]          \n",
      "__________________________________________________________________________________________________\n",
      "conv3_block3_3_conv (Conv2D)    (None, 50, 88, 512)  66048       conv3_block3_2_relu[0][0]        \n",
      "__________________________________________________________________________________________________\n",
      "conv3_block3_3_bn (BatchNormali (None, 50, 88, 512)  2048        conv3_block3_3_conv[0][0]        \n",
      "__________________________________________________________________________________________________\n",
      "conv3_block3_add (Add)          (None, 50, 88, 512)  0           conv3_block2_out[0][0]           \n",
      "                                                                 conv3_block3_3_bn[0][0]          \n",
      "__________________________________________________________________________________________________\n",
      "conv3_block3_out (Activation)   (None, 50, 88, 512)  0           conv3_block3_add[0][0]           \n",
      "__________________________________________________________________________________________________\n",
      "conv3_block4_1_conv (Conv2D)    (None, 50, 88, 128)  65664       conv3_block3_out[0][0]           \n",
      "__________________________________________________________________________________________________\n",
      "conv3_block4_1_bn (BatchNormali (None, 50, 88, 128)  512         conv3_block4_1_conv[0][0]        \n",
      "__________________________________________________________________________________________________\n",
      "conv3_block4_1_relu (Activation (None, 50, 88, 128)  0           conv3_block4_1_bn[0][0]          \n",
      "__________________________________________________________________________________________________\n",
      "conv3_block4_2_conv (Conv2D)    (None, 50, 88, 128)  147584      conv3_block4_1_relu[0][0]        \n",
      "__________________________________________________________________________________________________\n",
      "conv3_block4_2_bn (BatchNormali (None, 50, 88, 128)  512         conv3_block4_2_conv[0][0]        \n",
      "__________________________________________________________________________________________________\n",
      "conv3_block4_2_relu (Activation (None, 50, 88, 128)  0           conv3_block4_2_bn[0][0]          \n",
      "__________________________________________________________________________________________________\n",
      "conv3_block4_3_conv (Conv2D)    (None, 50, 88, 512)  66048       conv3_block4_2_relu[0][0]        \n",
      "__________________________________________________________________________________________________\n",
      "conv3_block4_3_bn (BatchNormali (None, 50, 88, 512)  2048        conv3_block4_3_conv[0][0]        \n",
      "__________________________________________________________________________________________________\n",
      "conv3_block4_add (Add)          (None, 50, 88, 512)  0           conv3_block3_out[0][0]           \n",
      "                                                                 conv3_block4_3_bn[0][0]          \n",
      "__________________________________________________________________________________________________\n",
      "conv3_block4_out (Activation)   (None, 50, 88, 512)  0           conv3_block4_add[0][0]           \n",
      "__________________________________________________________________________________________________\n",
      "conv4_block1_1_conv (Conv2D)    (None, 25, 44, 256)  131328      conv3_block4_out[0][0]           \n",
      "__________________________________________________________________________________________________\n",
      "conv4_block1_1_bn (BatchNormali (None, 25, 44, 256)  1024        conv4_block1_1_conv[0][0]        \n",
      "__________________________________________________________________________________________________\n",
      "conv4_block1_1_relu (Activation (None, 25, 44, 256)  0           conv4_block1_1_bn[0][0]          \n",
      "__________________________________________________________________________________________________\n",
      "conv4_block1_2_conv (Conv2D)    (None, 25, 44, 256)  590080      conv4_block1_1_relu[0][0]        \n",
      "__________________________________________________________________________________________________\n",
      "conv4_block1_2_bn (BatchNormali (None, 25, 44, 256)  1024        conv4_block1_2_conv[0][0]        \n",
      "__________________________________________________________________________________________________\n",
      "conv4_block1_2_relu (Activation (None, 25, 44, 256)  0           conv4_block1_2_bn[0][0]          \n",
      "__________________________________________________________________________________________________\n",
      "conv4_block1_0_conv (Conv2D)    (None, 25, 44, 1024) 525312      conv3_block4_out[0][0]           \n",
      "__________________________________________________________________________________________________\n",
      "conv4_block1_3_conv (Conv2D)    (None, 25, 44, 1024) 263168      conv4_block1_2_relu[0][0]        \n",
      "__________________________________________________________________________________________________\n",
      "conv4_block1_0_bn (BatchNormali (None, 25, 44, 1024) 4096        conv4_block1_0_conv[0][0]        \n",
      "__________________________________________________________________________________________________\n",
      "conv4_block1_3_bn (BatchNormali (None, 25, 44, 1024) 4096        conv4_block1_3_conv[0][0]        \n",
      "__________________________________________________________________________________________________\n",
      "conv4_block1_add (Add)          (None, 25, 44, 1024) 0           conv4_block1_0_bn[0][0]          \n",
      "                                                                 conv4_block1_3_bn[0][0]          \n",
      "__________________________________________________________________________________________________\n",
      "conv4_block1_out (Activation)   (None, 25, 44, 1024) 0           conv4_block1_add[0][0]           \n",
      "__________________________________________________________________________________________________\n",
      "conv4_block2_1_conv (Conv2D)    (None, 25, 44, 256)  262400      conv4_block1_out[0][0]           \n",
      "__________________________________________________________________________________________________\n",
      "conv4_block2_1_bn (BatchNormali (None, 25, 44, 256)  1024        conv4_block2_1_conv[0][0]        \n",
      "__________________________________________________________________________________________________\n",
      "conv4_block2_1_relu (Activation (None, 25, 44, 256)  0           conv4_block2_1_bn[0][0]          \n",
      "__________________________________________________________________________________________________\n",
      "conv4_block2_2_conv (Conv2D)    (None, 25, 44, 256)  590080      conv4_block2_1_relu[0][0]        \n",
      "__________________________________________________________________________________________________\n",
      "conv4_block2_2_bn (BatchNormali (None, 25, 44, 256)  1024        conv4_block2_2_conv[0][0]        \n",
      "__________________________________________________________________________________________________\n",
      "conv4_block2_2_relu (Activation (None, 25, 44, 256)  0           conv4_block2_2_bn[0][0]          \n",
      "__________________________________________________________________________________________________\n",
      "conv4_block2_3_conv (Conv2D)    (None, 25, 44, 1024) 263168      conv4_block2_2_relu[0][0]        \n",
      "__________________________________________________________________________________________________\n",
      "conv4_block2_3_bn (BatchNormali (None, 25, 44, 1024) 4096        conv4_block2_3_conv[0][0]        \n",
      "__________________________________________________________________________________________________\n",
      "conv4_block2_add (Add)          (None, 25, 44, 1024) 0           conv4_block1_out[0][0]           \n",
      "                                                                 conv4_block2_3_bn[0][0]          \n",
      "__________________________________________________________________________________________________\n",
      "conv4_block2_out (Activation)   (None, 25, 44, 1024) 0           conv4_block2_add[0][0]           \n",
      "__________________________________________________________________________________________________\n",
      "conv4_block3_1_conv (Conv2D)    (None, 25, 44, 256)  262400      conv4_block2_out[0][0]           \n",
      "__________________________________________________________________________________________________\n",
      "conv4_block3_1_bn (BatchNormali (None, 25, 44, 256)  1024        conv4_block3_1_conv[0][0]        \n",
      "__________________________________________________________________________________________________\n",
      "conv4_block3_1_relu (Activation (None, 25, 44, 256)  0           conv4_block3_1_bn[0][0]          \n",
      "__________________________________________________________________________________________________\n",
      "conv4_block3_2_conv (Conv2D)    (None, 25, 44, 256)  590080      conv4_block3_1_relu[0][0]        \n",
      "__________________________________________________________________________________________________\n",
      "conv4_block3_2_bn (BatchNormali (None, 25, 44, 256)  1024        conv4_block3_2_conv[0][0]        \n",
      "__________________________________________________________________________________________________\n",
      "conv4_block3_2_relu (Activation (None, 25, 44, 256)  0           conv4_block3_2_bn[0][0]          \n",
      "__________________________________________________________________________________________________\n",
      "conv4_block3_3_conv (Conv2D)    (None, 25, 44, 1024) 263168      conv4_block3_2_relu[0][0]        \n",
      "__________________________________________________________________________________________________\n",
      "conv4_block3_3_bn (BatchNormali (None, 25, 44, 1024) 4096        conv4_block3_3_conv[0][0]        \n",
      "__________________________________________________________________________________________________\n",
      "conv4_block3_add (Add)          (None, 25, 44, 1024) 0           conv4_block2_out[0][0]           \n",
      "                                                                 conv4_block3_3_bn[0][0]          \n",
      "__________________________________________________________________________________________________\n",
      "conv4_block3_out (Activation)   (None, 25, 44, 1024) 0           conv4_block3_add[0][0]           \n",
      "__________________________________________________________________________________________________\n",
      "conv4_block4_1_conv (Conv2D)    (None, 25, 44, 256)  262400      conv4_block3_out[0][0]           \n",
      "__________________________________________________________________________________________________\n",
      "conv4_block4_1_bn (BatchNormali (None, 25, 44, 256)  1024        conv4_block4_1_conv[0][0]        \n",
      "__________________________________________________________________________________________________\n",
      "conv4_block4_1_relu (Activation (None, 25, 44, 256)  0           conv4_block4_1_bn[0][0]          \n",
      "__________________________________________________________________________________________________\n",
      "conv4_block4_2_conv (Conv2D)    (None, 25, 44, 256)  590080      conv4_block4_1_relu[0][0]        \n",
      "__________________________________________________________________________________________________\n",
      "conv4_block4_2_bn (BatchNormali (None, 25, 44, 256)  1024        conv4_block4_2_conv[0][0]        \n",
      "__________________________________________________________________________________________________\n",
      "conv4_block4_2_relu (Activation (None, 25, 44, 256)  0           conv4_block4_2_bn[0][0]          \n",
      "__________________________________________________________________________________________________\n",
      "conv4_block4_3_conv (Conv2D)    (None, 25, 44, 1024) 263168      conv4_block4_2_relu[0][0]        \n",
      "__________________________________________________________________________________________________\n",
      "conv4_block4_3_bn (BatchNormali (None, 25, 44, 1024) 4096        conv4_block4_3_conv[0][0]        \n",
      "__________________________________________________________________________________________________\n",
      "conv4_block4_add (Add)          (None, 25, 44, 1024) 0           conv4_block3_out[0][0]           \n",
      "                                                                 conv4_block4_3_bn[0][0]          \n",
      "__________________________________________________________________________________________________\n",
      "conv4_block4_out (Activation)   (None, 25, 44, 1024) 0           conv4_block4_add[0][0]           \n",
      "__________________________________________________________________________________________________\n",
      "conv4_block5_1_conv (Conv2D)    (None, 25, 44, 256)  262400      conv4_block4_out[0][0]           \n",
      "__________________________________________________________________________________________________\n",
      "conv4_block5_1_bn (BatchNormali (None, 25, 44, 256)  1024        conv4_block5_1_conv[0][0]        \n",
      "__________________________________________________________________________________________________\n",
      "conv4_block5_1_relu (Activation (None, 25, 44, 256)  0           conv4_block5_1_bn[0][0]          \n",
      "__________________________________________________________________________________________________\n",
      "conv4_block5_2_conv (Conv2D)    (None, 25, 44, 256)  590080      conv4_block5_1_relu[0][0]        \n",
      "__________________________________________________________________________________________________\n",
      "conv4_block5_2_bn (BatchNormali (None, 25, 44, 256)  1024        conv4_block5_2_conv[0][0]        \n",
      "__________________________________________________________________________________________________\n",
      "conv4_block5_2_relu (Activation (None, 25, 44, 256)  0           conv4_block5_2_bn[0][0]          \n",
      "__________________________________________________________________________________________________\n",
      "conv4_block5_3_conv (Conv2D)    (None, 25, 44, 1024) 263168      conv4_block5_2_relu[0][0]        \n",
      "__________________________________________________________________________________________________\n",
      "conv4_block5_3_bn (BatchNormali (None, 25, 44, 1024) 4096        conv4_block5_3_conv[0][0]        \n",
      "__________________________________________________________________________________________________\n",
      "conv4_block5_add (Add)          (None, 25, 44, 1024) 0           conv4_block4_out[0][0]           \n",
      "                                                                 conv4_block5_3_bn[0][0]          \n",
      "__________________________________________________________________________________________________\n",
      "conv4_block5_out (Activation)   (None, 25, 44, 1024) 0           conv4_block5_add[0][0]           \n",
      "__________________________________________________________________________________________________\n",
      "conv4_block6_1_conv (Conv2D)    (None, 25, 44, 256)  262400      conv4_block5_out[0][0]           \n",
      "__________________________________________________________________________________________________\n",
      "conv4_block6_1_bn (BatchNormali (None, 25, 44, 256)  1024        conv4_block6_1_conv[0][0]        \n",
      "__________________________________________________________________________________________________\n",
      "conv4_block6_1_relu (Activation (None, 25, 44, 256)  0           conv4_block6_1_bn[0][0]          \n",
      "__________________________________________________________________________________________________\n",
      "conv4_block6_2_conv (Conv2D)    (None, 25, 44, 256)  590080      conv4_block6_1_relu[0][0]        \n",
      "__________________________________________________________________________________________________\n",
      "conv4_block6_2_bn (BatchNormali (None, 25, 44, 256)  1024        conv4_block6_2_conv[0][0]        \n",
      "__________________________________________________________________________________________________\n",
      "conv4_block6_2_relu (Activation (None, 25, 44, 256)  0           conv4_block6_2_bn[0][0]          \n",
      "__________________________________________________________________________________________________\n",
      "conv4_block6_3_conv (Conv2D)    (None, 25, 44, 1024) 263168      conv4_block6_2_relu[0][0]        \n",
      "__________________________________________________________________________________________________\n",
      "conv4_block6_3_bn (BatchNormali (None, 25, 44, 1024) 4096        conv4_block6_3_conv[0][0]        \n",
      "__________________________________________________________________________________________________\n",
      "conv4_block6_add (Add)          (None, 25, 44, 1024) 0           conv4_block5_out[0][0]           \n",
      "                                                                 conv4_block6_3_bn[0][0]          \n",
      "__________________________________________________________________________________________________\n",
      "conv4_block6_out (Activation)   (None, 25, 44, 1024) 0           conv4_block6_add[0][0]           \n",
      "__________________________________________________________________________________________________\n",
      "conv5_block1_1_conv (Conv2D)    (None, 13, 22, 512)  524800      conv4_block6_out[0][0]           \n",
      "__________________________________________________________________________________________________\n",
      "conv5_block1_1_bn (BatchNormali (None, 13, 22, 512)  2048        conv5_block1_1_conv[0][0]        \n",
      "__________________________________________________________________________________________________\n",
      "conv5_block1_1_relu (Activation (None, 13, 22, 512)  0           conv5_block1_1_bn[0][0]          \n",
      "__________________________________________________________________________________________________\n",
      "conv5_block1_2_conv (Conv2D)    (None, 13, 22, 512)  2359808     conv5_block1_1_relu[0][0]        \n",
      "__________________________________________________________________________________________________\n",
      "conv5_block1_2_bn (BatchNormali (None, 13, 22, 512)  2048        conv5_block1_2_conv[0][0]        \n",
      "__________________________________________________________________________________________________\n",
      "conv5_block1_2_relu (Activation (None, 13, 22, 512)  0           conv5_block1_2_bn[0][0]          \n",
      "__________________________________________________________________________________________________\n",
      "conv5_block1_0_conv (Conv2D)    (None, 13, 22, 2048) 2099200     conv4_block6_out[0][0]           \n",
      "__________________________________________________________________________________________________\n",
      "conv5_block1_3_conv (Conv2D)    (None, 13, 22, 2048) 1050624     conv5_block1_2_relu[0][0]        \n",
      "__________________________________________________________________________________________________\n",
      "conv5_block1_0_bn (BatchNormali (None, 13, 22, 2048) 8192        conv5_block1_0_conv[0][0]        \n",
      "__________________________________________________________________________________________________\n",
      "conv5_block1_3_bn (BatchNormali (None, 13, 22, 2048) 8192        conv5_block1_3_conv[0][0]        \n",
      "__________________________________________________________________________________________________\n",
      "conv5_block1_add (Add)          (None, 13, 22, 2048) 0           conv5_block1_0_bn[0][0]          \n",
      "                                                                 conv5_block1_3_bn[0][0]          \n",
      "__________________________________________________________________________________________________\n",
      "conv5_block1_out (Activation)   (None, 13, 22, 2048) 0           conv5_block1_add[0][0]           \n",
      "__________________________________________________________________________________________________\n",
      "conv5_block2_1_conv (Conv2D)    (None, 13, 22, 512)  1049088     conv5_block1_out[0][0]           \n",
      "__________________________________________________________________________________________________\n",
      "conv5_block2_1_bn (BatchNormali (None, 13, 22, 512)  2048        conv5_block2_1_conv[0][0]        \n",
      "__________________________________________________________________________________________________\n",
      "conv5_block2_1_relu (Activation (None, 13, 22, 512)  0           conv5_block2_1_bn[0][0]          \n",
      "__________________________________________________________________________________________________\n",
      "conv5_block2_2_conv (Conv2D)    (None, 13, 22, 512)  2359808     conv5_block2_1_relu[0][0]        \n",
      "__________________________________________________________________________________________________\n",
      "conv5_block2_2_bn (BatchNormali (None, 13, 22, 512)  2048        conv5_block2_2_conv[0][0]        \n",
      "__________________________________________________________________________________________________\n",
      "conv5_block2_2_relu (Activation (None, 13, 22, 512)  0           conv5_block2_2_bn[0][0]          \n",
      "__________________________________________________________________________________________________\n",
      "conv5_block2_3_conv (Conv2D)    (None, 13, 22, 2048) 1050624     conv5_block2_2_relu[0][0]        \n",
      "__________________________________________________________________________________________________\n",
      "conv5_block2_3_bn (BatchNormali (None, 13, 22, 2048) 8192        conv5_block2_3_conv[0][0]        \n",
      "__________________________________________________________________________________________________\n",
      "conv5_block2_add (Add)          (None, 13, 22, 2048) 0           conv5_block1_out[0][0]           \n",
      "                                                                 conv5_block2_3_bn[0][0]          \n",
      "__________________________________________________________________________________________________\n",
      "conv5_block2_out (Activation)   (None, 13, 22, 2048) 0           conv5_block2_add[0][0]           \n",
      "__________________________________________________________________________________________________\n",
      "conv5_block3_1_conv (Conv2D)    (None, 13, 22, 512)  1049088     conv5_block2_out[0][0]           \n",
      "__________________________________________________________________________________________________\n",
      "conv5_block3_1_bn (BatchNormali (None, 13, 22, 512)  2048        conv5_block3_1_conv[0][0]        \n",
      "__________________________________________________________________________________________________\n",
      "conv5_block3_1_relu (Activation (None, 13, 22, 512)  0           conv5_block3_1_bn[0][0]          \n",
      "__________________________________________________________________________________________________\n",
      "conv5_block3_2_conv (Conv2D)    (None, 13, 22, 512)  2359808     conv5_block3_1_relu[0][0]        \n",
      "__________________________________________________________________________________________________\n",
      "conv5_block3_2_bn (BatchNormali (None, 13, 22, 512)  2048        conv5_block3_2_conv[0][0]        \n",
      "__________________________________________________________________________________________________\n",
      "conv5_block3_2_relu (Activation (None, 13, 22, 512)  0           conv5_block3_2_bn[0][0]          \n",
      "__________________________________________________________________________________________________\n",
      "conv5_block3_3_conv (Conv2D)    (None, 13, 22, 2048) 1050624     conv5_block3_2_relu[0][0]        \n",
      "__________________________________________________________________________________________________\n",
      "conv5_block3_3_bn (BatchNormali (None, 13, 22, 2048) 8192        conv5_block3_3_conv[0][0]        \n",
      "__________________________________________________________________________________________________\n",
      "conv5_block3_add (Add)          (None, 13, 22, 2048) 0           conv5_block2_out[0][0]           \n",
      "                                                                 conv5_block3_3_bn[0][0]          \n",
      "__________________________________________________________________________________________________\n",
      "input_1 (InputLayer)            [(None, 21)]         0                                            \n",
      "__________________________________________________________________________________________________\n",
      "conv5_block3_out (Activation)   (None, 13, 22, 2048) 0           conv5_block3_add[0][0]           \n",
      "__________________________________________________________________________________________________\n",
      "embedding (Embedding)           (None, 21, 16)       74256       input_1[0][0]                    \n",
      "__________________________________________________________________________________________________\n",
      "flatten (Flatten)               (None, 585728)       0           conv5_block3_out[0][0]           \n",
      "__________________________________________________________________________________________________\n",
      "lstm (LSTM)                     (None, 128)          74240       embedding[0][0]                  \n",
      "__________________________________________________________________________________________________\n",
      "dense (Dense)                   (None, 128)          74973312    flatten[0][0]                    \n",
      "__________________________________________________________________________________________________\n",
      "multiply (Multiply)             (None, 128)          0           lstm[0][0]                       \n",
      "                                                                 dense[0][0]                      \n",
      "__________________________________________________________________________________________________\n",
      "dense_1 (Dense)                 (None, 58)           7482        multiply[0][0]                   \n",
      "==================================================================================================\n",
      "Total params: 98,717,002\n",
      "Trainable params: 75,129,290\n",
      "Non-trainable params: 23,587,712\n",
      "__________________________________________________________________________________________________\n"
     ]
    }
   ],
   "source": [
    "vqa_model.summary()"
   ]
  },
  {
   "cell_type": "markdown",
   "metadata": {
    "id": "o4Lw7k0pT6Zp"
   },
   "source": [
    "#### Optimization params to compile the model"
   ]
  },
  {
   "cell_type": "code",
   "execution_count": 14,
   "metadata": {
    "id": "E_ihm4kvT6Zp"
   },
   "outputs": [],
   "source": [
    "# Loss\n",
    "loss = tf.keras.losses.CategoricalCrossentropy()\n",
    "\n",
    "# learning rate\n",
    "lr = 1e-3\n",
    "optimizer = tf.keras.optimizers.Adam(learning_rate=lr)\n",
    "\n",
    "# Validation metrics\n",
    "metrics = ['accuracy']\n",
    "\n",
    "# Compile Model\n",
    "vqa_model.compile(optimizer=optimizer, loss=loss, metrics=metrics)"
   ]
  },
  {
   "cell_type": "markdown",
   "metadata": {},
   "source": [
    "#### Fit the model and add EarlyStopping to limit overfitting "
   ]
  },
  {
   "cell_type": "code",
   "execution_count": 15,
   "metadata": {
    "id": "AlbGCZQUT6Zp"
   },
   "outputs": [
    {
     "name": "stdout",
     "output_type": "stream",
     "text": [
      "Epoch 1/100\n",
      "219/218 [==============================] - 207s 946ms/step - loss: 1.9491 - accuracy: 0.3930 - val_loss: 1.5384 - val_accuracy: 0.4193\n",
      "Epoch 2/100\n",
      "219/218 [==============================] - 203s 925ms/step - loss: 1.4721 - accuracy: 0.4702 - val_loss: 1.2719 - val_accuracy: 0.5677\n",
      "Epoch 3/100\n",
      "219/218 [==============================] - 204s 930ms/step - loss: 1.3629 - accuracy: 0.5001 - val_loss: 1.2023 - val_accuracy: 0.5078\n",
      "Epoch 4/100\n",
      "219/218 [==============================] - 204s 930ms/step - loss: 1.2675 - accuracy: 0.5198 - val_loss: 1.0732 - val_accuracy: 0.5703\n",
      "Epoch 5/100\n",
      "219/218 [==============================] - 204s 934ms/step - loss: 1.1947 - accuracy: 0.5415 - val_loss: 1.1020 - val_accuracy: 0.5911\n",
      "Epoch 6/100\n",
      "219/218 [==============================] - 206s 941ms/step - loss: 1.1903 - accuracy: 0.5569 - val_loss: 1.0938 - val_accuracy: 0.5885\n",
      "Epoch 7/100\n",
      "219/218 [==============================] - 205s 938ms/step - loss: 1.1408 - accuracy: 0.5611 - val_loss: 1.0937 - val_accuracy: 0.5938\n",
      "Epoch 8/100\n",
      "219/218 [==============================] - 206s 941ms/step - loss: 1.1223 - accuracy: 0.5755 - val_loss: 1.0820 - val_accuracy: 0.5339\n",
      "Epoch 9/100\n",
      "219/218 [==============================] - 177s 806ms/step - loss: 0.8553 - accuracy: 0.6600 - val_loss: 1.2721 - val_accuracy: 0.5208\n",
      "Epoch 10/100\n",
      "219/218 [==============================] - 177s 807ms/step - loss: 0.7710 - accuracy: 0.7008 - val_loss: 1.2938 - val_accuracy: 0.5495\n",
      "Epoch 11/100\n",
      "219/218 [==============================] - 176s 805ms/step - loss: 0.7461 - accuracy: 0.7083 - val_loss: 1.3713 - val_accuracy: 0.5703\n",
      "Epoch 12/100\n",
      "219/218 [==============================] - 176s 806ms/step - loss: 0.7463 - accuracy: 0.7016 - val_loss: 1.2310 - val_accuracy: 0.5521\n"
     ]
    },
    {
     "data": {
      "text/plain": [
       "<tensorflow.python.keras.callbacks.History at 0x7f87e004c390>"
      ]
     },
     "execution_count": 15,
     "metadata": {},
     "output_type": "execute_result"
    }
   ],
   "source": [
    "callbacks = []\n",
    "\n",
    "# Early Stopping\n",
    "early_stop = True\n",
    "if early_stop:\n",
    "    es_callback = tf.keras.callbacks.EarlyStopping(monitor='val_loss', patience=8)\n",
    "    callbacks.append(es_callback)\n",
    "\n",
    "\n",
    "vqa_model.fit(x=train_dataset,\n",
    "              validation_data=valid_dataset,\n",
    "              epochs=100,\n",
    "              steps_per_epoch=len(train_custom_dataset)/256,\n",
    "              validation_steps=len(valid_custom_dataset)/256,\n",
    "              batch_size=32, \n",
    "              callbacks=callbacks )\n",
    "\n",
    "# How to visualize Tensorboard\n",
    "\n",
    "# 1. tensorboard --logdir EXPERIMENTS_DIR --port PORT     <- from terminal\n",
    "# 2. localhost:PORT   <- in your browser"
   ]
  },
  {
   "cell_type": "markdown",
   "metadata": {
    "id": "sTNnjv0GReP_"
   },
   "source": [
    "## Testing"
   ]
  },
  {
   "cell_type": "code",
   "execution_count": 16,
   "metadata": {
    "id": "Rt_CPlXjWP2X"
   },
   "outputs": [],
   "source": [
    "from datetime import datetime\n",
    "\n",
    "def create_csv(results, results_dir='./'):\n",
    "\n",
    "    csv_fname = 'results_'\n",
    "    csv_fname += datetime.now().strftime('%b%d_%H-%M-%S') + '.csv'\n",
    "    with open(join(results_dir, csv_fname), 'w') as f:\n",
    "        f.write('Id,Category\\n')\n",
    "        for key, value in results.items():\n",
    "            f.write(str(key) + ',' + str(value) + '\\n')"
   ]
  },
  {
   "cell_type": "markdown",
   "metadata": {},
   "source": [
    "#### Test dictionary"
   ]
  },
  {
   "cell_type": "code",
   "execution_count": 17,
   "metadata": {},
   "outputs": [
    {
     "data": {
      "text/plain": [
       "6372"
      ]
     },
     "execution_count": 17,
     "metadata": {},
     "output_type": "execute_result"
    }
   ],
   "source": [
    "with open(join(dataset_dir,'test_questions.json')) as json_file:\n",
    "    test_dict = json.load(json_file)\n",
    "\n",
    "# order json by 'image_id'    \n",
    "test_dict = dict(sorted(test_dict.items(), key=lambda x: int(x[1]['image_id'])))\n",
    "\n",
    "test_questions, predicted_category, question_ids = [],[],[]\n",
    "\n",
    "for line in test_dict.items():\n",
    "    \n",
    "    question_ids.append(line[0])\n",
    "    test_questions.append(line[1][\"question\"])\n",
    "    predicted_category.append(predict_category(line[1][\"question\"]))\n",
    "        \n",
    "filenames_test = [int(el[1]['image_id']) for el in test_dict.items()]   \n",
    "len(filenames_test)"
   ]
  },
  {
   "cell_type": "markdown",
   "metadata": {},
   "source": [
    "####  Tokenize Test questions"
   ]
  },
  {
   "cell_type": "code",
   "execution_count": 18,
   "metadata": {},
   "outputs": [
    {
     "name": "stdout",
     "output_type": "stream",
     "text": [
      "Questions: 1373\n",
      "Max question length: 18\n"
     ]
    }
   ],
   "source": [
    "# Create Tokenizer to convert words to integers\n",
    "test_questions_tokenizer = Tokenizer(num_words = MAX_NUM_WORDS)\n",
    "\n",
    "### pass the sentences retrieved from txt\n",
    "test_questions_tokenizer.fit_on_texts(test_questions)\n",
    "\n",
    "### returns a list of lists of indexes referring to words inside that sentence (max of words)\n",
    "test_questions_tokenized = test_questions_tokenizer.texts_to_sequences(test_questions)\n",
    "\n",
    "### returns a dict with words lowercased in alphabetical order and indexed wrt cardinality\n",
    "test_questions_wtoi = test_questions_tokenizer.word_index\n",
    "print('Questions:', len(test_questions_wtoi))\n",
    "\n",
    "max_test_question_length = max(len(sentence) for sentence in test_questions_tokenized)\n",
    "print('Max question length:', max_test_question_length)"
   ]
  },
  {
   "cell_type": "markdown",
   "metadata": {},
   "source": [
    "#### Pad test questions to max training questions length"
   ]
  },
  {
   "cell_type": "code",
   "execution_count": 19,
   "metadata": {},
   "outputs": [
    {
     "name": "stdout",
     "output_type": "stream",
     "text": [
      "Questions encoder inputs shape: (6372, 21)\n"
     ]
    }
   ],
   "source": [
    "# Pad (with 0) to max question length\n",
    "questions_encoded_test = pad_sequences(test_questions_tokenized, maxlen=max_question_length)\n",
    "\n",
    "print(\"Questions encoder inputs shape:\", questions_encoded_test.shape)"
   ]
  },
  {
   "cell_type": "markdown",
   "metadata": {},
   "source": [
    "#### Custom Dataset modified for test purpose, returns tuple like ( [image, question], - )"
   ]
  },
  {
   "cell_type": "code",
   "execution_count": 20,
   "metadata": {
    "id": "gm7nVJqnT6Zp"
   },
   "outputs": [],
   "source": [
    "class CustomDatasetTest(tf.keras.utils.Sequence):\n",
    "\n",
    "    def __init__(self, filenames, questions, preprocessing_function=preprocess_input, out_shape=[img_w,img_h],img_generator=ImageDataGenerator(rescale=1./255)):\n",
    "\n",
    "        self.questions = questions\n",
    "        self.filenames = filenames\n",
    "        self.preprocessing_function = preprocessing_function\n",
    "        self.out_shape = out_shape\n",
    "\n",
    "    def __len__(self): return len(self.filenames)\n",
    "\n",
    "    def __getitem__(self, index):\n",
    "\n",
    "        # Read Image\n",
    "        curr_filename = self.filenames[index]\n",
    "        img = Image.open(join(training_dir, str(curr_filename) + '.png'))\n",
    "        rgb_img = img.convert('RGB')\n",
    "\n",
    "        # Resize image\n",
    "        resized_img = rgb_img.resize((img_h, img_w))\n",
    "        img_arr = np.array(resized_img)\n",
    "\n",
    "        # Array of 58 zeros, to match the needed generator\n",
    "        zero = np.zeros(shape=(58,))\n",
    "\n",
    "        return (img_arr,self.questions[index]), zero"
   ]
  },
  {
   "cell_type": "markdown",
   "metadata": {},
   "source": [
    "#### Create test dataset"
   ]
  },
  {
   "cell_type": "code",
   "execution_count": 21,
   "metadata": {},
   "outputs": [
    {
     "data": {
      "text/plain": [
       "<RepeatDataset shapes: (((None, 700, 400, 3), (None, 21)), (None, 58)), types: ((tf.uint8, tf.int32), tf.int32)>"
      ]
     },
     "execution_count": 21,
     "metadata": {},
     "output_type": "execute_result"
    }
   ],
   "source": [
    "test_custom_dataset = CustomDatasetTest ( filenames=filenames_test, questions=questions_encoded_test )\n",
    "\n",
    "test_dataset = tf.data.Dataset.from_generator( lambda: test_custom_dataset,\n",
    "                                               output_types=((tf.uint8,tf.int32), tf.int32),\n",
    "                                               output_shapes=(([img_w, img_h, 3],(max_question_length,)), (58,)) )\n",
    "test_dataset = test_dataset.batch(32)\n",
    "test_dataset = test_dataset.repeat()\n",
    "test_dataset"
   ]
  },
  {
   "cell_type": "markdown",
   "metadata": {
    "id": "B2SFEk4tnG_L"
   },
   "source": [
    "#### Argmax based on category of the answer (explained in notebook \"1_data_analysis\")"
   ]
  },
  {
   "cell_type": "code",
   "execution_count": 22,
   "metadata": {
    "id": "B3aEC95VWlP_"
   },
   "outputs": [],
   "source": [
    "labels_indexes = [i for i in range(0,len(labels_dict))]\n",
    "\n",
    "def disactivate(category):\n",
    "    \n",
    "    if category==\"yes_no\":\n",
    "        return [item for item in labels_indexes if item not in (33,57)]\n",
    "    \n",
    "    elif category==\"counting\":\n",
    "        return [item for item in labels_indexes if item not in (0,1,2,3,4,5)]\n",
    "    \n",
    "    else:\n",
    "        return [0,1,2,3,4,5,33,57]\n",
    "    \n",
    "\n",
    "def weighted_argmax(prediction,k):\n",
    "   \n",
    "    #print(\"Before:  \\n\" + str(prediction) +\"\\n\")\n",
    "    \n",
    "    weighted_prediction = prediction\n",
    "    category = predicted_category[k]\n",
    "    to_be_disactivated = disactivate(category)\n",
    "   \n",
    "    #print(\"Category: \", category, \"->\", \"Putting to zero\",len(to_be_disactivated),\"elements\",\"\\n\")\n",
    "\n",
    "    for j in to_be_disactivated:\n",
    "        weighted_prediction[j] = 0\n",
    "   \n",
    "    #print(\"Later:  \\n\" + str(weighted_prediction) +\"\\n\")\n",
    "    \n",
    "    return np.argmax(weighted_prediction)"
   ]
  },
  {
   "cell_type": "markdown",
   "metadata": {},
   "source": [
    "### Predict"
   ]
  },
  {
   "cell_type": "code",
   "execution_count": 23,
   "metadata": {},
   "outputs": [
    {
     "name": "stdout",
     "output_type": "stream",
     "text": [
      "Correctly created 6372 entries\n"
     ]
    }
   ],
   "source": [
    "predictions = vqa_model.predict( x=test_dataset, steps=len(test_custom_dataset)/32 )\n",
    "\n",
    "if len(predictions) == len(filenames_test):\n",
    "    print(\"Correctly created\",len(predictions),\"entries\")"
   ]
  },
  {
   "cell_type": "markdown",
   "metadata": {},
   "source": [
    "#### Prediction example:"
   ]
  },
  {
   "cell_type": "code",
   "execution_count": 42,
   "metadata": {},
   "outputs": [
    {
     "data": {
      "image/png": "[encoded data removed]",
      "text/plain": [
       "<PIL.Image.Image image mode=RGBA size=350x200 at 0x7F83847A1ED0>"
      ]
     },
     "execution_count": 42,
     "metadata": {},
     "output_type": "execute_result"
    },
    {
     "data": {
      "text/plain": [
       "'Do you see people around?'"
      ]
     },
     "execution_count": 42,
     "metadata": {},
     "output_type": "execute_result"
    },
    {
     "data": {
      "text/plain": [
       "'Predicted answer: no'"
      ]
     },
     "execution_count": 42,
     "metadata": {},
     "output_type": "execute_result"
    }
   ],
   "source": [
    "import random\n",
    "\n",
    "n = random.randint(1,1000)\n",
    "\n",
    "# Image\n",
    "path = join(training_dir,str(filenames_test[n])+'.png')\n",
    "Image.open(path).resize((350,200), Image.NEAREST)\n",
    "\n",
    "# Question\n",
    "test_questions[n]\n",
    "\n",
    "# Predicted answer\n",
    "pr = weighted_argmax(predictions[n],n)\n",
    "switched_labels_dict = {int(y):x for x,y in labels_dict.items()}\n",
    "\"Predicted answer: \"+ switched_labels_dict[pr]"
   ]
  },
  {
   "cell_type": "markdown",
   "metadata": {},
   "source": [
    "#### Actually generating dict for testing evaluation"
   ]
  },
  {
   "cell_type": "code",
   "execution_count": 33,
   "metadata": {
    "id": "vxcVFHbm-rWH"
   },
   "outputs": [],
   "source": [
    "i = 0\n",
    "results = {}\n",
    "\n",
    "for p in predictions:\n",
    "\n",
    "    prediction = weighted_argmax(p,i)    \n",
    "    results[question_ids[i]] = str(prediction)\n",
    "    i += 1"
   ]
  },
  {
   "cell_type": "markdown",
   "metadata": {},
   "source": [
    "#### CSV"
   ]
  },
  {
   "cell_type": "code",
   "execution_count": 31,
   "metadata": {
    "id": "bbESxSHLsqy5"
   },
   "outputs": [],
   "source": [
    "create_csv(results)"
   ]
  }
 ],
 "metadata": {
  "kernelspec": {
   "display_name": "Python 3",
   "language": "python",
   "name": "python3"
  },
  "language_info": {
   "codemirror_mode": {
    "name": "ipython",
    "version": 3
   },
   "file_extension": ".py",
   "mimetype": "text/x-python",
   "name": "python",
   "nbconvert_exporter": "python",
   "pygments_lexer": "ipython3",
   "version": "3.7.9"
  }
 },
 "nbformat": 4,
 "nbformat_minor": 4
}
