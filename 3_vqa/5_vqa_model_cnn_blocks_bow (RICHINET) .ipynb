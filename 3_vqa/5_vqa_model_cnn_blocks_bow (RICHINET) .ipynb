{
 "cells": [
  {
   "cell_type": "markdown",
   "metadata": {},
   "source": [
    "# Convolutional blocks with Bag of Words\n",
    "In this notebook we kept it simple by using some normal convolutional blocks and Bag of Words for the question processing part."
   ]
  },
  {
   "cell_type": "code",
   "execution_count": 2,
   "metadata": {
    "id": "x8B1U2H6CfDQ"
   },
   "outputs": [],
   "source": [
    "from IPython.core.interactiveshell import InteractiveShell\n",
    "InteractiveShell.ast_node_interactivity = \"all\""
   ]
  },
  {
   "cell_type": "code",
   "execution_count": 3,
   "metadata": {
    "id": "dtrR4wKbCfDQ"
   },
   "outputs": [],
   "source": [
    "import os\n",
    "import tensorflow as tf\n",
    "import numpy as np\n",
    "\n",
    "# Set the seed for random operations. \n",
    "# This let our experiments to be reproducible. \n",
    "SEED = 1234\n",
    "tf.random.set_seed(SEED)\n",
    "np.random.seed(SEED)\n",
    "\n",
    "# Get current working directory\n",
    "cwd = os.getcwd()"
   ]
  },
  {
   "cell_type": "markdown",
   "metadata": {},
   "source": [
    "#### Main parameters"
   ]
  },
  {
   "cell_type": "code",
   "execution_count": 4,
   "metadata": {
    "id": "LBu0hrkmCfDR"
   },
   "outputs": [],
   "source": [
    "img_h = 400\n",
    "img_w = 700\n",
    "num_answers = 58"
   ]
  },
  {
   "cell_type": "markdown",
   "metadata": {
    "id": "SW-E-JmYCfDR"
   },
   "source": [
    "#### Data preparation"
   ]
  },
  {
   "cell_type": "code",
   "execution_count": 5,
   "metadata": {
    "id": "Cv78NitICfDR"
   },
   "outputs": [],
   "source": [
    "from tensorflow.keras.preprocessing.text import Tokenizer\n",
    "from tensorflow.keras.preprocessing.image import load_img, img_to_array\n",
    "from tensorflow.keras.utils import to_categorical"
   ]
  },
  {
   "cell_type": "code",
   "execution_count": 6,
   "metadata": {
    "id": "ssPCa751CfDS",
    "outputId": "b09127e6-6c3b-4981-d3d8-34f04e7e1adc"
   },
   "outputs": [
    {
     "name": "stdout",
     "output_type": "stream",
     "text": [
      "Training questions: \n",
      "58832\n",
      "Testing questions: \n",
      "6372\n"
     ]
    }
   ],
   "source": [
    "import json\n",
    "import os\n",
    "\n",
    "train_json_directory = '/kaggle/input/vqa-dataset/VQA_Dataset/train_questions_annotations.json' #directory of the train_questions file\n",
    "test_json_directory = '/kaggle/input/vqa-dataset/VQA_Dataset/test_questions.json' #directory of the test_questions\n",
    "\n",
    "classes = { \n",
    "            '0': 0, '1': 1, '2': 2, '3': 3, '4': 4, '5': 5, 'apple': 6,\n",
    "            'baseball': 7, 'bench': 8, 'bike': 9, 'bird': 10, 'black': 11, 'blanket': 12, 'blue': 13,\n",
    "            'bone': 14, 'book': 15, 'boy': 16, 'brown': 17, 'cat': 18, 'chair': 19, 'couch': 20,\n",
    "            'dog': 21, 'floor': 22, 'food': 23, 'football': 24, 'girl': 25, 'grass': 26, 'gray': 27,\n",
    "            'green': 28, 'left': 29, 'log': 30, 'man': 31, 'monkey bars': 32, 'no': 33, 'nothing': 34,\n",
    "            'orange': 35, 'pie': 36, 'plant': 37, 'playing': 38, 'red': 39, 'right': 40, 'rug': 41,\n",
    "            'sandbox': 42, 'sitting': 43, 'sleeping': 44, 'soccer': 45, 'squirrel': 46, 'standing': 47, \n",
    "            'stool': 48, 'sunny': 49, 'table': 50, 'tree': 51, 'watermelon': 52, 'white': 53, 'wine': 54, \n",
    "            'woman': 55, 'yellow': 56, 'yes': 57 \n",
    "              }\n",
    "\n",
    "\n",
    "#Unpacking of the train_file\n",
    "train = {}\n",
    "train = json.load(open(train_json_directory))\n",
    "\n",
    "train_questions, train_answers, train_image_ids = [], [], []\n",
    "\n",
    "for line in train.items():\n",
    "\n",
    "    train_questions.append(line[1][\"question\"])\n",
    "    train_answers.append(line[1][\"answer\"])\n",
    "    train_image_ids.append(line[1][\"image_id\"])\n",
    "\n",
    "\n",
    "#Unpacking of the test_file\n",
    "\n",
    "test = json.load(open(test_json_directory))\n",
    "\n",
    "test_questions, test_image_ids = [], []\n",
    "\n",
    "for line in test.items():\n",
    "    \n",
    "    test_question_ids = list(test.keys())\n",
    "    test_questions.append(line[1][\"question\"])\n",
    "    test_image_ids.append(line[1][\"image_id\"])\n",
    "\n",
    "print('Training questions: ')\n",
    "print(len(train_questions))\n",
    "print('Testing questions: ')\n",
    "print(len(test_questions))  "
   ]
  },
  {
   "cell_type": "markdown",
   "metadata": {
    "id": "SpPVKj1YCfDT"
   },
   "source": [
    "### TRAINING AND TESTING IMAGES\n",
    "First of all we have to extract the training images from the main folder, resizing them with 'nearest' metric"
   ]
  },
  {
   "cell_type": "code",
   "execution_count": 7,
   "metadata": {
    "id": "6vRyhfrzCfDT",
    "outputId": "9bf7b973-4547-421a-d5e4-55eb9a355acf"
   },
   "outputs": [],
   "source": [
    "from PIL import Image\n",
    "\n",
    "images_folder_directory = '/kaggle/input/vqa-dataset/VQA_Dataset/Training'\n",
    "\n",
    "resize_shape=[32,32]\n",
    "\n",
    "def load_and_proccess_image(image_path):\n",
    "  # Load image, then scale and shift pixel values to [-0.5, 0.5]\n",
    "    img = Image.open(image_path)\n",
    "    img = img.resize(resize_shape, resample=Image.NEAREST)\n",
    "    im = img_to_array(img)\n",
    "    \n",
    "    return im / 255 - 0.5\n",
    "\n",
    "def read_images(paths):\n",
    "    # paths is a dict mapping image ID to image path\n",
    "    # Returns a dict mapping image ID to the processed image\n",
    "    ims = {}\n",
    "    for image_id, image_path in paths.items():\n",
    "        ims[image_id] = load_and_proccess_image(image_path)\n",
    "\n",
    "    return ims\n",
    "\n",
    "def extract_paths():\n",
    "    paths = {}\n",
    "    for filename in os.listdir(images_folder_directory):\n",
    "        if filename.endswith('.png'):\n",
    "            img_id = filename[:-4]\n",
    "            paths[img_id] = os.path.join(images_folder_directory, filename)\n",
    "                \n",
    "    return paths"
   ]
  },
  {
   "cell_type": "code",
   "execution_count": 8,
   "metadata": {},
   "outputs": [],
   "source": [
    "train_images = read_images(extract_paths())"
   ]
  },
  {
   "cell_type": "markdown",
   "metadata": {
    "id": "MyxfVJnuCfDT"
   },
   "source": [
    "### TOKENIZATION\n",
    "Converts words to integers (BOW)"
   ]
  },
  {
   "cell_type": "code",
   "execution_count": 9,
   "metadata": {
    "collapsed": true,
    "id": "Y0MwLTcSCfDU"
   },
   "outputs": [
    {
     "name": "stdout",
     "output_type": "stream",
     "text": [
      "Vocab Size: 4641\n",
      "{'the': 1, 'is': 2, 'are': 3, 'what': 4, 'how': 5, 'many': 6, 'on': 7, 'in': 8, 'color': 9, 'there': 10, 'a': 11, 'to': 12, 'man': 13, 'of': 14, 'dog': 15, 'woman': 16, 'girl': 17, 'does': 18, 'boy': 19, 'sitting': 20, 'this': 21, 'cat': 22, 'people': 23, 'where': 24, 'they': 25, 'have': 26, 'with': 27, 'picture': 28, 'it': 29, 'couch': 30, 'do': 31, 'playing': 32, 'table': 33, 'lady': 34, 'doing': 35, 'room': 36, 'tree': 37, 'rug': 38, 'baby': 39, 'she': 40, 'at': 41, 'will': 42, 'her': 43, 'same': 44, 'trees': 45, 'for': 46, 'see': 47, 'holding': 48, 'who': 49, 'old': 50, 'windows': 51, 'any': 52, 'shirt': 53, 'pond': 54, 'little': 55, 'ball': 56, 'fire': 57, 'animal': 58, 'sun': 59, 'you': 60, 'animals': 61, 'chair': 62, 'tv': 63, 'that': 64, 'going': 65, 'curtains': 66, 'clouds': 67, 'wall': 68, 'he': 69, 'happy': 70, 'his': 71, 'sky': 72, 'and': 73, 'can': 74, 'be': 75, 'fireplace': 76, 'having': 77, 'sleeping': 78, 'two': 79, 'slide': 80, 'floor': 81, 'did': 82, 'food': 83, 'pillows': 84, 'standing': 85, 'sofa': 86, 'chairs': 87, 'plants': 88, 'plant': 89, 'eating': 90, 'bench': 91, 'look': 92, 'birds': 93, 'door': 94, 'right': 95, 'wearing': 96, 'window': 97, 'like': 98, 'left': 99, 'young': 100, 'kind': 101, 'trying': 102, 'blanket': 103, 'these': 104, 'wine': 105, 'from': 106, 'which': 107, 'alone': 108, 'park': 109, 'about': 110, 'picnic': 111, 'bird': 112, 'red': 113, 'hair': 114, 'pictures': 115, 'drinking': 116, 'all': 117, \"man's\": 118, 'up': 119, 'running': 120, 'near': 121, 'person': 122, 'deer': 123, 'match': 124, 'bushes': 125, 'fish': 126, 'child': 127, 'dogs': 128, 'scene': 129, 'out': 130, 'both': 131, 'by': 132, 'or': 133, 'girls': 134, 'sandbox': 135, 'children': 136, 'down': 137, 'bike': 138, 'flowers': 139, \"woman's\": 140, 'eat': 141, 'books': 142, 'watching': 143, 'an': 144, 'white': 145, 'ground': 146, 'play': 147, 'grass': 148, 'flying': 149, 'get': 150, 'other': 151, 'ducks': 152, 'next': 153, 'each': 154, 'open': 155, 'pants': 156, 'water': 157, 'anyone': 158, 'sunny': 159, 'paintings': 160, 'under': 161, 'women': 162, 'book': 163, 'dancing': 164, 'looking': 165, 'coat': 166, 'kids': 167, 'cats': 168, 'type': 169, 'has': 170, 'top': 171, 'toys': 172, 'than': 173, 'hand': 174, 'one': 175, 'front': 176, 'day': 177, 'bars': 178, 'scooter': 179, 'rack': 180, 'over': 181, 'sit': 182, 'pet': 183, 'chasing': 184, 'logs': 185, 'boys': 186, 'grill': 187, 'log': 188, 'sidewalk': 189, 'something': 190, 'monkey': 191, 'feet': 192, 'blue': 193, 'jumping': 194, 'fun': 195, 'want': 196, 'being': 197, 'leaves': 198, 'weather': 199, 'anything': 200, 'mouse': 201, 'legs': 202, 'walking': 203, 'too': 204, 'laughing': 205, 'more': 206, 'mushrooms': 207, 'older': 208, 'behind': 209, 'could': 210, 'pie': 211, 'painting': 212, 'couple': 213, 'catch': 214, 'fall': 215, 'jump': 216, 'basket': 217, 'would': 218, 'bone': 219, 'outside': 220, 'here': 221, 'asleep': 222, 'fruit': 223, 'their': 224, 'time': 225, 'hanging': 226, \"girl's\": 227, 'tea': 228, 'afraid': 229, 'visible': 230, 'house': 231, 'off': 232, 'butterflies': 233, 'cloudy': 234, 'someone': 235, 'doll': 236, 'stool': 237, 'furniture': 238, 'skateboard': 239, 'facing': 240, 'television': 241, 'seesaw': 242, 'yellow': 243, 'side': 244, 'drink': 245, 'football': 246, 'squirrel': 247, 'soccer': 248, 'enough': 249, 'scared': 250, 'toy': 251, 'shoes': 252, 'hands': 253, 'why': 254, 'yarn': 255, \"boy's\": 256, 'good': 257, 'shelf': 258, 'touching': 259, 'sport': 260, 'photo': 261, 'game': 262, 'green': 263, 'bottle': 264, 'pillow': 265, 'guy': 266, 'likely': 267, 'if': 268, 'as': 269, 'bucket': 270, 'towards': 271, 'pets': 272, 'small': 273, 'air': 274, 'getting': 275, 'kitten': 276, 'kid': 277, 'riding': 278, 'bed': 279, 'living': 280, 'enjoying': 281, 'should': 282, 'watermelon': 283, 'cups': 284, 'cloud': 285, 'duck': 286, 'glasses': 287, 'close': 288, 'lap': 289, 'raccoon': 290, 'bush': 291, 'present': 292, 'seen': 293, 'away': 294, 'around': 295, 'place': 296, 'waving': 297, 'falling': 298, 'tablecloth': 299, 'shown': 300, 'apple': 301, 'men': 302, 'go': 303, 'black': 304, 'friends': 305, 'set': 306, 'need': 307, 'into': 308, 'empty': 309, 'nest': 310, 'smiling': 311, 'bookshelf': 312, 'upset': 313, 'belong': 314, 'pictured': 315, 'plates': 316, 'coats': 317, 'turtle': 318, 'full': 319, 'mantle': 320, 'brown': 321, 'bicycle': 322, 'sad': 323, 'bees': 324, 'glass': 325, 'know': 326, 'dinner': 327, 'sand': 328, 'bikes': 329, 'safe': 330, 'carpet': 331, 'ride': 332, 'hot': 333, 'twins': 334, 'reaching': 335, 'cooking': 336, 'image': 337, 'rabbit': 338, 'awake': 339, 'moon': 340, 'rope': 341, 'different': 342, 'throwing': 343, 'direction': 344, 'petting': 345, 'bookcase': 346, 'blocks': 347, 'plate': 348, 'love': 349, 'raining': 350, 'just': 351, 'shelves': 352, 'drunk': 353, 'apples': 354, 'throw': 355, 'lit': 356, 'between': 357, 'frisbee': 358, 'arm': 359, 'head': 360, 'laying': 361, 'identical': 362, 'ladies': 363, 'mother': 364, 'dollhouse': 365, 'saw': 366, 'related': 367, 'wanting': 368, 'benches': 369, 'seem': 370, 'comfortable': 371, 'butterfly': 372, 'bear': 373, 'them': 374, 'ready': 375, 'size': 376, 'bottles': 377, 'flower': 378, 'couches': 379, 'gray': 380, 'not': 381, 'closed': 382, 'family': 383, 'adults': 384, 'daytime': 385, 'above': 386, 'together': 387, 'curtain': 388, 'rain': 389, 'shining': 390, 'way': 391, 'object': 392, 'party': 393, 'beehive': 394, 'home': 395, 'angry': 396, 'using': 397, 'lying': 398, 'playground': 399, 'balls': 400, 'appear': 401, 'been': 402, 'resting': 403, 'kicking': 404, 'stools': 405, 'warm': 406, 'night': 407, 'cup': 408, 'pieces': 409, 'squirrels': 410, 'reading': 411, 'three': 412, 'eggs': 413, 'against': 414, 'robot': 415, 'tired': 416, 'use': 417, 'lonely': 418, 'pail': 419, 'waiting': 420, 'turtles': 421, 'items': 422, 'shirts': 423, 'puppy': 424, 'portrait': 425, \"what's\": 426, 'hurt': 427, 'taking': 428, 'age': 429, 'big': 430, 'pick': 431, 'worried': 432, 'back': 433, 'after': 434, 'potted': 435, 'equipment': 436, 'dolls': 437, 'stuffed': 438, 'cold': 439, 'slides': 440, 'everyone': 441, 'thing': 442, 'ponds': 443, 'him': 444, 'danger': 445, 'some': 446, 'pizza': 447, 'marshmallows': 448, 'teddy': 449, 'think': 450, 'mom': 451, 'used': 452, 'human': 453, 'burning': 454, 'things': 455, 'middle': 456, 'hit': 457, 'attention': 458, 'foot': 459, 'baseball': 460, 'eagle': 461, 'reach': 462, 'babies': 463, 'moped': 464, 'leg': 465, 'leaning': 466, 'was': 467, 'live': 468, 'colors': 469, 'car': 470, 'adult': 471, 'feeding': 472, 'mad': 473, 'walk': 474, 'land': 475, 'hiding': 476, 'hungry': 477, \"lady's\": 478, 'kick': 479, 'himself': 480, 'arms': 481, 'bbq': 482, 'sofas': 483, 'expecting': 484, 'make': 485, 'those': 486, 'much': 487, 'show': 488, 'winter': 489, 'attacking': 490, 'herself': 491, 'fit': 492, 'talking': 493, 'lot': 494, 'take': 495, 'seated': 496, 'tables': 497, 'rabbits': 498, 'drapes': 499, 'making': 500, 'fringe': 501, 'item': 502, 'most': 503, 'made': 504, 'doors': 505, 'cushions': 506, 'matching': 507, 'cheese': 508, 'fighting': 509, 'humans': 510, 'touch': 511, 'inside': 512, 'younger': 513, 'growing': 514, 'high': 515, 'company': 516, 'excited': 517, 'tall': 518, 'swimming': 519, 'shovel': 520, 'long': 521, 'put': 522, 'carrying': 523, '2': 524, 'attack': 525, 'yoga': 526, 'healthy': 527, 'played': 528, 'romantic': 529, 'interested': 530, \"dog's\": 531, 'clothes': 532, 'types': 533, 'grilling': 534, 'teeter': 535, 'mushroom': 536, 'eyes': 537, 'mice': 538, 'female': 539, 'funny': 540, 'background': 541, 'totter': 542, 'exercising': 543, 'date': 544, 'another': 545, \"baby's\": 546, \"it's\": 547, 'bored': 548, 'seat': 549, 'footstool': 550, 'piece': 551, 'feed': 552, 'meal': 553, 'cut': 554, 'frog': 555, 'shadow': 556, 'giving': 557, 'orange': 558, 'pointing': 559, 'bunny': 560, 'center': 561, 'objects': 562, 'real': 563, 'toward': 564, 'screen': 565, 'rat': 566, 'come': 567, 'slices': 568, 'beverage': 569, 'outfit': 570, 'horse': 571, 'motor': 572, 'forest': 573, 'seats': 574, 'end': 575, 'its': 576, 'sandwich': 577, 'clean': 578, 'moving': 579, 'position': 580, 'alcohol': 581, 'bat': 582, 'number': 583, 'owl': 584, 'covering': 585, 'turned': 586, 'read': 587, 'dress': 588, 'taller': 589, 'alive': 590, 'bring': 591, 'nice': 592, 'well': 593, 'dessert': 594, 'climb': 595, 'bigger': 596, 'grandma': 597, 'married': 598, 'large': 599, 'own': 600, 'climbing': 601, 'telling': 602, 'might': 603, 'anybody': 604, 'far': 605, 'summer': 606, 'area': 607, 'wheels': 608, 'cover': 609, 'indoors': 610, 'steak': 611, 'enjoy': 612, 'frogs': 613, 'sliding': 614, 'run': 615, 'begging': 616, 'wild': 617, 'raccoons': 618, 'creatures': 619, 'train': 620, 'bee': 621, 'bicycles': 622, 'chipmunk': 623, 'sleep': 624, 'shade': 625, 'blocking': 626, 'coffee': 627, 'through': 628, 'nighttime': 629, 'either': 630, 'leave': 631, 'hive': 632, 'clear': 633, 'nap': 634, 'so': 635, 'lunch': 636, 'coming': 637, 'short': 638, \"women's\": 639, 'mantel': 640, 'beside': 641, 'mess': 642, 'crying': 643, 'pot': 644, 'roasting': 645, 'able': 646, 'wake': 647, 'bald': 648, 'box': 649, 'wooden': 650, 'onto': 651, 'dressed': 652, 'females': 653, 'bones': 654, 'marshmallow': 655, 'relaxing': 656, 'had': 657, 'video': 658, 'cook': 659, 'daughter': 660, 'frame': 661, 'shrubs': 662, 'art': 663, 'pattern': 664, 'headed': 665, 'path': 666, 'walls': 667, 'relaxed': 668, 'watch': 669, 'lily': 670, 'hat': 671, 'meat': 672, 'son': 673, 'scooters': 674, 'field': 675, 'tossing': 676, 'male': 677, 'hanger': 678, 'feeling': 679, 'tail': 680, 'paying': 681, 'closer': 682, 'dangerous': 683, 'cars': 684, 'leash': 685, 'dance': 686, 'part': 687, 'crossed': 688, 'larger': 689, 'setting': 690, 'completely': 691, 'leaving': 692, 'shape': 693, 'dead': 694, 'four': 695, 'help': 696, 'trick': 697, 'today': 698, 'pigtails': 699, 'stand': 700, 'soon': 701, 'bread': 702, 'buckets': 703, 'bears': 704, 'without': 705, 'threw': 706, 'bookshelves': 707, '3': 708, 'practicing': 709, 'sisters': 710, 'floating': 711, 'amused': 712, 'injured': 713, 'because': 714, 'blonde': 715, 'showing': 716, 'higher': 717, 'knock': 718, 'steaks': 719, 'smaller': 720, 'drawn': 721, 'race': 722, 'friendly': 723, 'dark': 724, 'transportation': 725, 'evergreen': 726, 'panels': 727, 'kittens': 728, 'wood': 729, 'grandmother': 730, 'messy': 731, 'daylight': 732, 'parents': 733, 'face': 734, 'colored': 735, 'nearby': 736, 'friend': 737, 'very': 738, 'blankets': 739, 'located': 740, 'normally': 741, 'cloth': 742, 'hold': 743, 'steps': 744, 'kinds': 745, 'hard': 746, 'father': 747, 'placed': 748, 'beehives': 749, 'centered': 750, 'give': 751, 'when': 752, 'bunnies': 753, 'panes': 754, 'ladder': 755, 'hide': 756, 'now': 757, 'dining': 758, 'hung': 759, 'height': 760, 'were': 761, 'puppies': 762, 'barbecue': 763, \"child's\": 764, 'clothing': 765, 'pink': 766, 'cartoon': 767, 'vehicle': 768, 'whole': 769, 'find': 770, 'places': 771, 'catching': 772, 'covered': 773, 'ponytail': 774, 'normal': 775, 'trouble': 776, 'handle': 777, 'light': 778, 'try': 779, 'move': 780, 'tan': 781, 'closest': 782, 'babysitting': 783, 'pine': 784, 'only': 785, 'system': 786, 'below': 787, 'walkway': 788, 'low': 789, 'across': 790, 'bottom': 791, 'no': 792, 'steal': 793, 'homework': 794, 'drive': 795, 'grills': 796, 'properly': 797, 'spots': 798, 'life': 799, 'sharing': 800, 'bookcases': 801, 'supervised': 802, 'appropriate': 803, 'straight': 804, 'broken': 805, 'teasing': 806, 'looks': 807, 'partly': 808, 'campfire': 809, 'swinging': 810, 'featured': 811, 'suns': 812, 'framed': 813, 'bite': 814, 'available': 815, 'preparing': 816, 'bare': 817, 'burn': 818, 'rainy': 819, 'grandpa': 820, 'really': 821, 'skateboards': 822, 'artwork': 823, 'conversation': 824, 'brothers': 825, 'kneeling': 826, 'stripes': 827, 'branches': 828, 'fly': 829, 'entire': 830, 'sick': 831, 'cluttered': 832, 'rest': 833, 'trip': 834, 'handles': 835, 'purple': 836, 'rungs': 837, 'flat': 838, 'wear': 839, 'past': 840, 'stung': 841, 'swim': 842, 'sports': 843, 'rugs': 844, 'tricks': 845, 'baskets': 846, 'fight': 847, 'sister': 848, 'sunset': 849, 'main': 850, 'wrong': 851, 'probably': 852, 'activity': 853, 'portraits': 854, 'yet': 855, 'robots': 856, 'soda': 857, 'leaping': 858, 'chipmunks': 859, 'frames': 860, 'underneath': 861, 'knee': 862, 'owner': 863, 'corn': 864, 'flames': 865, 'pads': 866, 'stop': 867, 'creature': 868, 'watered': 869, 'corner': 870, 'drinks': 871, 'chase': 872, 'thinking': 873, 'sunlight': 874, 'guest': 875, 'floral': 876, 'elderly': 877, 'noon': 878, 'stretching': 879, 'trunk': 880, 'offering': 881, 'salad': 882, 'stomach': 883, 'rose': 884, 'similar': 885, 'edge': 886, \"doll's\": 887, 'snack': 888, 'grab': 889, 'outdoors': 890, 'dad': 891, 'still': 892, 'tray': 893, 'concerned': 894, 'crowded': 895, 'while': 896, 'pies': 897, 'aware': 898, 'kitty': 899, 'block': 900, 'hamburger': 901, 'watermelons': 902, 'sets': 903, 'notice': 904, 'unhappy': 905, 'toast': 906, 'turn': 907, 'desk': 908, 'species': 909, 'hang': 910, 'bright': 911, 'mammals': 912, 'gaming': 913, 'occupied': 914, 'armchair': 915, 'allowed': 916, 'join': 917, 'story': 918, 'swing': 919, 'else': 920, 'missing': 921, 'proper': 922, 'eaten': 923, 'symmetrical': 924, 'roof': 925, 'board': 926, 'parked': 927, 'pug': 928, 'hole': 929, 'content': 930, 'fallen': 931, 'positioned': 932, 'sweater': 933, 'desert': 934, 'opened': 935, 'rocking': 936, 'training': 937, 'sandwiches': 938, 'calling': 939, 'pain': 940, 'insects': 941, \"bird's\": 942, 'spot': 943, \"she's\": 944, 'guests': 945, 'surprised': 946, 'depicted': 947, 'hairstyle': 948, 'control': 949, 'slice': 950, 'seek': 951, 'wants': 952, 'usually': 953, 'haired': 954, 'guys': 955, 'treat': 956, 'level': 957, 'body': 958, 'serving': 959, 'drop': 960, 'heavy': 961, 'snow': 962, 'camping': 963, 'arguing': 964, 'hamburgers': 965, 'pots': 966, 'mouth': 967, 'directly': 968, 'balance': 969, 'keeping': 970, 'natural': 971, 'bent': 972, 'trim': 973, 'fetch': 974, 'warming': 975, 'pushing': 976, 'fully': 977, 'thrown': 978, 'happening': 979, 'dating': 980, 'fishing': 981, \"cat's\": 982, 'often': 983, 'name': 984, 'kitchen': 985, 'hug': 986, 'koi': 987, 'depressed': 988, 'lid': 989, 'soft': 990, 'scratching': 991, 'shorts': 992, 'planning': 993, 'tongs': 994, 'bar': 995, 'better': 996, 'lots': 997, 'lost': 998, 'frightened': 999, 'helmet': 1000, 'vases': 1001, 'filled': 1002, 'skateboarding': 1003, 'pails': 1004, 'locked': 1005, 'call': 1006, 'working': 1007, 'striped': 1008, 'vase': 1009, 'metal': 1010, 'ottoman': 1011, 'themselves': 1012, 'before': 1013, 'program': 1014, 'recently': 1015, 'during': 1016, 'called': 1017, 'teaching': 1018, 'served': 1019, 'helping': 1020, 'care': 1021, \"person's\": 1022, 'brother': 1023, 'along': 1024, \"he's\": 1025, 'ears': 1026, 'picking': 1027, 'snowing': 1028, 'harm': 1029, 'feel': 1030, 'possible': 1031, 'attempting': 1032, 'putting': 1033, 'bad': 1034, 'total': 1035, 'square': 1036, 'sliced': 1037, 'falls': 1038, 'toddler': 1039, 'breed': 1040, 'ribs': 1041, 'cushion': 1042, 'exercise': 1043, 'solid': 1044, 'whose': 1045, 'grandfather': 1046, 'wet': 1047, 'curly': 1048, 'males': 1049, 'pairs': 1050, 'controller': 1051, '4': 1052, 'deers': 1053, 'fires': 1054, \"children's\": 1055, 'tires': 1056, 'fruits': 1057, 'rats': 1058, 'spill': 1059, 'evenly': 1060, 'rocks': 1061, 'everybody': 1062, 'siblings': 1063, 'tell': 1064, 'ignoring': 1065, 'dots': 1066, '5': 1067, 'braids': 1068, 'christmas': 1069, 'mat': 1070, 'hitting': 1071, 'games': 1072, 'laugh': 1073, 'vegetarian': 1074, 'knob': 1075, 'common': 1076, 'racing': 1077, 'nervous': 1078, 'amount': 1079, 'pool': 1080, 'joke': 1081, 'safety': 1082, 'break': 1083, 'sits': 1084, 'step': 1085, 'push': 1086, 'photos': 1087, 'alike': 1088, 'easily': 1089, 'active': 1090, 'dirty': 1091, 'partially': 1092, 'pad': 1093, 'work': 1094, 'cooked': 1095, 'shadows': 1096, 'easy': 1097, 'upright': 1098, 'fast': 1099, 'school': 1100, 'baseboard': 1101, 'heels': 1102, 'following': 1103, 'socks': 1104, 'lay': 1105, 'your': 1106, 'remote': 1107, 'pit': 1108, 'location': 1109, 'napping': 1110, 'knees': 1111, 'favorite': 1112, 'needs': 1113, 'couples': 1114, 'kicked': 1115, 'golden': 1116, 'lose': 1117, 'ethnicity': 1118, 'motorcycle': 1119, 'share': 1120, 'knocked': 1121, 'celebrating': 1122, 'pigeons': 1123, 'skin': 1124, 'dirt': 1125, 'decor': 1126, 'drawer': 1127, 'sneaking': 1128, 'abstract': 1129, 'pound': 1130, 'loveseat': 1131, 'build': 1132, 'anywhere': 1133, 'roping': 1134, 'view': 1135, 'midnight': 1136, 'held': 1137, 'jogging': 1138, 'professional': 1139, 'sleeves': 1140, 'lovers': 1141, 'jungle': 1142, 'trunks': 1143, 'scary': 1144, 'burned': 1145, 'already': 1146, 'mopeds': 1147, 'first': 1148, 'grown': 1149, 'building': 1150, 'design': 1151, 'gentlemen': 1152, 'levitating': 1153, 'weight': 1154, 'raised': 1155, 'matches': 1156, 'skipping': 1157, 'grow': 1158, 'gender': 1159, 'stories': 1160, 'movie': 1161, 'argument': 1162, 'years': 1163, 'liquid': 1164, '21': 1165, 'least': 1166, 'crawling': 1167, 'fell': 1168, 'console': 1169, 'flame': 1170, 'atop': 1171, 'new': 1172, 'woods': 1173, 'driving': 1174, \"people's\": 1175, 'typical': 1176, 'eagles': 1177, 'arrive': 1178, 'sides': 1179, 'surface': 1180, 'proud': 1181, 'fireplaces': 1182, 'longer': 1183, 'beds': 1184, 'decorated': 1185, 'wildlife': 1186, 'paint': 1187, 'scare': 1188, 'besides': 1189, 'tvs': 1190, 'yelling': 1191, 'correctly': 1192, 'correct': 1193, 'meant': 1194, 'space': 1195, 'foods': 1196, 'sidewalks': 1197, 'shades': 1198, 'legged': 1199, 'letter': 1200, 'hooks': 1201, 'keep': 1202, 'camera': 1203, 'stick': 1204, 'abandoned': 1205, 'start': 1206, 'equal': 1207, 'fat': 1208, 'nature': 1209, 'alcoholic': 1210, 'stuck': 1211, 'lower': 1212, 'confused': 1213, 'hives': 1214, 'hunting': 1215, 'sort': 1216, 'pushed': 1217, 'breakfast': 1218, 'joining': 1219, 'style': 1220, 'sporting': 1221, 'squares': 1222, 'attacked': 1223, 'disk': 1224, 'line': 1225, \"left's\": 1226, 'connected': 1227, 'edible': 1228, 'self': 1229, 'later': 1230, 'teenager': 1231, 'pavement': 1232, 'proposing': 1233, 'acting': 1234, \"tree's\": 1235, 'evening': 1236, 'cleaning': 1237, 'truck': 1238, 'pic': 1239, 'studying': 1240, 'landscape': 1241, 'utensils': 1242, 'fishes': 1243, 'staring': 1244, 'knocking': 1245, 'jealous': 1246, 'knitting': 1247, 'finished': 1248, 'jeans': 1249, 'crossing': 1250, 'exactly': 1251, 'odd': 1252, 'pulling': 1253, 'chewing': 1254, 'meditating': 1255, 'arranged': 1256, 'approaching': 1257, 'exercises': 1258, 'we': 1259, 'lead': 1260, 'overweight': 1261, 'paws': 1262, 'primary': 1263, 'parent': 1264, 'leafless': 1265, 'scissors': 1266, 'aggressive': 1267, 'basketball': 1268, 'mode': 1269, 'comfortably': 1270, 'road': 1271, 'safely': 1272, 'sleepy': 1273, 'ice': 1274, 'hills': 1275, '1': 1276, 'neck': 1277, 'say': 1278, 'legos': 1279, 'honey': 1280, 'tripping': 1281, 'upside': 1282, 'somebody': 1283, 'individuals': 1284, 'pee': 1285, 'somewhere': 1286, 'fur': 1287, 'darker': 1288, 'skirt': 1289, 'nests': 1290, 'unattended': 1291, 'second': 1292, 'goes': 1293, 'overcast': 1294, 'upper': 1295, 'pregnant': 1296, 'burgers': 1297, 'rode': 1298, 'mans': 1299, 'lines': 1300, 'computer': 1301, 'motion': 1302, 'gas': 1303, 'blocked': 1304, 'zoo': 1305, 'jackets': 1306, 'raising': 1307, 'crash': 1308, 'legally': 1309, 'skinny': 1310, 'doggy': 1311, 'team': 1312, 'teacups': 1313, 'tassels': 1314, 'roots': 1315, 'meet': 1316, 'flirting': 1317, 'cans': 1318, 'strange': 1319, 'goose': 1320, 'thirsty': 1321, 'surrounding': 1322, 'seduce': 1323, 'surrounded': 1324, 'sleeve': 1325, 'almost': 1326, 'stood': 1327, 'bloom': 1328, 'passing': 1329, 'round': 1330, 'considered': 1331, 'allergic': 1332, 'shorter': 1333, 'letters': 1334, 'spread': 1335, 'knot': 1336, 'chased': 1337, 'idea': 1338, 'mirror': 1339, 'yard': 1340, 'gym': 1341, 'bringing': 1342, 'ill': 1343, 'dying': 1344, 'performing': 1345, 'best': 1346, \"other's\": 1347, 'suitable': 1348, 'balding': 1349, 'dandelions': 1350, 'hats': 1351, 'mood': 1352, 'cream': 1353, 'persons': 1354, 'stay': 1355, 'angle': 1356, 'cracks': 1357, 'cd': 1358, 'ropes': 1359, 'perched': 1360, 'forget': 1361, 'enemies': 1362, 'expected': 1363, 'knife': 1364, 'lives': 1365, 'senior': 1366, 'taken': 1367, 'done': 1368, 'strong': 1369, 'sneak': 1370, 'tied': 1371, 'feast': 1372, \"doesn't\": 1373, 'watering': 1374, 'exact': 1375, 'plugged': 1376, 'attached': 1377, 'stump': 1378, 'print': 1379, 'ballet': 1380, 'realistic': 1381, 'phone': 1382, 'leading': 1383, 'stray': 1384, 'source': 1385, 'chew': 1386, 'plan': 1387, 'serious': 1388, 'lake': 1389, 'tipped': 1390, 'parallel': 1391, 'aligned': 1392, 'dropping': 1393, 'beach': 1394, 'avoid': 1395, 'ants': 1396, 'oldest': 1397, 'shoulder': 1398, 'karate': 1399, 'vegetarians': 1400, 'summertime': 1401, 'but': 1402, 'label': 1403, \"tv's\": 1404, 'half': 1405, \"raccoon's\": 1406, 'largest': 1407, 'melon': 1408, 'distance': 1409, 'hawk': 1410, 'bending': 1411, 'stars': 1412, 'typically': 1413, 'opposite': 1414, 'current': 1415, 'teenagers': 1416, 'collar': 1417, 'televisions': 1418, 'chimney': 1419, 'prepared': 1420, 'likes': 1421, 'footballs': 1422, 'smallest': 1423, 'toasting': 1424, 'amusing': 1425, 'pull': 1426, 'rodents': 1427, 'treatments': 1428, 'situated': 1429, 'startled': 1430, 'apart': 1431, 'curled': 1432, 'finish': 1433, 'comedy': 1434, 'exit': 1435, 'sleeved': 1436, 'weeds': 1437, 'hook': 1438, 'every': 1439, 'player': 1440, 'poisonous': 1441, 'material': 1442, 'mid': 1443, 'heart': 1444, 'scolding': 1445, 'lift': 1446, 'ache': 1447, 'electronics': 1448, 'seating': 1449, 'stands': 1450, 'evergreens': 1451, 'scratch': 1452, 'stains': 1453, 'sunshine': 1454, \"they're\": 1455, 'motioning': 1456, 'romantically': 1457, 'involved': 1458, 'weird': 1459, 'single': 1460, 'peeking': 1461, 'stacked': 1462, 'racks': 1463, 'opening': 1464, 'brightly': 1465, 'boring': 1466, 'sunburn': 1467, 'worn': 1468, 'fringes': 1469, 'morning': 1470, 'necessary': 1471, 'hidden': 1472, 'girlfriend': 1473, 'grabbing': 1474, 'cute': 1475, 'comfy': 1476, 'siamese': 1477, 'mean': 1478, 'nachos': 1479, 'sandcastle': 1480, 'moment': 1481, 'tails': 1482, 'formal': 1483, 'came': 1484, 'marriage': 1485, 'cross': 1486, 'currently': 1487, 'sat': 1488, 'supposed': 1489, 'redhead': 1490, \"window's\": 1491, 'usual': 1492, 'insect': 1493, 'clawing': 1494, 'blooming': 1495, 'exits': 1496, 'everything': 1497, 'even': 1498, 'ponytails': 1499, 'roses': 1500, 'double': 1501, 'manner': 1502, 'armrest': 1503, 'roast': 1504, 'mostly': 1505, 'faster': 1506, 'handed': 1507, 'biting': 1508, 'twin': 1509, 'writing': 1510, 'giant': 1511, 'branch': 1512, 'planet': 1513, 'rectangles': 1514, 'kickstand': 1515, 'planted': 1516, 'saying': 1517, 'greeting': 1518, 'chance': 1519, 'medical': 1520, 'scheme': 1521, 'rock': 1522, 'itself': 1523, 'players': 1524, 'stealing': 1525, 'swings': 1526, 'forward': 1527, 'mowed': 1528, 'clapping': 1529, 'appears': 1530, 'pigeon': 1531, 'seeds': 1532, 'ok': 1533, 'images': 1534, 'inviting': 1535, 'overhead': 1536, 'blinds': 1537, 'sandboxes': 1538, 'contemplating': 1539, 'gets': 1540, 'stalking': 1541, 'domesticated': 1542, 'form': 1543, 'cds': 1544, 'let': 1545, 'pouring': 1546, 'handing': 1547, 'length': 1548, 'free': 1549, 'hind': 1550, 'unusual': 1551, 'poop': 1552, 'others': 1553, 'uncomfortable': 1554, 'tossed': 1555, 'decorative': 1556, 'vegetation': 1557, 'beneath': 1558, 'bunch': 1559, 'traditional': 1560, 'tummy': 1561, 'modern': 1562, 'supervising': 1563, 'city': 1564, 'beings': 1565, 'mounted': 1566, 'dollhouses': 1567, 'meeting': 1568, 'jacket': 1569, 'stuff': 1570, 'turning': 1571, 'owls': 1572, 'shapes': 1573, 'unsupervised': 1574, 'eye': 1575, 'heat': 1576, 'parts': 1577, 'hovering': 1578, 'furnished': 1579, \"woman's'\": 1580, 'sill': 1581, 'geese': 1582, 'holes': 1583, 'ghost': 1584, 'okay': 1585, 'separate': 1586, 'tidy': 1587, 'future': 1588, 'mountains': 1589, 'roll': 1590, 'foliage': 1591, 'patterns': 1592, 'entertained': 1593, 'crazy': 1594, 'decorations': 1595, 'laid': 1596, 'gay': 1597, 'spending': 1598, 'also': 1599, 'barbeque': 1600, 'activities': 1601, 'calm': 1602, 'pounce': 1603, 'indoor': 1604, 'carry': 1605, 'toss': 1606, 'playhouse': 1607, 'obese': 1608, 'stolen': 1609, 'seeing': 1610, 'daydreaming': 1611, 'unusually': 1612, 'athletic': 1613, 'based': 1614, 'ottomans': 1615, 'coach': 1616, 'scaring': 1617, 'designs': 1618, 'losing': 1619, 'soup': 1620, 'contain': 1621, 'restaurant': 1622, 'settings': 1623, 'music': 1624, 'rabies': 1625, 'dangerously': 1626, \"how's\": 1627, 'beg': 1628, 'ankle': 1629, 'answering': 1630, 'baseboards': 1631, 'holiday': 1632, 'surprise': 1633, 'holds': 1634, 'quadriplegic': 1635, 'tire': 1636, 'fringed': 1637, 'group': 1638, 'homeowner': 1639, 'popular': 1640, 'beverages': 1641, 'boards': 1642, 'glad': 1643, 'melt': 1644, 'paths': 1645, 'cannot': 1646, 'talk': 1647, 'pouncing': 1648, 'autumn': 1649, 'hate': 1650, 'hi': 1651, 'brought': 1652, 'five': 1653, 'started': 1654, 'write': 1655, 'quiet': 1656, 'cake': 1657, 'wanted': 1658, 'seriously': 1659, 'hazard': 1660, 'drank': 1661, \"shouldn't\": 1662, 'suffering': 1663, 'frustrated': 1664, 'dvd': 1665, 'drawing': 1666, 'nose': 1667, 'dry': 1668, 'grandson': 1669, 'moves': 1670, 'case': 1671, 'ones': 1672, 'windy': 1673, 'taste': 1674, 'paneling': 1675, 'balanced': 1676, 'tennis': 1677, 'spell': 1678, 'cool': 1679, 'stopped': 1680, 'placement': 1681, 'hopping': 1682, 'mirrors': 1683, 'roaring': 1684, 'landed': 1685, 'birdland': 1686, 'watched': 1687, \"bee's\": 1688, 'bugs': 1689, 'armchairs': 1690, 'listening': 1691, 'gentleman': 1692, 'horses': 1693, 'course': 1694, 'arrangement': 1695, 'perspective': 1696, 'flowering': 1697, 'storm': 1698, 'v': 1699, 'shoe': 1700, 'murder': 1701, 'diaper': 1702, 'sweet': 1703, 'suppose': 1704, 'pleased': 1705, 'access': 1706, 'lifting': 1707, 'gravity': 1708, 'participating': 1709, 'annoyed': 1710, 'landing': 1711, 'stepping': 1712, 'aside': 1713, 'expect': 1714, 'biggest': 1715, 'yes': 1716, 'cloudless': 1717, 'needed': 1718, 'dig': 1719, 'travel': 1720, 'lawn': 1721, 'backyard': 1722, 'playful': 1723, 'youngest': 1724, 'dishes': 1725, 'symmetrically': 1726, 'third': 1727, \"scooter's\": 1728, 'wise': 1729, 'designed': 1730, 'backwards': 1731, 'sunsets': 1732, 'headlight': 1733, 'due': 1734, 'scenery': 1735, 'monitor': 1736, 'walked': 1737, 'texture': 1738, 'jumps': 1739, 'boots': 1740, 'coaches': 1741, 'ceiling': 1742, 'grandchild': 1743, 'imaginary': 1744, 'jumped': 1745, 'toadstools': 1746, 'heavier': 1747, 'string': 1748, 'junk': 1749, 'entertainment': 1750, 'platter': 1751, \"isn't\": 1752, 'gathering': 1753, 'tie': 1754, 'burnt': 1755, 'interest': 1756, 'plays': 1757, 'greenery': 1758, 'parking': 1759, 'allow': 1760, 'limbs': 1761, 'disturbed': 1762, 'approve': 1763, 'letting': 1764, 'joy': 1765, 'smores': 1766, 'electrical': 1767, 'shoulders': 1768, 'burger': 1769, 'intended': 1770, 'individual': 1771, 'traveling': 1772, 'imitating': 1773, 'chicken': 1774, 'boyfriend': 1775, 'distressed': 1776, 'balancing': 1777, 'obstructing': 1778, 'hatched': 1779, 'perfectly': 1780, 'ahead': 1781, 'systems': 1782, 'relationship': 1783, 'buy': 1784, 'generations': 1785, 'me': 1786, 'plaid': 1787, 'fake': 1788, 'indicate': 1789, 'pulled': 1790, 'sections': 1791, 'rodent': 1792, 'seems': 1793, 'tame': 1794, 'pass': 1795, 'outlets': 1796, 'hiking': 1797, 'sneakers': 1798, 'pretty': 1799, 'eager': 1800, 'prey': 1801, 'world': 1802, 'grandchildren': 1803, 'crescent': 1804, 'hips': 1805, 'sizes': 1806, 'order': 1807, 'workout': 1808, 'bearing': 1809, 'enjoyable': 1810, 'champagne': 1811, 'triangle': 1812, 'cause': 1813, 'power': 1814, 'inebriated': 1815, 'heading': 1816, 'casting': 1817, 'adjusting': 1818, 'leap': 1819, 'dream': 1820, 'poison': 1821, 'neglecting': 1822, 'shaded': 1823, 'photograph': 1824, 'umbrella': 1825, 'base': 1826, 'cuddling': 1827, 'cast': 1828, 'lie': 1829, 'represent': 1830, \"grandma's\": 1831, 'nearest': 1832, 'teapot': 1833, 'alert': 1834, 'disc': 1835, \"horse's\": 1836, 'saddle': 1837, 'molding': 1838, 'enter': 1839, 'painted': 1840, 'screens': 1841, 'shovels': 1842, 'highest': 1843, 'noise': 1844, 'makes': 1845, 'flight': 1846, 'i': 1847, 'braided': 1848, 'offer': 1849, 'pastry': 1850, 'journal': 1851, 'babysitter': 1852, \"right's\": 1853, 'money': 1854, 'fabric': 1855, 'jointed': 1856, 'lover': 1857, 'weigh': 1858, 'floors': 1859, 'ends': 1860, \"someone's\": 1861, 'deep': 1862, 'laces': 1863, 'tickling': 1864, 'intend': 1865, 'pines': 1866, 'elevated': 1867, 'egg': 1868, 'great': 1869, 'fever': 1870, 'celebration': 1871, 'martial': 1872, 'fresh': 1873, \"duck's\": 1874, 'bump': 1875, 'shut': 1876, 'forms': 1877, 'study': 1878, 'bambi': 1879, 'clutter': 1880, 'checkered': 1881, 'granny': 1882, \"dogs'\": 1883, 'engaging': 1884, 'lamps': 1885, 'portion': 1886, 'slits': 1887, 'sting': 1888, 'romance': 1889, 'castle': 1890, 'coordinated': 1891, 'wish': 1892, 'citizen': 1893, 't': 1894, 'serve': 1895, 'bun': 1896, 'plain': 1897, 'crack': 1898, 'eyebrows': 1899, 'rubbing': 1900, 'singing': 1901, 'hangers': 1902, 'folded': 1903, 'shaped': 1904, 'polka': 1905, 'thrive': 1906, 'daisies': 1907, 'choking': 1908, \"kid's\": 1909, 'further': 1910, 'grandparents': 1911, 'juice': 1912, 'fungi': 1913, 'rectangle': 1914, 'chihuahua': 1915, 'patterned': 1916, 'rests': 1917, 'blend': 1918, 'club': 1919, 'crooked': 1920, 'crawl': 1921, 'rolling': 1922, 'booze': 1923, 'birthday': 1924, 'obedient': 1925, 'granddaughter': 1926, 'broke': 1927, 'extra': 1928, 'fours': 1929, 'awkward': 1930, 'bathroom': 1931, '50': 1932, 'patting': 1933, 'jacks': 1934, 'shrub': 1935, 'problem': 1936, 'supervision': 1937, 'abusing': 1938, 'mind': 1939, 'cleaned': 1940, 'footstools': 1941, 'tiptoeing': 1942, 'prefer': 1943, 'areas': 1944, 'lighting': 1945, 'bothered': 1946, 'cookout': 1947, 'focused': 1948, 'lasagna': 1949, 'checked': 1950, 'protecting': 1951, 'unit': 1952, 'clutching': 1953, 'actually': 1954, 'chilly': 1955, 'happiest': 1956, 'provide': 1957, 'stripe': 1958, 'swooping': 1959, 's': 1960, 'mud': 1961, 'moved': 1962, 'trained': 1963, 'misplaced': 1964, 'knobs': 1965, 'draperies': 1966, 'brunette': 1967, 'passed': 1968, 'barbie': 1969, 'complete': 1970, 'pane': 1971, 'anxious': 1972, 'vacuumed': 1973, 'tone': 1974, 'happier': 1975, 'grand': 1976, 'tried': 1977, 'hour': 1978, 'legal': 1979, 'kite': 1980, 'supported': 1981, 'audience': 1982, 'smart': 1983, 'squatting': 1984, 'seesaws': 1985, 'utensil': 1986, 'treatment': 1987, 'wire': 1988, 'goodbye': 1989, 'successfully': 1990, 'lowest': 1991, 'diagonal': 1992, 'earlier': 1993, 'belt': 1994, 'freaking': 1995, 'belongs': 1996, 'chest': 1997, 'reflection': 1998, 'grips': 1999, 'barren': 2000, 'ruined': 2001, 'members': 2002, 'fungus': 2003, 'underwater': 2004, 'outstretched': 2005, 'catches': 2006, 'afternoon': 2007, 'organized': 2008, 'shooting': 2009, 'feline': 2010, 'learning': 2011, 'skate': 2012, 'misbehaving': 2013, 'polite': 2014, '6': 2015, 'artificial': 2016, 'symmetry': 2017, 'caught': 2018, 'dollars': 2019, 'times': 2020, 'smash': 2021, 'found': 2022, 'predators': 2023, 'behavior': 2024, 'electric': 2025, 'entertaining': 2026, 'happen': 2027, 'sticks': 2028, 'aquatic': 2029, 'visit': 2030, 'planter': 2031, 'lego': 2032, 'suit': 2033, 'sunscreen': 2034, 'covers': 2035, 'particular': 2036, 'save': 2037, 'irritated': 2038, 'pitcher': 2039, 'vehicles': 2040, 'represented': 2041, 'appreciate': 2042, 'silverware': 2043, 'loose': 2044, 'tease': 2045, 'surround': 2046, 'slowly': 2047, 'escape': 2048, 'feathers': 2049, 'collect': 2050, 'ways': 2051, 'waiving': 2052, 'traditionally': 2053, 'cupcakes': 2054, 'mixed': 2055, 'races': 2056, 'associated': 2057, 'got': 2058, 'drown': 2059, 'curl': 2060, 'wallpaper': 2061, 'enthusiastic': 2062, 'exhaust': 2063, 'action': 2064, 'glove': 2065, 'mountain': 2066, 'disturb': 2067, 'assistance': 2068, 'wife': 2069, 'choices': 2070, 'mammal': 2071, 'outfits': 2072, 'owns': 2073, 'follow': 2074, 'salsa': 2075, 'grilled': 2076, 'oblivious': 2077, 'helmets': 2078, 'silver': 2079, 'snakes': 2080, 'gymnastics': 2081, 'trousers': 2082, 'xbox': 2083, 'breaking': 2084, 'means': 2085, 'dye': 2086, 'knit': 2087, 'sundae': 2088, 'proportionally': 2089, 'compared': 2090, 'levitate': 2091, 'planned': 2092, 'airplane': 2093, 'scratched': 2094, 'bothering': 2095, 'oriental': 2096, 'cheering': 2097, 'circles': 2098, 'fascinated': 2099, 'hip': 2100, 'cell': 2101, 'word': 2102, 'describe': 2103, 'c': 2104, 'slow': 2105, \"boys'\": 2106, 'bbqing': 2107, \"chair's\": 2108, 'tasty': 2109, 'protection': 2110, 'bit': 2111, 'library': 2112, 'amphibians': 2113, 'mocking': 2114, 'device': 2115, 'annoying': 2116, 'neatly': 2117, 'salads': 2118, 'faces': 2119, 'charades': 2120, 'blooms': 2121, 'playset': 2122, 'ankles': 2123, 'tale': 2124, 'starting': 2125, 'athlete': 2126, 'forehead': 2127, 'skinned': 2128, 'leaned': 2129, 'breathing': 2130, 'pour': 2131, 'gathered': 2132, 'circus': 2133, 'blank': 2134, 'protect': 2135, 'breakdown': 2136, 'tools': 2137, 'support': 2138, 'butter': 2139, 'desserts': 2140, 'vegan': 2141, 'laptop': 2142, 'lure': 2143, 'collide': 2144, 'loaf': 2145, 'posing': 2146, 'doorway': 2147, 'dear': 2148, 'spotted': 2149, 'leaf': 2150, 'caucasian': 2151, 'resemble': 2152, 'van': 2153, 'rude': 2154, 'coordinate': 2155, 'situation': 2156, 'hallucinating': 2157, 'speed': 2158, 'routine': 2159, 'hawks': 2160, 'lab': 2161, 'cord': 2162, 'raw': 2163, 'cozy': 2164, 'gone': 2165, 'peeing': 2166, 'hotdogs': 2167, 'took': 2168, 'bake': 2169, 'reaches': 2170, 'risk': 2171, 'hispanic': 2172, 'hurry': 2173, 'sea': 2174, \"guy's\": 2175, 'notebook': 2176, 'citizens': 2177, 'marks': 2178, 'given': 2179, 'careful': 2180, 'row': 2181, 'lock': 2182, 'tip': 2183, 'oak': 2184, 'sore': 2185, 'sight': 2186, 'everywhere': 2187, 'splits': 2188, 'protected': 2189, 'wasp': 2190, 'frighten': 2191, 'crotch': 2192, 'remember': 2193, 'shows': 2194, 'cases': 2195, 'teapots': 2196, 'keeps': 2197, 'class': 2198, 'spring': 2199, 'relation': 2200, 'crumbs': 2201, 'act': 2202, 'fixated': 2203, 'tallest': 2204, 'hoarder': 2205, 'magic': 2206, 'decorating': 2207, 'change': 2208, 'channel': 2209, 'smile': 2210, 'season': 2211, 'butt': 2212, 'household': 2213, 'student': 2214, 'harming': 2215, 'receiving': 2216, 'tantrum': 2217, 'petted': 2218, 'interacting': 2219, 'baseballs': 2220, 'peaceful': 2221, 'changing': 2222, 'dominant': 2223, 'pretending': 2224, 'shelving': 2225, 'obscuring': 2226, 'dripping': 2227, 'tablecloths': 2228, 'picnicking': 2229, 'curved': 2230, 'sex': 2231, 'pole': 2232, 'skating': 2233, 'nicely': 2234, 'takes': 2235, 'drawers': 2236, 'answer': 2237, 'colorful': 2238, 'showroom': 2239, 'sundown': 2240, 'attracted': 2241, 'stroke': 2242, 'horizon': 2243, 'volleyball': 2244, 'wines': 2245, 'walkways': 2246, 'rising': 2247, 'built': 2248, 'evidence': 2249, 'thorns': 2250, 'trimmed': 2251, 'sanitary': 2252, 'figure': 2253, 'thru': 2254, 'pair': 2255, 'pretend': 2256, 'chosen': 2257, 'heads': 2258, 'seedless': 2259, 'late': 2260, 'furthest': 2261, \"don't\": 2262, 'rabid': 2263, 'attentive': 2264, 'american': 2265, 'ages': 2266, 'canines': 2267, 'stain': 2268, 'snacks': 2269, 'approach': 2270, 'outdoor': 2271, 'happened': 2272, 'lights': 2273, 'lad': 2274, 'posture': 2275, 'split': 2276, 'non': 2277, 'hotdog': 2278, 'predominant': 2279, 'biracial': 2280, 'ruining': 2281, 'fear': 2282, 'obscure': 2283, 'lemonade': 2284, 'imitate': 2285, 'obeying': 2286, 'law': 2287, \"couple's\": 2288, 'strength': 2289, 'slanted': 2290, 'deciding': 2291, 'super': 2292, 'relative': 2293, 'homes': 2294, 'peephole': 2295, 'fixing': 2296, 'sense': 2297, 'fuel': 2298, 'forth': 2299, 'bowlegged': 2300, 'movement': 2301, 'centerpiece': 2302, 'bushy': 2303, 'diet': 2304, 'muscles': 2305, 'snowy': 2306, 'knothole': 2307, 'mates': 2308, 'potty': 2309, 'staying': 2310, 'ridden': 2311, 'hypnotized': 2312, 'tipping': 2313, 'injure': 2314, 'lamp': 2315, 'yelled': 2316, 'anyplace': 2317, 'rehearsing': 2318, 'stressed': 2319, 'behaving': 2320, 'badly': 2321, 'comes': 2322, 'south': 2323, 'dresser': 2324, 'disks': 2325, 'mold': 2326, 'snake': 2327, 'remind': 2328, 'icarus': 2329, 'washable': 2330, 'deciduous': 2331, 'maintained': 2332, 'luck': 2333, 'tango': 2334, 'quickly': 2335, 'kiss': 2336, 'retrieve': 2337, 'continue': 2338, 'lesbian': 2339, 'angled': 2340, 'snuggling': 2341, 'fancy': 2342, 'speech': 2343, 'varieties': 2344, 'german': 2345, 'shepherd': 2346, 'us': 2347, 'dropped': 2348, 'indicated': 2349, 'poses': 2350, 'attitude': 2351, 'touches': 2352, 'unfinished': 2353, 'net': 2354, 'jewelry': 2355, 'parenting': 2356, 'route': 2357, \"ladies'\": 2358, 'backs': 2359, 'glare': 2360, 'proposal': 2361, 'infant': 2362, 'stained': 2363, 'trust': 2364, 'playstation': 2365, 'overgrown': 2366, 'massage': 2367, 'matched': 2368, 'tonight': 2369, 'bffs': 2370, 'scenario': 2371, 'restroom': 2372, 'bow': 2373, 'delivery': 2374, 'arrived': 2375, 'floppy': 2376, 'dimensions': 2377, 'supper': 2378, 'praying': 2379, 'perform': 2380, \"girls'\": 2381, 'hairstyles': 2382, 'fed': 2383, 'awaken': 2384, 'ingredients': 2385, 'guarding': 2386, 'wrestling': 2387, \"leg's\": 2388, 'magically': 2389, 'suspended': 2390, 'musical': 2391, 'liking': 2392, 'leader': 2393, 'tornado': 2394, 'spoon': 2395, 'instead': 2396, 'fork': 2397, 'spilled': 2398, 'hits': 2399, 'sticky': 2400, 'massaging': 2401, 'deodorant': 2402, 'wider': 2403, 'griller': 2404, 'ajar': 2405, 'torso': 2406, 'crook': 2407, 'pop': 2408, 'chop': 2409, 'balloon': 2410, 'shopping': 2411, 'nuts': 2412, 'quality': 2413, 'curious': 2414, 'suddenly': 2415, 'considering': 2416, 'extensive': 2417, 'interesting': 2418, 'sounds': 2419, 'rips': 2420, 'dish': 2421, 'relax': 2422, \"won't\": 2423, 'carpeting': 2424, 'buzzing': 2425, 'float': 2426, 'difficult': 2427, 'my': 2428, 'refrigerator': 2429, 'napkin': 2430, 'english': 2431, 'furry': 2432, 'collapse': 2433, 'duplicated': 2434, 'hello': 2435, 'wavy': 2436, 'flowerpot': 2437, 'elbows': 2438, 'hoping': 2439, 'artist': 2440, 'overcrowded': 2441, 'puffy': 2442, 'appropriately': 2443, 'touched': 2444, 'early': 2445, 'moms': 2446, 'bell': 2447, 'physically': 2448, 'spaced': 2449, 'equally': 2450, 'populated': 2451, 'obscured': 2452, 'must': 2453, 'tying': 2454, 'stiff': 2455, 'invisible': 2456, 'product': 2457, \"you'd\": 2458, 'displaying': 2459, 'plug': 2460, 'reminiscing': 2461, 'sunburned': 2462, 'd': 2463, 'last': 2464, \"dad's\": 2465, 'ladylike': 2466, 'saws': 2467, 'stumbling': 2468, 'discussion': 2469, 'pose': 2470, 'difference': 2471, 'range': 2472, 'member': 2473, 'woodwork': 2474, 'cruel': 2475, 'method': 2476, 'character': 2477, 'gloves': 2478, 'oval': 2479, 'barbecuing': 2480, 'maroon': 2481, 'knots': 2482, 'tape': 2483, 'deal': 2484, 'discussing': 2485, 'timeout': 2486, 'gallery': 2487, \"couch's\": 2488, 'circular': 2489, 'surfaces': 2490, 'protective': 2491, 'shortest': 2492, 'exchanging': 2493, 'users': 2494, 'goods': 2495, 'racist': 2496, 'pointed': 2497, 'strangers': 2498, 'sees': 2499, 'met': 2500, 'wolf': 2501, 'dinnertime': 2502, 'mats': 2503, 'ugly': 2504, 'lilies': 2505, 'bay': 2506, 'tops': 2507, 'once': 2508, 'merlot': 2509, 'plans': 2510, 'charge': 2511, 'smith': 2512, 'trouser': 2513, 'ladders': 2514, 'count': 2515, 'wings': 2516, 'cakes': 2517, 'invited': 2518, 'pathway': 2519, 'outing': 2520, 'melting': 2521, 'die': 2522, 'supplies': 2523, 'fiving': 2524, 'rifle': 2525, 'steep': 2526, 'rearranged': 2527, 'rather': 2528, 'ribbons': 2529, 'wide': 2530, 'houseplant': 2531, 'fir': 2532, 'nursing': 2533, 'daisy': 2534, 'artworks': 2535, 'organic': 2536, 'drape': 2537, 'tomato': 2538, 'cupcake': 2539, 'doorknob': 2540, 'effectively': 2541, 'town': 2542, 'wasted': 2543, 'arts': 2544, 'cap': 2545, 'perpendicular': 2546, 'nowhere': 2547, 'baked': 2548, 'blueberry': 2549, 'environment': 2550, 'peanut': 2551, 'loud': 2552, 'providing': 2553, 'deliberately': 2554, 'event': 2555, 'depiction': 2556, 'interrupting': 2557, 'trash': 2558, 'mallards': 2559, 'plenty': 2560, 'forks': 2561, 'springtime': 2562, 'shadowy': 2563, 'distracted': 2564, 'beat': 2565, 'tortoise': 2566, 'hooves': 2567, 'companion': 2568, 'farthest': 2569, 'loving': 2570, 'wires': 2571, 'shine': 2572, 'visiting': 2573, 'feral': 2574, \"mother's\": 2575, 'medicine': 2576, 'fawn': 2577, 'teacup': 2578, 'president': 2579, 'our': 2580, 'complexion': 2581, \"gogh's\": 2582, 'flowered': 2583, 'point': 2584, 'noticeable': 2585, 'infested': 2586, 'hedges': 2587, 'wakes': 2588, 'wind': 2589, 'blowing': 2590, 'reptiles': 2591, 'exterminator': 2592, 'bus': 2593, 'intersection': 2594, 'stings': 2595, 'tomorrow': 2596, 'cow': 2597, '10': 2598, 'attending': 2599, 'rules': 2600, 'native': 2601, 'loveseats': 2602, 'fort': 2603, 'everyday': 2604, 'lighter': 2605, 'fluid': 2606, 'country': 2607, 'shading': 2608, 'electronic': 2609, 'spare': 2610, 'deadbolt': 2611, 'conifer': 2612, 'hill': 2613, \"puppy's\": 2614, 'roasted': 2615, 'mischievous': 2616, 'spaceship': 2617, 'perm': 2618, 'arriving': 2619, 'laps': 2620, 'communicating': 2621, 'creases': 2622, 'wave': 2623, 'throws': 2624, 'hurts': 2625, 'portrayed': 2626, 'bangs': 2627, 'houses': 2628, 'soaring': 2629, 'ninja': 2630, 'pony': 2631, 'secured': 2632, 'italian': 2633, \"bicycle's\": 2634, 'inappropriately': 2635, 'overturn': 2636, 'patiently': 2637, 'pocket': 2638, 'pebbles': 2639, 'interrupt': 2640, 'bug': 2641, 'calisthenics': 2642, 'treats': 2643, 'national': 2644, 'adequate': 2645, 'momentum': 2646, 'slim': 2647, 'special': 2648, 'waking': 2649, 'french': 2650, 'unsafe': 2651, 'crushed': 2652, 'bark': 2653, 'endangered': 2654, 'extended': 2655, 'sparrow': 2656, 'ten': 2657, 'toe': 2658, 'barefoot': 2659, 'display': 2660, 'momma': 2661, 'rudolph': 2662, 'borders': 2663, 'husband': 2664, 'cared': 2665, 'purpose': 2666, 'saving': 2667, 'affected': 2668, 'depict': 2669, 'turkey': 2670, 'border': 2671, 'woke': 2672, '30': 2673, 'sized': 2674, 'mr': 2675, 'sniffing': 2676, 'visitors': 2677, 'glowing': 2678, 'expressing': 2679, 'emotion': 2680, 'cheer': 2681, 'seeking': 2682, 'playmate': 2683, 'suicidal': 2684, 'busy': 2685, 'earthquake': 2686, 'tiebacks': 2687, 'resembles': 2688, 'practice': 2689, 'buttons': 2690, 'responsible': 2691, \"gentleman's\": 2692, 'invite': 2693, \"bike's\": 2694, 'formations': 2695, 'jumper': 2696, 'bridge': 2697, 'wrist': 2698, 'upholstered': 2699, 'asking': 2700, 'magical': 2701, 'faint': 2702, 'brain': 2703, 'ocean': 2704, 'bag': 2705, 'antenna': 2706, 'hugging': 2707, 'observing': 2708, 'aerobics': 2709, 'disco': 2710, 'midday': 2711, 'opens': 2712, 'dreaming': 2713, 'painful': 2714, 'named': 2715, 'shell': 2716, 'zombie': 2717, 'though': 2718, 'gap': 2719, 'cola': 2720, 'rotten': 2721, 'classroom': 2722, 'track': 2723, 'heating': 2724, 'overturned': 2725, 'precarious': 2726, 'known': 2727, 'service': 2728, 'carried': 2729, 'chinese': 2730, 'win': 2731, 'competition': 2732, 'scavengers': 2733, 'monitors': 2734, 'scenes': 2735, 'ran': 2736, 'gazing': 2737, 'thighs': 2738, 'eyeing': 2739, 'furnishings': 2740, 'layout': 2741, 'designer': 2742, 'spying': 2743, 'smell': 2744, 'per': 2745, 'reindeer': 2746, 'stones': 2747, 'dusk': 2748, 'behaved': 2749, 'digging': 2750, 'cutting': 2751, 'infestation': 2752, 'decide': 2753, 'formally': 2754, 'ipad': 2755, 'farther': 2756, 'pencil': 2757, 'mistake': 2758, 'antlers': 2759, 'social': 2760, 'formation': 2761, 'alarm': 2762, 'accept': 2763, 'uniforms': 2764, 'said': 2765, 'cheating': 2766, 'looked': 2767, 'temperature': 2768, 'claws': 2769, 'spend': 2770, 'sleeps': 2771, 'sheet': 2772, 'embracing': 2773, 'obstacle': 2774, 'bushels': 2775, 'punch': 2776, 'command': 2777, 'groove': 2778, 'forgotten': 2779, 'chain': 2780, 'interior': 2781, 'mobile': 2782, 'doe': 2783, 'littered': 2784, 'antique': 2785, 'contained': 2786, 'camouflaged': 2787, 'defying': 2788, 'exhausted': 2789, 'poured': 2790, 'eats': 2791, 'afford': 2792, 'matchy': 2793, 'stereotypical': 2794, 'sunflowers': 2795, 'lined': 2796, 'students': 2797, 'sticking': 2798, 'tending': 2799, 'playroom': 2800, 'kill': 2801, 'domestic': 2802, 'ripe': 2803, 'triangles': 2804, 'emo': 2805, 'gesture': 2806, 'harley': 2807, 'skies': 2808, 'destroying': 2809, 'arched': 2810, 'bowl': 2811, 'mealtime': 2812, 'shaking': 2813, 'six': 2814, 'clock': 2815, 'elephant': 2816, 'escaped': 2817, 'pest': 2818, 'chaos': 2819, 'batter': 2820, \"animal's\": 2821, 'ties': 2822, 'planets': 2823, 'heel': 2824, 'yawn': 2825, 'flavor': 2826, 'distorted': 2827, 'rights': 2828, 'stink': 2829, 'within': 2830, 'picasso': 2831, 'flies': 2832, 'fastest': 2833, \"room's\": 2834, 'dumped': 2835, 'taunting': 2836, 'handstands': 2837, 'cartwheel': 2838, 'biological': 2839, 'tipsy': 2840, 'corners': 2841, \"s'mores\": 2842, 'creeped': 2843, 'mature': 2844, 'proofed': 2845, 'bumblebee': 2846, 'thick': 2847, 'midair': 2848, 'ripples': 2849, 'dive': 2850, 'rim': 2851, \"can't\": 2852, 'windowsill': 2853, 'spotting': 2854, 'regularly': 2855, 'stumps': 2856, 'nutritious': 2857, 'consoling': 2858, 'drops': 2859, '40': 2860, 'rested': 2861, 'noticed': 2862, 'garden': 2863, 'winning': 2864, 'stranger': 2865, 'slip': 2866, 'handlebars': 2867, 'asymmetrical': 2868, 'houseplants': 2869, 'checking': 2870, \"deer's\": 2871, 'hangar': 2872, 'mental': 2873, 'setup': 2874, 'prints': 2875, 'scattered': 2876, 'pleasant': 2877, 'problems': 2878, 'then': 2879, 'caterpillars': 2880, 'structure': 2881, 'speaking': 2882, 'carpets': 2883, 'pay': 2884, 'shy': 2885, 'hydrant': 2886, 'reds': 2887, 'disappointed': 2888, 'flora': 2889, 'perplexed': 2890, 'strips': 2891, 'add': 2892, 'dentist': 2893, 'recommend': 2894, 'pajamas': 2895, 'handsome': 2896, 'sunray': 2897, 'draw': 2898, 'immature': 2899, 'fingers': 2900, 'giants': 2901, 'especially': 2902, 'homelike': 2903, 'added': 2904, 'boxes': 2905, 'helpful': 2906, 'talent': 2907, 'st': 2908, 'bernard': 2909, 'meditate': 2910, 'wishing': 2911, 'waxed': 2912, 'foggy': 2913, 'strings': 2914, 'yawning': 2915, 'accurate': 2916, 'boldly': 2917, 'lick': 2918, 'ds': 2919, 'wintertime': 2920, 'nepal': 2921, 'muster': 2922, 'unpack': 2923, 'waterlily': 2924, 'ailment': 2925, 'feasting': 2926, 'moose': 2927, 'spaghetti': 2928, 'sweethearts': 2929, 'copying': 2930, 'postures': 2931, 'rekindling': 2932, 'cement': 2933, 'sipping': 2934, 'backing': 2935, 'bouquet': 2936, 'giggly': 2937, 'laden': 2938, 'braid': 2939, 'hemorrhoids': 2940, 'characters': 2941, 'threaten': 2942, 'demonstrating': 2943, 'alphabet': 2944, 'peyton': 2945, 'manning': 2946, 'effects': 2947, 'handler': 2948, 'hop': 2949, 'uneasy': 2950, 'straddling': 2951, 'collaborating': 2952, 'controlling': 2953, 'notes': 2954, 'slap': 2955, 'arrange': 2956, 'composing': 2957, 'landscapes': 2958, 'recital': 2959, 'skills': 2960, 'manipulating': 2961, 'habitat': 2962, 'tampering': 2963, 'salt': 2964, 'pillowcase': 2965, \"birds'\": 2966, 'scoots': 2967, 'seizure': 2968, 'assaulting': 2969, 'consumed': 2970, 'moonshine': 2971, 'tabby': 2972, 'joints': 2973, 'lunging': 2974, 'minutes': 2975, 'vegetables': 2976, 'chastising': 2977, 'stomping': 2978, 'handling': 2979, 'sleepover': 2980, 'allergy': 2981, 'flew': 2982, 'successful': 2983, '10pm': 2984, 'circling': 2985, 'therapy': 2986, 'session': 2987, 'experienced': 2988, 'loss': 2989, 'candles': 2990, 'user': 2991, 'splinters': 2992, 'buried': 2993, 'options': 2994, 'behavioral': 2995, 'state': 2996, 'drywall': 2997, 'sweating': 2998, 'rows': 2999, 'daycare': 3000, 'computers': 3001, 'purse': 3002, 'lever': 3003, 'nothing': 3004, 'rake': 3005, 'cardio': 3006, 'tips': 3007, 'lotion': 3008, 'neat': 3009, 'chaotic': 3010, 'fault': 3011, 'elements': 3012, 'postmenopausal': 3013, 'breast': 3014, 'relatives': 3015, 'homeowners': 3016, 'ford': 3017, 'hypnotizing': 3018, 'mexican': 3019, 'major': 3020, 'leagues': 3021, 'tangle': 3022, 'vacuum': 3023, 'cleaner': 3024, 'bath': 3025, 'trampled': 3026, 'messed': 3027, 'crisscrossed': 3028, 'olympian': 3029, 'feat': 3030, 'continues': 3031, 'glow': 3032, \"park's\": 3033, 'gardeners': 3034, 'bicyclist': 3035, 'inhibited': 3036, 'waved': 3037, 'interview': 3038, \"human's\": 3039, 'surfing': 3040, 'speak': 3041, 'retriever': 3042, 'competent': 3043, 'guardian': 3044, 'hyper': 3045, 'emergency': 3046, 'progress': 3047, 'packing': 3048, 'spoiled': 3049, 'informal': 3050, 'rays': 3051, 'vet': 3052, 'diner': 3053, 'extending': 3054, 'ivy': 3055, 'satisfied': 3056, 'homey': 3057, '18': 3058, 'carrots': 3059, 'caps': 3060, 'condition': 3061, 'venus': 3062, 'flytrap': 3063, 'dwarf': 3064, 'amusements': 3065, 'rooftop': 3066, 'surprising': 3067, 'deficits': 3068, 'cleared': 3069, 'holder': 3070, 'cumulus': 3071, 'presence': 3072, 'pipe': 3073, 'n': 3074, 'stinging': 3075, 'ethnic': 3076, 'thong': 3077, 'raptor': 3078, 'flirt': 3079, 'indicating': 3080, 'joint': 3081, 'eyesight': 3082, 'irons': 3083, \"s'more\": 3084, 'meatloaf': 3085, \"table's\": 3086, 'peacefully': 3087, 'rolls': 3088, 'treehouse': 3089, 'option': 3090, 'holders': 3091, 'scampering': 3092, 'firewood': 3093, 'smore': 3094, 'garbage': 3095, 'eagerness': 3096, 'wands': 3097, 'victory': 3098, 'shedding': 3099, 'strangely': 3100, 'wrap': 3101, 'teatime': 3102, 'punt': 3103, 'batting': 3104, 'section': 3105, 'shoreline': 3106, 'frankenstein': 3107, 'monster': 3108, 'asbestos': 3109, \"pee'ing\": 3110, 'assortment': 3111, 'welcome': 3112, 'root': 3113, 'crouching': 3114, 'lease': 3115, 'bathing': 3116, 'foil': 3117, 'trains': 3118, 'tiles': 3119, 'muddy': 3120, 'edges': 3121, 'unkempt': 3122, 'valances': 3123, 'familiar': 3124, 'gift': 3125, 'ferocious': 3126, 'worshiping': 3127, 'cubism': 3128, \"peoples'\": 3129, 'elevator': 3130, 'collection': 3131, 'mini': 3132, 'article': 3133, 'matt': 3134, 'subject': 3135, 'possession': 3136, 'dangling': 3137, 'godzilla': 3138, 'powered': 3139, 'cracker': 3140, 'speeds': 3141, 'rectangular': 3142, 'adopt': 3143, 'willing': 3144, 'reflect': 3145, 'wiping': 3146, 'freestanding': 3147, 'hairs': 3148, 'broad': 3149, 'shouldered': 3150, 'leaks': 3151, 'portray': 3152, 'presented': 3153, 'irish': 3154, 'teen': 3155, 'aged': 3156, 'overflowing': 3157, 'entirely': 3158, 'concentrating': 3159, 'skip': 3160, 'issues': 3161, 'belly': 3162, 'uncovered': 3163, 'vacant': 3164, 'growth': 3165, 'unspoiled': 3166, \"mantle's\": 3167, 'bumble': 3168, 'diapers': 3169, 'poor': 3170, 'mentally': 3171, 'dogging': 3172, 'licking': 3173, 'voluntarily': 3174, 'spent': 3175, 'meats': 3176, 'tiptoes': 3177, 'visibly': 3178, 'consist': 3179, 'crows': 3180, 'copies': 3181, 'reward': 3182, \"moms'\": 3183, 'paper': 3184, 'signed': 3185, 'trapped': 3186, 'flip': 3187, 'funeral': 3188, 'hipster': 3189, 'argue': 3190, 'equipments': 3191, 'carpeted': 3192, 'poo': 3193, 'handlebar': 3194, 'kickball': 3195, 'brick': 3196, 'ample': 3197, 'creepy': 3198, \"fireplace's\": 3199, 'bend': 3200, 'furious': 3201, 'sober': 3202, 'star': 3203, 'ppl': 3204, 'pc': 3205, 'thought': 3206, 'shared': 3207, 'sadness': 3208, 'important': 3209, 'brushing': 3210, 'awakes': 3211, 'limping': 3212, 'technique': 3213, 'bog': 3214, 'repetition': 3215, 'flute': 3216, 'touchdowns': 3217, 'bland': 3218, 'disagreement': 3219, 'pleading': 3220, 'reddish': 3221, 'abandon': 3222, 'since': 3223, 'urgently': 3224, 'explain': 3225, 'totters': 3226, 'draped': 3227, 'rhyme': 3228, 'goldfish': 3229, 'inhabit': 3230, 'continuous': 3231, 'flexible': 3232, 'news': 3233, 'conversing': 3234, 'plastic': 3235, 'seniors': 3236, 'provided': 3237, 'breath': 3238, 'telephone': 3239, 'delicious': 3240, 'random': 3241, 'withholding': 3242, 'truly': 3243, 'straightener': 3244, 'heaviest': 3245, 'mild': 3246, 'rattlesnake': 3247, 'squeaky': 3248, 'rib': 3249, 'roller': 3250, 'skates': 3251, 'attracting': 3252, 'piano': 3253, 'pollinator': 3254, 'electricity': 3255, 'disturbing': 3256, 'illegal': 3257, 'alarmed': 3258, 'swatting': 3259, 'daze': 3260, 'memorabilia': 3261, 'clasping': 3262, 'triffids': 3263, 'playgroup': 3264, \"adult's\": 3265, 'skunks': 3266, 'meaty': 3267, 'gear': 3268, 'waterpark': 3269, 'impress': 3270, 'umpire': 3271, 'blooded': 3272, 'flaming': 3273, 'beam': 3274, \"feather's\": 3275, 'en': 3276, 'attach': 3277, 'intentionally': 3278, 'camelback': 3279, 'caboose': 3280, 'rod': 3281, 'tutoring': 3282, 'grassy': 3283, 'tender': 3284, 'abnormal': 3285, 'midget': 3286, 'monet': 3287, 'malevolent': 3288, 'earth': 3289, 'aiming': 3290, 'screws': 3291, 'frolicking': 3292, 'beating': 3293, 'hell': 3294, 'panic': 3295, 'patties': 3296, 'spied': 3297, 'eight': 3298, 'prominent': 3299, 'abused': 3300, 'wineglass': 3301, 'transports': 3302, 'ballerina': 3303, 'servings': 3304, 'slapping': 3305, 'laughter': 3306, 'meals': 3307, 'hammered': 3308, 'anderson': 3309, \"cooper's\": 3310, \"pond's\": 3311, 'superior': 3312, 'maneuverability': 3313, 'traffic': 3314, 'directions': 3315, 'frat': 3316, 'murdered': 3317, 'solar': 3318, 'eclipse': 3319, 'thinks': 3320, 'raked': 3321, 'wedgie': 3322, 'spreading': 3323, 'roper': 3324, 'becoming': 3325, 'aches': 3326, 'chases': 3327, 'referred': 3328, 'soap': 3329, 'opera': 3330, 'circle': 3331, 'teter': 3332, 'tater': 3333, 'bluebird': 3334, \"scene's\": 3335, 'crumb': 3336, 'gut': 3337, 'contaminated': 3338, 'salmonella': 3339, 'q': 3340, 'tracksuit': 3341, 'stroking': 3342, 'woodland': 3343, 'lump': 3344, 'litter': 3345, 'shakes': 3346, 'grampa': 3347, 'kneel': 3348, 'distressing': 3349, 'lilypad': 3350, 'placing': 3351, 'protest': 3352, 'rally': 3353, 'paw': 3354, 'cuddled': 3355, 'barricade': 3356, 'filling': 3357, 'levitated': 3358, 'hatchlings': 3359, 'completed': 3360, 'kitties': 3361, 'jersey': 3362, 'segment': 3363, 'bodybuilder': 3364, 'decayed': 3365, 'flooded': 3366, 'nearly': 3367, 'pyromaniac': 3368, 'safest': 3369, 'cocker': 3370, 'spaniel': 3371, 'become': 3372, 'bunt': 3373, 'dui': 3374, 'lumps': 3375, 'poodle': 3376, 'lanky': 3377, 'jam': 3378, 'tries': 3379, 'modes': 3380, 'productive': 3381, 'faking': 3382, 'blacks': 3383, 'bricks': 3384, 'prepare': 3385, 'rid': 3386, 'drifts': 3387, 'west': 3388, 'eventually': 3389, 'obstruct': 3390, 'abuse': 3391, 'abby': 3392, 'job': 3393, 'paisley': 3394, 'perching': 3395, 'checkers': 3396, 'marbles': 3397, 'meditation': 3398, 'sunrise': 3399, 'olympic': 3400, 'gymnast': 3401, 'perming': 3402, 'coverings': 3403, 'prove': 3404, 'crouched': 3405, 'summon': 3406, 'asian': 3407, 'tracks': 3408, 'site': 3409, 'antelopes': 3410, 'lefts': 3411, 'mighty': 3412, 'peering': 3413, \"aesop's\": 3414, 'fable': 3415, 'queen': 3416, 'iron': 3417, 'features': 3418, 'woodpecker': 3419, 'pests': 3420, 'remembering': 3421, 'mow': 3422, 'capture': 3423, 'unraveling': 3424, 'wool': 3425, 'looming': 3426, 'hazards': 3427, 'robbed': 3428, 'leftover': 3429, 'groups': 3430, 'families': 3431, 'judging': 3432, 'hosting': 3433, 'ranging': 3434, 'pooch': 3435, 'chips': 3436, \"toddler's\": 3437, 'suvs': 3438, 'adventurous': 3439, 'tiny': 3440, 'inner': 3441, 'sawed': 3442, \"pad's\": 3443, 'wilt': 3444, 'tempted': 3445, 'weeks': 3446, 'overrunning': 3447, 'exerted': 3448, 'whale': 3449, 'chewy': 3450, 'bought': 3451, 'propose': 3452, 'sundaes': 3453, 'amuse': 3454, 'freshly': 3455, 'seduced': 3456, 'lean': 3457, 'extinguish': 3458, 'blaze': 3459, 'beer': 3460, 'dresses': 3461, 'icing': 3462, 'causing': 3463, 'ignore': 3464, 'picked': 3465, 'unique': 3466, 'responsibly': 3467, 'elated': 3468, 'gogh': 3469, 'cutlery': 3470, 'immediately': 3471, 'brakes': 3472, 'monochromatic': 3473, 'cork': 3474, 'physical': 3475, 'strawberry': 3476, 'smells': 3477, '9': 3478, 'crocheting': 3479, 'street': 3480, 'click': 3481, 'direct': 3482, 'disgusting': 3483, 'internet': 3484, 'connection': 3485, 'resisting': 3486, 'temptation': 3487, 'practical': 3488, 'check': 3489, 'sink': 3490, 'sugar': 3491, 'bicycling': 3492, 'pools': 3493, 'eyeballs': 3494, 'bacon': 3495, 'nacho': 3496, 'fascinating': 3497, 'treetop': 3498, 'capable': 3499, 'fibers': 3500, 'toxic': 3501, 'cheerful': 3502, 'blossoms': 3503, 'collision': 3504, 'rippling': 3505, 'suggest': 3506, 'guidelines': 3507, 'knows': 3508, 'directing': 3509, 'dutch': 3510, 'thread': 3511, 'unraveled': 3512, 'appetite': 3513, 'stationary': 3514, 'accurately': 3515, 'moonlight': 3516, 'toddlers': 3517, 'breathe': 3518, 'wheel': 3519, 'warning': 3520, 'motorbikes': 3521, 'hump': 3522, 'purr': 3523, 'quarterback': 3524, 'additional': 3525, 'alleviate': 3526, \"floor's\": 3527, 'appearance': 3528, 'knocks': 3529, 'useful': 3530, 'picnics': 3531, 'stream': 3532, 'vegetable': 3533, 'calming': 3534, 'birth': 3535, 'terrain': 3536, 'whether': 3537, 'mine': 3538, 'addition': 3539, 'divides': 3540, 'meets': 3541, 'weekend': 3542, 'abnormally': 3543, 'crayon': 3544, 'frills': 3545, \"women's'\": 3546, 'sparsely': 3547, 'less': 3548, 'fertilized': 3549, 'switch': 3550, 'propped': 3551, 'beaks': 3552, 'rooms': 3553, 'sour': 3554, 'lived': 3555, 'powers': 3556, 'true': 3557, 'provincial': 3558, 'modest': 3559, 'surroundings': 3560, 'shielding': 3561, 'potentially': 3562, 'leather': 3563, 'locations': 3564, 'breakdancing': 3565, 'luring': 3566, 'upwards': 3567, 'easier': 3568, 'cigar': 3569, 'underage': 3570, 'vitality': 3571, 'inspire': 3572, 'meditative': 3573, 'miserable': 3574, \"anyone's\": 3575, 'restless': 3576, 'blues': 3577, 'suffer': 3578, 'baldness': 3579, 'supporting': 3580, 'ent': 3581, 'lesbians': 3582, 'blind': 3583, 'plush': 3584, 'companionship': 3585, 'inwards': 3586, 'prevent': 3587, 'brunettes': 3588, 'sexy': 3589, 'marry': 3590, 'states': 3591, 'circumstances': 3592, 'consuming': 3593, 'dvr': 3594, 'drought': 3595, 'dizzy': 3596, 'among': 3597, 'shots': 3598, 'chatting': 3599, 'account': 3600, 'china': 3601, 'eared': 3602, 'bouncing': 3603, 'bountiful': 3604, 'chilling': 3605, 'womans': 3606, 'few': 3607, 'interact': 3608, 'paris': 3609, 'hilton': 3610, 'assuming': 3611, 'alligators': 3612, 'piranhas': 3613, 'angel': 3614, 'fried': 3615, 'garfield': 3616, 'degrading': 3617, 'styles': 3618, 'backward': 3619, 'pollinating': 3620, 'yucky': 3621, 'fattening': 3622, 'neglected': 3623, 'dazed': 3624, 'stuffing': 3625, 'blow': 3626, 'pecking': 3627, 'solitude': 3628, 'honor': 3629, 'menacing': 3630, \"fish's\": 3631, \"female's\": 3632, 'dunes': 3633, 'vent': 3634, 'canned': 3635, 'adjacent': 3636, 'underpants': 3637, 'hovel': 3638, 'cockroaches': 3639, 'unfastened': 3640, 'december': 3641, 'anniversary': 3642, 'excessive': 3643, 'via': 3644, 'tripped': 3645, 'symmetric': 3646, 'politeness': 3647, 'werewolf': 3648, 'daily': 3649, 'shuttle': 3650, 'noontime': 3651, 'interfere': 3652, 'upsetting': 3653, 'alligator': 3654, 'dissect': 3655, 'chunk': 3656, 'dears': 3657, 'drinkers': 3658, 'entice': 3659, 'imagination': 3660, 'diagonally': 3661, 'purchased': 3662, '12': 3663, '00': 3664, 'pm': 3665, 'buck': 3666, 'shark': 3667, 'pizzas': 3668, 'healthiest': 3669, 'drives': 3670, 'majority': 3671, 'solitary': 3672, 'motorized': 3673, 'easter': 3674, 'hazardous': 3675, 'glassed': 3676, 'wary': 3677, 'remarkably': 3678, 'minimal': 3679, 'camel': 3680, 'persian': 3681, 'taxi': 3682, 'created': 3683, 'shot': 3684, '22': 3685, 'popsicles': 3686, 'scenic': 3687, 'guess': 3688, 'relieving': 3689, 'itch': 3690, 'dander': 3691, 'allergies': 3692, 'contraption': 3693, 'nails': 3694, 'bigfoot': 3695, \"sun's\": 3696, 'divided': 3697, 'equidistant': 3698, 'outdoorsy': 3699, \"pet's\": 3700, 'engaged': 3701, 'lands': 3702, 'chi': 3703, 'darkest': 3704, 'deserts': 3705, 'abducted': 3706, 'aliens': 3707, 'army': 3708, 'harder': 3709, 'scale': 3710, 'hitchhiking': 3711, 'interracial': 3712, 'bicyclists': 3713, 'cramped': 3714, 'stadiums': 3715, 'foliated': 3716, 'kayaking': 3717, 'neither': 3718, 'contains': 3719, 'blond': 3720, 'milk': 3721, 'nibbling': 3722, 'shirted': 3723, 'eldest': 3724, 'confident': 3725, 'disguised': 3726, \"squirrel's\": 3727, 'multiple': 3728, 'punished': 3729, \"pant's\": 3730, 'haunted': 3731, 'imbibing': 3732, 'coal': 3733, 'began': 3734, 'wobbly': 3735, 'darning': 3736, \"'monkey\": 3737, \"bars'\": 3738, \"who's\": 3739, 'forcing': 3740, 'underwhelmed': 3741, 'claw': 3742, 'rained': 3743, 'difficulty': 3744, 'duckling': 3745, 'defense': 3746, 'smiles': 3747, 'pals': 3748, 'destroy': 3749, 'arrested': 3750, 'host': 3751, 'cooker': 3752, 'prancing': 3753, 'reminiscent': 3754, 'bye': 3755, 'miniature': 3756, 'version': 3757, 'unicycle': 3758, \"its'\": 3759, 'sibling': 3760, 'shyly': 3761, 'mound': 3762, 'selves': 3763, 'stroll': 3764, 'coordination': 3765, 'cityscape': 3766, 'chia': 3767, 'tightly': 3768, 'collars': 3769, 'recreational': 3770, 'cabinet': 3771, 'slipping': 3772, 'ablaze': 3773, 'seesawing': 3774, 'miss': 3775, 'l': 3776, 'blissful': 3777, 'crushing': 3778, 'fools': 3779, 'nutrition': 3780, 'uninvited': 3781, 'abruptly': 3782, 'ashamed': 3783, 'rover': 3784, 'chat': 3785, 'cartoons': 3786, 'neighbor': 3787, 'dalmatian': 3788, 'contact': 3789, 'lens': 3790, 'weights': 3791, 'frozen': 3792, \"sofa's\": 3793, 'footrest': 3794, 'questions': 3795, 'snuggled': 3796, 'hopscotch': 3797, 'example': 3798, 'minimalism': 3799, 'wasps': 3800, 'entrance': 3801, 'report': 3802, 'athletes': 3803, 'focusing': 3804, 'viewed': 3805, 'sunlit': 3806, 'yearn': 3807, 'chubby': 3808, 'bedtime': 3809, 'formed': 3810, 'judo': 3811, 'approaches': 3812, 'machine': 3813, 'sons': 3814, 'toupee': 3815, 'maple': 3816, 'someplace': 3817, 'batteries': 3818, 'pollinate': 3819, \"there's\": 3820, 'championship': 3821, 'socially': 3822, 'acceptable': 3823, 'defeating': 3824, 'flopping': 3825, 'recline': 3826, 'mulch': 3827, 'skull': 3828, 'anorexic': 3829, 'wagging': 3830, 'offense': 3831, 'detention': 3832, 'tutored': 3833, 'tangled': 3834, 'handicapped': 3835, 'prowler': 3836, 'felt': 3837, 'neighbors': 3838, 'hall': 3839, 'yell': 3840, 'dump': 3841, 'contents': 3842, 'sockets': 3843, 'scoops': 3844, 'appreciated': 3845, 'experiencing': 3846, 'homosexual': 3847, 'intersect': 3848, 'crafts': 3849, 'gave': 3850, 'doormat': 3851, 'sneaky': 3852, \"places's\": 3853, \"grandpa's\": 3854, 'pre': 3855, 'operable': 3856, 'migrates': 3857, 'migratory': 3858, 'flock': 3859, 'loves': 3860, 'diverse': 3861, 'refuse': 3862, 'pe': 3863, \"something's\": 3864, 'puppet': 3865, 'official': 3866, 'syrup': 3867, 'dementia': 3868, 'biker': 3869, 'nurturing': 3870, \"'something\": 3871, 'rhymes': 3872, 'religious': 3873, \"activity'\": 3874, 'lopsided': 3875, 'outer': 3876, 'teens': 3877, 'sideway': 3878, 'skiing': 3879, 'clip': 3880, 'chiropractor': 3881, 'adjustments': 3882, 'examples': 3883, 'realism': 3884, 'heavens': 3885, 'compartments': 3886, 'topple': 3887, 'mounds': 3888, 'acutely': 3889, 'buying': 3890, 'leveled': 3891, 'sorry': 3892, 'recess': 3893, 'stare': 3894, 'contest': 3895, 'seducing': 3896, 'sharpening': 3897, 'anyway': 3898, 'tiger': 3899, 'exceptionally': 3900, 'beautiful': 3901, 'arthritis': 3902, 'secrets': 3903, 'pun': 3904, 'piles': 3905, 'sassy': 3906, 'kidnap': 3907, 'defecating': 3908, 'pedestrians': 3909, 'consume': 3910, 'charcoal': 3911, 'moldings': 3912, 'advice': 3913, 'hamster': 3914, 'combining': 3915, 'adapted': 3916, 'irresponsible': 3917, 'intoxicated': 3918, 'folks': 3919, 'orca': 3920, 'apex': 3921, \"dvd's\": 3922, 'jazzercise': 3923, 'thumb': 3924, 'stilettos': 3925, \"let's\": 3926, 'separately': 3927, 'cycle': 3928, 'cocktail': 3929, 'owned': 3930, 'cantaloupe': 3931, \"where's\": 3932, \"childrens'\": 3933, 'catcher': 3934, 'skittish': 3935, 'lips': 3936, 'thrower': 3937, 'repot': 3938, 'residents': 3939, 'companions': 3940, 'penguin': 3941, 'spokes': 3942, 'bedroom': 3943, 'bookends': 3944, 'longboarding': 3945, 'vertically': 3946, 'drowning': 3947, 'driven': 3948, 'wedding': 3949, 'drunkard': 3950, 'significant': 3951, 'violets': 3952, 'landscaped': 3953, 'limp': 3954, 'rains': 3955, 'confined': 3956, 'sushi': 3957, 'lounge': 3958, 'shoestring': 3959, 'budget': 3960, 'butler': 3961, \"'jump\": 3962, \"roper'\": 3963, 'emit': 3964, 'radiant': 3965, 'squats': 3966, 'kissing': 3967, 'bordeaux': 3968, 'robin': 3969, 'teach': 3970, 'hoarding': 3971, 'physics': 3972, 'diameter': 3973, 'healthier': 3974, 'outnumbering': 3975, 'caterpillar': 3976, 'neptune': 3977, \"top's\": 3978, 'store': 3979, 'overrun': 3980, 'visitor': 3981, 'liqueur': 3982, 'grownups': 3983, 'switched': 3984, 'sunbathe': 3985, 'magazines': 3986, 'opposites': 3987, 'ufo': 3988, 'corked': 3989, 'groin': 3990, 'pearl': 3991, 'vertical': 3992, 'release': 3993, 'capacity': 3994, 'assigned': 3995, 'benchmade': 3996, 'carnivorous': 3997, \"dollhouse's\": 3998, 'dormant': 3999, 'signs': 4000, 'seasonal': 4001, 'schizophrenia': 4002, 'synchronized': 4003, 'psychopath': 4004, 'innocent': 4005, 'nearing': 4006, 'outlines': 4007, 'brutally': 4008, 'assaulted': 4009, 'pedals': 4010, 'talons': 4011, 'partner': 4012, 'distract': 4013, 'suited': 4014, 'coloring': 4015, 'addiction': 4016, 'overlapping': 4017, 'mohawk': 4018, 'haircut': 4019, 'smokey': 4020, 'fool': 4021, 'loyal': 4022, 'hunched': 4023, 'unlocked': 4024, 'hailing': 4025, 'saucers': 4026, 'repossessed': 4027, 'fearless': 4028, 'plucked': 4029, 'units': 4030, 'weighs': 4031, 'realize': 4032, 'slain': 4033, 'entered': 4034, 'license': 4035, 'consumption': 4036, 'tresses': 4037, 'nerves': 4038, 'sound': 4039, 'lite': 4040, 'campfires': 4041, 'bats': 4042, 'sinkholes': 4043, 'davidson': 4044, 'court': 4045, 'synchronizing': 4046, 'movements': 4047, 'subway': 4048, 'approved': 4049, 'consumer': 4050, 'commission': 4051, 'idiot': 4052, 'african': 4053, 'lifted': 4054, 'drug': 4055, 'andy': 4056, 'warhol': 4057, 'rails': 4058, 'softball': 4059, 'ganging': 4060, 'combover': 4061, 'whispering': 4062, 'lately': 4063, 'conditions': 4064, 'cuts': 4065, 'driver': 4066, \"'o\": 4067, 'thrones': 4068, 'cob': 4069, 'expert': 4070, 'disappear': 4071, 'pushup': 4072, 'monkeying': 4073, 'peer': 4074, 'pressure': 4075, 'crayons': 4076, 'jelly': 4077, 'noticing': 4078, 'embers': 4079, 'replaced': 4080, 'upholstery': 4081, 'vowel': 4082, 'snoopy': 4083, 'rush': 4084, 'rotted': 4085, 'agree': 4086, 'steadier': 4087, 'stocked': 4088, 'swarming': 4089, 'mismatched': 4090, 'silly': 4091, 'monochrome': 4092, 'practiced': 4093, 'awkwardly': 4094, 'attire': 4095, 'bodies': 4096, 'proximity': 4097, 'harness': 4098, 'bikers': 4099, 'fare': 4100, 'creating': 4101, 'tilt': 4102, 'unravel': 4103, 'damaged': 4104, \"aren't\": 4105, 'schooling': 4106, 'troublemaker': 4107, 'novel': 4108, 'specimens': 4109, 'canna': 4110, 'fluffing': 4111, 'ups': 4112, 'motorbike': 4113, 'markings': 4114, 'condiments': 4115, 'pugs': 4116, 'except': 4117, 'siding': 4118, 'unsure': 4119, 'choice': 4120, 'studio': 4121, 'tightrope': 4122, 'reads': 4123, 'onesie': 4124, 'diets': 4125, 'startle': 4126, 'monarch': 4127, \"eagle's\": 4128, 'barcalounger': 4129, 'recliner': 4130, 'question': 4131, 'average': 4132, '25': 4133, 'sprained': 4134, 'impressed': 4135, 'pace': 4136, 'landscaper': 4137, 'unsuspecting': 4138, 'urinate': 4139, 'hatch': 4140, 'screaming': 4141, 'alice': 4142, 'wonderland': 4143, 'college': 4144, 'textured': 4145, 'valence': 4146, 'homeless': 4147, 'maker': 4148, 'runner': 4149, 'sturdy': 4150, \"that's\": 4151, 'flavors': 4152, 'watchful': 4153, 'incomplete': 4154, 'chrome': 4155, 'hub': 4156, 'glade': 4157, 'ins': 4158, 'accident': 4159, 'oriented': 4160, 'worry': 4161, 'sided': 4162, 'strip': 4163, 'stereos': 4164, 'mustache': 4165, \"rug's\": 4166, 'stairs': 4167, 'hipsters': 4168, 'hyperactive': 4169, 'albino': 4170, 'ask': 4171, 'maintaining': 4172, 'until': 4173, 'segments': 4174, 'barking': 4175, 'mallard': 4176, 'pampered': 4177, 'mamma': 4178, 'heavily': 4179, 'sensible': 4180, 'coax': 4181, 'girth': 4182, 'connect': 4183, 'meadow': 4184, 'greens': 4185, 'proclaiming': 4186, 'pitching': 4187, 'spin': 4188, 'brat': 4189, 'pepperoni': 4190, 'accent': 4191, \"ground's\": 4192, \"bench's\": 4193, 'armpit': 4194, 'calls': 4195, 'sign': 4196, 'language': 4197, 'death': 4198, 'senile': 4199, 'awaiting': 4200, 'dude': 4201, 'require': 4202, 'occasion': 4203, 'waterfowl': 4204, 'crowd': 4205, 'backache': 4206, 'pasture': 4207, 'cows': 4208, 'leprechauns': 4209, 'nut': 4210, 'outline': 4211, 'laws': 4212, 'temporarily': 4213, 'residence': 4214, 'converge': 4215, '60': 4216, 'organism': 4217, 'gardens': 4218, 'upon': 4219, 'prevalent': 4220, 'faced': 4221, 'utilize': 4222, 'offered': 4223, 'restarts': 4224, 'rafting': 4225, 'confounded': 4226, 'toppled': 4227, 'viewable': 4228, 'patches': 4229, 'catapult': 4230, 'simon': 4231, 'says': 4232, 'generally': 4233, 'displayed': 4234, 'garage': 4235, 'describing': 4236, 'devoid': 4237, 'spayed': 4238, 'neutered': 4239, 'business': 4240, 'illumination': 4241, 'cotton': 4242, \"gentlemen's\": 4243, 'insanely': 4244, 'newscast': 4245, 'tracking': 4246, 'carve': 4247, 'initials': 4248, 'scuba': 4249, 'regulation': 4250, 'operate': 4251, 'deformed': 4252, 'bonfire': 4253, 'eclipsed': 4254, 'parentless': 4255, 'belongings': 4256, 'hunters': 4257, 'suny': 4258, 'elbow': 4259, '90': 4260, 'degrees': 4261, 'forgiveness': 4262, 'ginger': 4263, 'knead': 4264, 'bury': 4265, 'bill': 4266, 'delighted': 4267, 'actions': 4268, 'dubbed': 4269, 'smoking': 4270, 'mouser': 4271, 'plated': 4272, 'sunbathing': 4273, 'airflow': 4274, \"1970's\": 4275, 'hammock': 4276, 'crush': 4277, 'ring': 4278, 'longboards': 4279, 'coon': 4280, 'campsite': 4281, 'slightly': 4282, 'trx': 4283, 'authentic': 4284, 'comforting': 4285, 'aggressively': 4286, 'dyes': 4287, 'mothers': 4288, 'pictionary': 4289, 'simulated': 4290, 'edo': 4291, 'japan': 4292, 'talented': 4293, 'perch': 4294, 'gluten': 4295, 'sleeper': 4296, 'wheelers': 4297, 'ideal': 4298, 'viewing': 4299, 'rings': 4300, 'rag': 4301, 'shoot': 4302, 'rocket': 4303, 'spider': 4304, 'web': 4305, 'rooting': 4306, 'substitute': 4307, 'spinning': 4308, 'totally': 4309, 'surfboard': 4310, 'daddy': 4311, 'disparate': 4312, 'architecture': 4313, 'dressing': 4314, 'poking': 4315, 'nimbus': 4316, 'mars': 4317, 'signaling': 4318, 'softest': 4319, 'horizontally': 4320, 'penguins': 4321, 'may': 4322, 'disorder': 4323, \"mans'\": 4324, 'whites': 4325, 'hue': 4326, 'morel': 4327, 'closet': 4328, \"they'll\": 4329, 'rainbow': 4330, 'mitt': 4331, 'robbing': 4332, 'horticultural': 4333, 'information': 4334, 'identify': 4335, 'worm': 4336, 'kicks': 4337, 'lumberjack': 4338, 'disrespectful': 4339, 'jive': 4340, 'nosed': 4341, 'positions': 4342, 'chef': 4343, 'lumberjacks': 4344, 'encounter': 4345, 'swans': 4346, 'ladys': 4347, 'outdated': 4348, 'stitches': 4349, 'y': 4350, 'outlet': 4351, 'process': 4352, 'literate': 4353, 'frazzled': 4354, 'swoop': 4355, 'levels': 4356, 'whit': 4357, 'berries': 4358, 'depicts': 4359, 'configuration': 4360, 'preventing': 4361, 'mantelpiece': 4362, 'sip': 4363, 'sharpen': 4364, 'horns': 4365, 'issue': 4366, 'seed': 4367, 'guardians': 4368, 'jack': 4369, 'destination': 4370, 'certain': 4371, 'underworld': 4372, 'sing': 4373, 'lusting': 4374, 'fainting': 4375, 'health': 4376, 'efficient': 4377, 'genital': 4378, 'region': 4379, 'spout': 4380, 'guitar': 4381, \"plant's\": 4382, 'shoo': 4383, '16': 4384, 'saturday': 4385, 'overlord': 4386, 'turns': 4387, 'year': 4388, 'ant': 4389, 'tn': 4390, 'apron': 4391, 'rated': 4392, 'r': 4393, 'ticking': 4394, 'sculpture': 4395, 'urban': 4396, 'disrepair': 4397, 'tumbling': 4398, 'galloping': 4399, 'pinot': 4400, 'noir': 4401, 'weeping': 4402, 'projects': 4403, 'leaking': 4404, 'neon': 4405, 'juicy': 4406, 'marionette': 4407, 'deadly': 4408, 'lonesome': 4409, 'reached': 4410, 'collectors': 4411, 'respecting': 4412, 'serene': 4413, 'strike': 4414, 'standard': 4415, 'tells': 4416, 'grasp': 4417, 'scarier': 4418, 'separated': 4419, 'chose': 4420, 'shave': 4421, 'saplings': 4422, 'strung': 4423, \"robot's\": 4424, 'pearle': 4425, 'thrilled': 4426, 'fluffier': 4427, 'fishery': 4428, 'anymore': 4429, 'wh': 4430, 'steering': 4431, 'mario': 4432, 'post': 4433, 'private': 4434, 'cable': 4435, 'stupid': 4436, 'disney': 4437, 'discouraging': 4438, 'pavers': 4439, 'affection': 4440, 'comfort': 4441, 'hangings': 4442, 'warmer': 4443, 'dong': 4444, 'schemes': 4445, 'war': 4446, 'swarm': 4447, 'hearing': 4448, 'evil': 4449, '100': 4450, 'manicured': 4451, 'dimension': 4452, 'patty': 4453, 'tight': 4454, 'scalding': 4455, 'footing': 4456, 'bunches': 4457, 'excess': 4458, 'leftovers': 4459, 'rainforest': 4460, 'convenient': 4461, 'articles': 4462, 'vandalizing': 4463, 'doorways': 4464, 'cartwheels': 4465, 'coyote': 4466, 'prepped': 4467, 'mallow': 4468, 'fries': 4469, 'sprinting': 4470, 'representative': 4471, 'dimensional': 4472, 'plane': 4473, 'camp': 4474, 'crutches': 4475, 'biscuits': 4476, 'collage': 4477, 'marooned': 4478, 'beagle': 4479, 'please': 4480, 'master': 4481, 'blondes': 4482, 'motorcycles': 4483, 'whom': 4484, 'featuring': 4485, 'bother': 4486, 'waste': 4487, 'refuge': 4488, 'pianos': 4489, 'slowing': 4490, 'robins': 4491, 'wheeled': 4492, 'pale': 4493, 'thigh': 4494, 'spy': 4495, 'scoot': 4496, 'rides': 4497, 'adjustable': 4498, 'humorous': 4499, 'wireless': 4500, 'uses': 4501, 'defending': 4502, 'thicker': 4503, \"seesaw's\": 4504, 'tanning': 4505, 'incorrectly': 4506, 'gaining': 4507, 'pleasure': 4508, 'tackled': 4509, 'cruelty': 4510, 'bout': 4511, 'splash': 4512, 'caring': 4513, 'organizational': 4514, 'went': 4515, 'ballroom': 4516, 'numbers': 4517, \"man''s\": 4518, 'escorts': 4519, 'consider': 4520, 'mortal': 4521, 'printed': 4522, 'cruelly': 4523, 'loveless': 4524, 'posed': 4525, 'choreographed': 4526, 'uncomfortably': 4527, 'learn': 4528, 'chocolate': 4529, 'expressions': 4530, 'drowned': 4531, 'patient': 4532, 'oranges': 4533, 'thunderstorm': 4534, 'rolled': 4535, 'mastered': 4536, 'relies': 4537, 'survive': 4538, 'card': 4539, 'toga': 4540, 'filming': 4541, 'smoke': 4542, 'exist': 4543, 'sync': 4544, 'employed': 4545, 'objecting': 4546, 'smooth': 4547, 'blood': 4548, 'removed': 4549, 'doctors': 4550, 'runs': 4551, 'hula': 4552, 'aa': 4553, 'concrete': 4554, \"butterfly's\": 4555, 'overpopulated': 4556, 'goals': 4557, 'planks': 4558, 'lava': 4559, 'promote': 4560, 'ambiance': 4561, 'pyramid': 4562, 'feather': 4563, 'pence': 4564, 'pounds': 4565, 'notepad': 4566, 'fond': 4567, 'mimicking': 4568, 'ashes': 4569, 'irritating': 4570, 'storming': 4571, 'thundercloud': 4572, 'instrument': 4573, 'portions': 4574, \"books'\": 4575, 'overwhelmed': 4576, 'ponies': 4577, 'childhood': 4578, 'escaping': 4579, 'mittens': 4580, 'blouse': 4581, 'accommodate': 4582, 'qualify': 4583, 'busted': 4584, \"parent's\": 4585, 'bobbed': 4586, 'extend': 4587, 'popping': 4588, 'distress': 4589, 'heeled': 4590, 'stereo': 4591, 'speakers': 4592, 'soil': 4593, \"weatherman's\": 4594, 'forecast': 4595, 'mommy': 4596, 'overheat': 4597, 'shaggy': 4598, 'scream': 4599, 'ph': 4600, 'chaser': 4601, 'followed': 4602, 'e': 4603, 'releasing': 4604, 'adjust': 4605, 'famous': 4606, \"'old\": 4607, \"testament'\": 4608, 'possibility': 4609, 'wildflowers': 4610, \"shirt's\": 4611, \"everyone's\": 4612, 'toasted': 4613, 'jesus': 4614, \"year's\": 4615, 'eve': 4616, 'cactus': 4617, 'emptying': 4618, 'explaining': 4619, 'nationality': 4620, \"hair's\": 4621, 'grip': 4622, 'rollers': 4623, 'hut': 4624, 'hearth': 4625, 'showdown': 4626, 'lacking': 4627, 'decoration': 4628, 'compact': 4629, 'bills': 4630, 'solo': 4631, 'brand': 4632, 'grumpy': 4633, 'variations': 4634, 'grows': 4635, 'ambitious': 4636, 'spilling': 4637, 'obama': 4638, 'fabrics': 4639, 're': 4640}\n"
     ]
    },
    {
     "name": "stdout",
     "output_type": "stream",
     "text": [
      "Example question bag of words: [0. 0. 0. ... 0. 0. 0.]\n",
      "Example model output: [0. 0. 0. 0. 0. 0. 0. 0. 0. 0. 0. 0. 0. 0. 0. 0. 0. 0. 0. 0. 0. 0. 0. 0.\n",
      " 0. 0. 0. 0. 0. 0. 0. 1. 0. 0. 0. 0. 0. 0. 0. 0. 0. 0. 0. 0. 0. 0. 0. 0.\n",
      " 0. 0. 0. 0. 0. 0. 0. 0. 0. 0.]\n"
     ]
    }
   ],
   "source": [
    "tokenizer = Tokenizer()\n",
    "tokenizer.fit_on_texts(train_questions) #Updates internal vocabulary based on a list of texts.\n",
    "tokenizer.fit_on_texts(test_questions) \n",
    "\n",
    "# We add one because the Keras Tokenizer reserves index 0 and never uses it.\n",
    "vocab_size = len(tokenizer.word_index)+1\n",
    "print(f'Vocab Size: {vocab_size}')\n",
    "print(tokenizer.word_index)\n",
    "\n",
    "#Converting questions to bags of words (BOW)\n",
    "train_X_seqs = tokenizer.texts_to_matrix(train_questions)\n",
    "train_Y_seqs = tokenizer.texts_to_matrix(test_questions)\n",
    "print(f'Example question bag of words: {train_X_seqs[0]}')\n",
    "\n",
    "#Creating model input images\n",
    "train_X_ims = np.array([train_images[id] for id in train_image_ids])\n",
    "test_X_ims = np.array([train_images[id] for id in test_image_ids])\n",
    "\n",
    "#Creating model outputs\n",
    "train_answer_indices = [classes[a] for a in train_answers]\n",
    "train_Y = to_categorical(train_answer_indices)\n",
    "print(f'Example model output: {train_Y[0]}')"
   ]
  },
  {
   "cell_type": "code",
   "execution_count": 28,
   "metadata": {
    "id": "YlOdkwDqCfDU"
   },
   "outputs": [],
   "source": [
    "from tensorflow.keras.models import Model\n",
    "from tensorflow.keras.layers import Input, Dense, Conv2D, MaxPooling2D, Flatten, Multiply\n",
    "from tensorflow.keras.optimizers import Adam\n",
    "from keras.models import Sequential\n",
    "from keras.layers.core import Dense, Dropout, Activation, Reshape\n",
    "from keras.layers.recurrent import LSTM\n",
    "from keras.layers import merge\n",
    "from keras.layers.merge import Concatenate\n",
    "\n",
    "def build_model(im_shape, vocab_size, num_answers):\n",
    " \n",
    "    # The CNN\n",
    "    im_input = Input(shape=im_shape)\n",
    "\n",
    "    x1 = Conv2D(8, 3, padding='same')(im_input)\n",
    "    x1 = MaxPooling2D()(x1)\n",
    "    x1 = Conv2D(16, 3, padding='same')(x1)\n",
    "    x1 = MaxPooling2D()(x1)\n",
    "    x1 = Flatten()(x1)\n",
    "    x1 = Dense(32, activation='tanh')(x1)\n",
    "\n",
    "    # The question network\n",
    "    q_input = Input(shape=(vocab_size,))\n",
    "    x2 = Dense(32, activation='tanh')(q_input)\n",
    "    x2 = Dense(32, activation='tanh')(x2)\n",
    "\n",
    "    # Merge -> output\n",
    "    out = Multiply()([x1, x2])\n",
    "    out = Dense(32, activation='tanh')(out)\n",
    "    out = Dense(num_answers, activation='softmax')(out)\n",
    "\n",
    "    model = Model(inputs=[im_input, q_input], outputs=out)\n",
    "\n",
    "    return model"
   ]
  },
  {
   "cell_type": "code",
   "execution_count": 29,
   "metadata": {},
   "outputs": [
    {
     "name": "stdout",
     "output_type": "stream",
     "text": [
      "Model: \"model_1\"\n",
      "__________________________________________________________________________________________________\n",
      "Layer (type)                    Output Shape         Param #     Connected to                     \n",
      "==================================================================================================\n",
      "input_3 (InputLayer)            [(None, 32, 32, 4)]  0                                            \n",
      "__________________________________________________________________________________________________\n",
      "conv2d (Conv2D)                 (None, 32, 32, 8)    296         input_3[0][0]                    \n",
      "__________________________________________________________________________________________________\n",
      "max_pooling2d (MaxPooling2D)    (None, 16, 16, 8)    0           conv2d[0][0]                     \n",
      "__________________________________________________________________________________________________\n",
      "conv2d_1 (Conv2D)               (None, 16, 16, 16)   1168        max_pooling2d[0][0]              \n",
      "__________________________________________________________________________________________________\n",
      "max_pooling2d_1 (MaxPooling2D)  (None, 8, 8, 16)     0           conv2d_1[0][0]                   \n",
      "__________________________________________________________________________________________________\n",
      "input_4 (InputLayer)            [(None, 4641)]       0                                            \n",
      "__________________________________________________________________________________________________\n",
      "flatten_1 (Flatten)             (None, 1024)         0           max_pooling2d_1[0][0]            \n",
      "__________________________________________________________________________________________________\n",
      "dense_6 (Dense)                 (None, 32)           148544      input_4[0][0]                    \n",
      "__________________________________________________________________________________________________\n",
      "dense_5 (Dense)                 (None, 32)           32800       flatten_1[0][0]                  \n",
      "__________________________________________________________________________________________________\n",
      "dense_7 (Dense)                 (None, 32)           1056        dense_6[0][0]                    \n",
      "__________________________________________________________________________________________________\n",
      "multiply_1 (Multiply)           (None, 32)           0           dense_5[0][0]                    \n",
      "                                                                 dense_7[0][0]                    \n",
      "__________________________________________________________________________________________________\n",
      "dense_8 (Dense)                 (None, 32)           1056        multiply_1[0][0]                 \n",
      "__________________________________________________________________________________________________\n",
      "dense_9 (Dense)                 (None, 58)           1914        dense_8[0][0]                    \n",
      "==================================================================================================\n",
      "Total params: 186,834\n",
      "Trainable params: 186,834\n",
      "Non-trainable params: 0\n",
      "__________________________________________________________________________________________________\n"
     ]
    }
   ],
   "source": [
    "model = build_model((32,32,4), vocab_size, num_answers)\n",
    "\n",
    "model.compile(Adam(lr=5e-4), loss='categorical_crossentropy', metrics=['accuracy'])\n",
    "\n",
    "model.summary()"
   ]
  },
  {
   "cell_type": "markdown",
   "metadata": {},
   "source": [
    "### TRAINING\n",
    "We chosed Early Stopping with patience 10"
   ]
  },
  {
   "cell_type": "code",
   "execution_count": 30,
   "metadata": {},
   "outputs": [
    {
     "name": "stdout",
     "output_type": "stream",
     "text": [
      "Epoch 1/50\n",
      "1471/1471 [==============================] - 10s 5ms/step - loss: 2.2407 - accuracy: 0.3901 - val_loss: 1.3727 - val_accuracy: 0.5171\n",
      "Epoch 2/50\n",
      "1471/1471 [==============================] - 6s 4ms/step - loss: 1.3075 - accuracy: 0.5375 - val_loss: 1.2181 - val_accuracy: 0.5504\n",
      "Epoch 3/50\n",
      "1471/1471 [==============================] - 7s 5ms/step - loss: 1.1615 - accuracy: 0.5753 - val_loss: 1.1469 - val_accuracy: 0.5724\n",
      "Epoch 4/50\n",
      "1471/1471 [==============================] - 6s 4ms/step - loss: 1.0614 - accuracy: 0.6027 - val_loss: 1.1067 - val_accuracy: 0.5826\n",
      "Epoch 5/50\n",
      "1471/1471 [==============================] - 7s 5ms/step - loss: 1.0114 - accuracy: 0.6193 - val_loss: 1.0860 - val_accuracy: 0.5865\n",
      "Epoch 6/50\n",
      "1471/1471 [==============================] - 7s 4ms/step - loss: 0.9694 - accuracy: 0.6348 - val_loss: 1.0681 - val_accuracy: 0.5982\n",
      "Epoch 7/50\n",
      "1471/1471 [==============================] - 7s 4ms/step - loss: 0.9333 - accuracy: 0.6466 - val_loss: 1.0669 - val_accuracy: 0.5905\n",
      "Epoch 8/50\n",
      "1471/1471 [==============================] - 7s 5ms/step - loss: 0.9083 - accuracy: 0.6503 - val_loss: 1.0569 - val_accuracy: 0.5989\n",
      "Epoch 9/50\n",
      "1471/1471 [==============================] - 7s 5ms/step - loss: 0.8880 - accuracy: 0.6579 - val_loss: 1.0593 - val_accuracy: 0.5970\n",
      "Epoch 10/50\n",
      "1471/1471 [==============================] - 7s 5ms/step - loss: 0.8730 - accuracy: 0.6649 - val_loss: 1.0544 - val_accuracy: 0.6033\n",
      "Epoch 11/50\n",
      "1471/1471 [==============================] - 6s 4ms/step - loss: 0.8494 - accuracy: 0.6734 - val_loss: 1.0577 - val_accuracy: 0.6002\n",
      "Epoch 12/50\n",
      "1471/1471 [==============================] - 6s 4ms/step - loss: 0.8369 - accuracy: 0.6721 - val_loss: 1.0610 - val_accuracy: 0.6010\n",
      "Epoch 13/50\n",
      "1471/1471 [==============================] - 7s 5ms/step - loss: 0.8234 - accuracy: 0.6829 - val_loss: 1.0666 - val_accuracy: 0.6007\n",
      "Epoch 14/50\n",
      "1471/1471 [==============================] - 7s 5ms/step - loss: 0.8181 - accuracy: 0.6857 - val_loss: 1.0714 - val_accuracy: 0.6025\n",
      "Epoch 15/50\n",
      "1471/1471 [==============================] - 6s 4ms/step - loss: 0.7988 - accuracy: 0.6866 - val_loss: 1.0723 - val_accuracy: 0.6001\n",
      "Epoch 16/50\n",
      "1471/1471 [==============================] - 7s 5ms/step - loss: 0.7975 - accuracy: 0.6905 - val_loss: 1.0837 - val_accuracy: 0.5950\n",
      "Epoch 17/50\n",
      "1471/1471 [==============================] - 6s 4ms/step - loss: 0.7879 - accuracy: 0.6956 - val_loss: 1.0789 - val_accuracy: 0.6062\n",
      "Epoch 18/50\n",
      "1471/1471 [==============================] - 7s 5ms/step - loss: 0.7655 - accuracy: 0.7004 - val_loss: 1.0900 - val_accuracy: 0.6024\n",
      "Epoch 19/50\n",
      "1471/1471 [==============================] - 7s 5ms/step - loss: 0.7604 - accuracy: 0.7057 - val_loss: 1.0899 - val_accuracy: 0.6031\n",
      "Epoch 20/50\n",
      "1471/1471 [==============================] - 6s 4ms/step - loss: 0.7530 - accuracy: 0.7080 - val_loss: 1.1053 - val_accuracy: 0.6010\n"
     ]
    },
    {
     "data": {
      "text/plain": [
       "<tensorflow.python.keras.callbacks.History at 0x7ff01825a8d0>"
      ]
     },
     "execution_count": 30,
     "metadata": {},
     "output_type": "execute_result"
    }
   ],
   "source": [
    "callbacks = []\n",
    "\n",
    "# Early Stopping\n",
    "early_stop = True\n",
    "if early_stop:\n",
    "    es_callback = tf.keras.callbacks.EarlyStopping(monitor='val_loss', patience=10)\n",
    "    callbacks.append(es_callback)\n",
    "\n",
    "model.fit(\n",
    "  [train_X_ims, train_X_seqs],\n",
    "  train_Y,\n",
    "  validation_split=0.2,\n",
    "  epochs=50,\n",
    "  callbacks=callbacks,\n",
    ")"
   ]
  },
  {
   "cell_type": "markdown",
   "metadata": {},
   "source": [
    "### CSV creation"
   ]
  },
  {
   "cell_type": "code",
   "execution_count": 31,
   "metadata": {},
   "outputs": [],
   "source": [
    "from datetime import datetime\n",
    "\n",
    "def create_csv(results, results_dir='./'):\n",
    "\n",
    "    csv_fname = 'results_'\n",
    "    csv_fname += datetime.now().strftime('%b%d_%H-%M-%S') + '.csv'\n",
    "    with open(os.path.join(results_dir, csv_fname), 'w') as f:\n",
    "        f.write('Id,Category\\n')\n",
    "        for key, value in results.items():\n",
    "            f.write(key + ',' + str(value) + '\\n')"
   ]
  },
  {
   "cell_type": "markdown",
   "metadata": {},
   "source": [
    "#### PREDICTIONs"
   ]
  },
  {
   "cell_type": "code",
   "execution_count": 32,
   "metadata": {},
   "outputs": [],
   "source": [
    "predictions = model.predict([test_X_ims,train_Y_seqs])"
   ]
  },
  {
   "cell_type": "markdown",
   "metadata": {},
   "source": [
    "#### Take a random prediction and show his activations"
   ]
  },
  {
   "cell_type": "code",
   "execution_count": 36,
   "metadata": {},
   "outputs": [
    {
     "data": {
      "text/plain": [
       "<Figure size 1440x576 with 0 Axes>"
      ]
     },
     "execution_count": 36,
     "metadata": {},
     "output_type": "execute_result"
    },
    {
     "data": {
      "text/plain": [
       "([0,\n",
       "  1,\n",
       "  2,\n",
       "  3,\n",
       "  4,\n",
       "  5,\n",
       "  6,\n",
       "  7,\n",
       "  8,\n",
       "  9,\n",
       "  10,\n",
       "  11,\n",
       "  12,\n",
       "  13,\n",
       "  14,\n",
       "  15,\n",
       "  16,\n",
       "  17,\n",
       "  18,\n",
       "  19,\n",
       "  20,\n",
       "  21,\n",
       "  22,\n",
       "  23,\n",
       "  24,\n",
       "  25,\n",
       "  26,\n",
       "  27,\n",
       "  28,\n",
       "  29,\n",
       "  30,\n",
       "  31,\n",
       "  32,\n",
       "  33,\n",
       "  34,\n",
       "  35,\n",
       "  36,\n",
       "  37,\n",
       "  38,\n",
       "  39,\n",
       "  40,\n",
       "  41,\n",
       "  42,\n",
       "  43,\n",
       "  44,\n",
       "  45,\n",
       "  46,\n",
       "  47,\n",
       "  48,\n",
       "  49,\n",
       "  50,\n",
       "  51,\n",
       "  52,\n",
       "  53,\n",
       "  54,\n",
       "  55,\n",
       "  56,\n",
       "  57],\n",
       " [Text(0, 0, ''),\n",
       "  Text(0, 0, ''),\n",
       "  Text(0, 0, ''),\n",
       "  Text(0, 0, ''),\n",
       "  Text(0, 0, ''),\n",
       "  Text(0, 0, ''),\n",
       "  Text(0, 0, ''),\n",
       "  Text(0, 0, ''),\n",
       "  Text(0, 0, ''),\n",
       "  Text(0, 0, ''),\n",
       "  Text(0, 0, ''),\n",
       "  Text(0, 0, ''),\n",
       "  Text(0, 0, ''),\n",
       "  Text(0, 0, ''),\n",
       "  Text(0, 0, ''),\n",
       "  Text(0, 0, ''),\n",
       "  Text(0, 0, ''),\n",
       "  Text(0, 0, ''),\n",
       "  Text(0, 0, ''),\n",
       "  Text(0, 0, ''),\n",
       "  Text(0, 0, ''),\n",
       "  Text(0, 0, ''),\n",
       "  Text(0, 0, ''),\n",
       "  Text(0, 0, ''),\n",
       "  Text(0, 0, ''),\n",
       "  Text(0, 0, ''),\n",
       "  Text(0, 0, ''),\n",
       "  Text(0, 0, ''),\n",
       "  Text(0, 0, ''),\n",
       "  Text(0, 0, ''),\n",
       "  Text(0, 0, ''),\n",
       "  Text(0, 0, ''),\n",
       "  Text(0, 0, ''),\n",
       "  Text(0, 0, ''),\n",
       "  Text(0, 0, ''),\n",
       "  Text(0, 0, ''),\n",
       "  Text(0, 0, ''),\n",
       "  Text(0, 0, ''),\n",
       "  Text(0, 0, ''),\n",
       "  Text(0, 0, ''),\n",
       "  Text(0, 0, ''),\n",
       "  Text(0, 0, ''),\n",
       "  Text(0, 0, ''),\n",
       "  Text(0, 0, ''),\n",
       "  Text(0, 0, ''),\n",
       "  Text(0, 0, ''),\n",
       "  Text(0, 0, ''),\n",
       "  Text(0, 0, ''),\n",
       "  Text(0, 0, ''),\n",
       "  Text(0, 0, ''),\n",
       "  Text(0, 0, ''),\n",
       "  Text(0, 0, ''),\n",
       "  Text(0, 0, ''),\n",
       "  Text(0, 0, ''),\n",
       "  Text(0, 0, ''),\n",
       "  Text(0, 0, ''),\n",
       "  Text(0, 0, ''),\n",
       "  Text(0, 0, '')])"
      ]
     },
     "execution_count": 36,
     "metadata": {},
     "output_type": "execute_result"
    },
    {
     "data": {
      "image/png": "[encoded data removed]",
      "text/plain": [
       "<Figure size 1440x576 with 1 Axes>"
      ]
     },
     "metadata": {
      "needs_background": "light"
     },
     "output_type": "display_data"
    }
   ],
   "source": [
    "import random\n",
    "import numpy as np\n",
    "import matplotlib.pyplot as plt\n",
    "\n",
    "n = random.randint(1,1000)\n",
    "\n",
    "labels = []\n",
    "for key,value in classes.items():\n",
    "    labels.append(key)\n",
    "\n",
    "height = predictions[n]\n",
    "max = np.argmax(height)\n",
    "plt.figure(figsize=(20,8))\n",
    "bars = plt.bar(labels, height)\n",
    "bars[max].set_color('r')\n",
    "plt.xticks(rotation=90)\n",
    "plt.show()"
   ]
  },
  {
   "cell_type": "markdown",
   "metadata": {},
   "source": [
    "#### argmax from predictions"
   ]
  },
  {
   "cell_type": "code",
   "execution_count": 34,
   "metadata": {},
   "outputs": [],
   "source": [
    "results = {}\n",
    "\n",
    "for i in range(0,len(predictions)):\n",
    "   \n",
    "    current_prediction = predictions[i]\n",
    "    predict = np.argmax(current_prediction)\n",
    "    results[test_question_ids[i]] = str(predict)\n",
    "    i += 1"
   ]
  },
  {
   "cell_type": "code",
   "execution_count": 35,
   "metadata": {},
   "outputs": [],
   "source": [
    "create_csv(results)"
   ]
  }
 ],
 "metadata": {
  "kernelspec": {
   "display_name": "Python 3",
   "language": "python",
   "name": "python3"
  },
  "language_info": {
   "codemirror_mode": {
    "name": "ipython",
    "version": 3
   },
   "file_extension": ".py",
   "mimetype": "text/x-python",
   "name": "python",
   "nbconvert_exporter": "python",
   "pygments_lexer": "ipython3",
   "version": "3.7.9"
  }
 },
 "nbformat": 4,
 "nbformat_minor": 4
}
